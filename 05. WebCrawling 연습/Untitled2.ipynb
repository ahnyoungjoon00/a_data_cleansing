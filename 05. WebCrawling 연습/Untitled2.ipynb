{
 "cells": [
  {
   "cell_type": "code",
   "execution_count": 1,
   "id": "eef56ff3-2067-47f6-8066-91eecf7e548a",
   "metadata": {},
   "outputs": [],
   "source": [
    "import tensorflow as tf\n",
    "from tensorflow import keras"
   ]
  },
  {
   "cell_type": "code",
   "execution_count": 2,
   "id": "964becc5-79d6-4df7-8fce-7eb652e4ed35",
   "metadata": {},
   "outputs": [
    {
     "name": "stdout",
     "output_type": "stream",
     "text": [
      "['__builtins__', '__cached__', '__doc__', '__file__', '__loader__', '__name__', '__package__', '__path__', '__spec__', '_sys', 'deserialize', 'elu', 'exponential', 'gelu', 'get', 'hard_sigmoid', 'linear', 'relu', 'selu', 'serialize', 'sigmoid', 'softmax', 'softplus', 'softsign', 'swish', 'tanh']\n"
     ]
    }
   ],
   "source": [
    "print(dir(tf.keras.activations))"
   ]
  },
  {
   "cell_type": "code",
   "execution_count": 3,
   "id": "58925e17-4c27-4ede-a699-a6a4b45bb214",
   "metadata": {},
   "outputs": [],
   "source": [
    "import numpy as np\n",
    "import matplotlib.pyplot as plt"
   ]
  },
  {
   "cell_type": "code",
   "execution_count": 4,
   "id": "c5365063-b0af-408e-89a0-5413d9352220",
   "metadata": {},
   "outputs": [],
   "source": [
    "x = np.arange(-10, 10, 0.1)"
   ]
  },
  {
   "cell_type": "code",
   "execution_count": 5,
   "id": "bcba192b-571e-4d69-bacc-1c8d705a34d7",
   "metadata": {},
   "outputs": [
    {
     "data": {
      "text/plain": [
       "<tf.Tensor: shape=(200,), dtype=float64, numpy=\n",
       "array([4.53978687e-05, 5.01721647e-05, 5.54485247e-05, 6.12797396e-05,\n",
       "       6.77241496e-05, 7.48462275e-05, 8.27172229e-05, 9.14158739e-05,\n",
       "       1.01029194e-04, 1.11653341e-04, 1.23394576e-04, 1.36370327e-04,\n",
       "       1.50710358e-04, 1.66558065e-04, 1.84071905e-04, 2.03426978e-04,\n",
       "       2.24816770e-04, 2.48455082e-04, 2.74578156e-04, 3.03447030e-04,\n",
       "       3.35350130e-04, 3.70606141e-04, 4.09567165e-04, 4.52622223e-04,\n",
       "       5.00201107e-04, 5.52778637e-04, 6.10879359e-04, 6.75082731e-04,\n",
       "       7.46028834e-04, 8.24424686e-04, 9.11051194e-04, 1.00677082e-03,\n",
       "       1.11253603e-03, 1.22939862e-03, 1.35851995e-03, 1.50118226e-03,\n",
       "       1.65880108e-03, 1.83293894e-03, 2.02532039e-03, 2.23784852e-03,\n",
       "       2.47262316e-03, 2.73196076e-03, 3.01841632e-03, 3.33480731e-03,\n",
       "       3.68423990e-03, 4.07013772e-03, 4.49627316e-03, 4.96680165e-03,\n",
       "       5.48629890e-03, 6.05980149e-03, 6.69285092e-03, 7.39154134e-03,\n",
       "       8.16257115e-03, 9.01329865e-03, 9.95180187e-03, 1.09869426e-02,\n",
       "       1.21284350e-02, 1.33869178e-02, 1.47740317e-02, 1.63024994e-02,\n",
       "       1.79862100e-02, 1.98403057e-02, 2.18812709e-02, 2.41270214e-02,\n",
       "       2.65969936e-02, 2.93122308e-02, 3.22954647e-02, 3.55711893e-02,\n",
       "       3.91657228e-02, 4.31072549e-02, 4.74258732e-02, 5.21535631e-02,\n",
       "       5.73241759e-02, 6.29733561e-02, 6.91384203e-02, 7.58581800e-02,\n",
       "       8.31726965e-02, 9.11229610e-02, 9.97504891e-02, 1.09096821e-01,\n",
       "       1.19202922e-01, 1.30108474e-01, 1.41851065e-01, 1.54465265e-01,\n",
       "       1.67981615e-01, 1.82425524e-01, 1.97816111e-01, 2.14165017e-01,\n",
       "       2.31475217e-01, 2.49739894e-01, 2.68941421e-01, 2.89050497e-01,\n",
       "       3.10025519e-01, 3.31812228e-01, 3.54343694e-01, 3.77540669e-01,\n",
       "       4.01312340e-01, 4.25557483e-01, 4.50166003e-01, 4.75020813e-01,\n",
       "       5.00000000e-01, 5.24979187e-01, 5.49833997e-01, 5.74442517e-01,\n",
       "       5.98687660e-01, 6.22459331e-01, 6.45656306e-01, 6.68187772e-01,\n",
       "       6.89974481e-01, 7.10949503e-01, 7.31058579e-01, 7.50260106e-01,\n",
       "       7.68524783e-01, 7.85834983e-01, 8.02183889e-01, 8.17574476e-01,\n",
       "       8.32018385e-01, 8.45534735e-01, 8.58148935e-01, 8.69891526e-01,\n",
       "       8.80797078e-01, 8.90903179e-01, 9.00249511e-01, 9.08877039e-01,\n",
       "       9.16827304e-01, 9.24141820e-01, 9.30861580e-01, 9.37026644e-01,\n",
       "       9.42675824e-01, 9.47846437e-01, 9.52574127e-01, 9.56892745e-01,\n",
       "       9.60834277e-01, 9.64428811e-01, 9.67704535e-01, 9.70687769e-01,\n",
       "       9.73403006e-01, 9.75872979e-01, 9.78118729e-01, 9.80159694e-01,\n",
       "       9.82013790e-01, 9.83697501e-01, 9.85225968e-01, 9.86613082e-01,\n",
       "       9.87871565e-01, 9.89013057e-01, 9.90048198e-01, 9.90986701e-01,\n",
       "       9.91837429e-01, 9.92608459e-01, 9.93307149e-01, 9.93940199e-01,\n",
       "       9.94513701e-01, 9.95033198e-01, 9.95503727e-01, 9.95929862e-01,\n",
       "       9.96315760e-01, 9.96665193e-01, 9.96981584e-01, 9.97268039e-01,\n",
       "       9.97527377e-01, 9.97762151e-01, 9.97974680e-01, 9.98167061e-01,\n",
       "       9.98341199e-01, 9.98498818e-01, 9.98641480e-01, 9.98770601e-01,\n",
       "       9.98887464e-01, 9.98993229e-01, 9.99088949e-01, 9.99175575e-01,\n",
       "       9.99253971e-01, 9.99324917e-01, 9.99389121e-01, 9.99447221e-01,\n",
       "       9.99499799e-01, 9.99547378e-01, 9.99590433e-01, 9.99629394e-01,\n",
       "       9.99664650e-01, 9.99696553e-01, 9.99725422e-01, 9.99751545e-01,\n",
       "       9.99775183e-01, 9.99796573e-01, 9.99815928e-01, 9.99833442e-01,\n",
       "       9.99849290e-01, 9.99863630e-01, 9.99876605e-01, 9.99888347e-01,\n",
       "       9.99898971e-01, 9.99908584e-01, 9.99917283e-01, 9.99925154e-01,\n",
       "       9.99932276e-01, 9.99938720e-01, 9.99944551e-01, 9.99949828e-01])>"
      ]
     },
     "execution_count": 5,
     "metadata": {},
     "output_type": "execute_result"
    }
   ],
   "source": [
    "tf.keras.activations.sigmoid(x)"
   ]
  },
  {
   "cell_type": "code",
   "execution_count": 6,
   "id": "a9ca3e5c-7124-4c87-9e1a-8e5c4dc1a4dd",
   "metadata": {},
   "outputs": [
    {
     "data": {
      "text/plain": [
       "<matplotlib.legend.Legend at 0x227146619d0>"
      ]
     },
     "execution_count": 6,
     "metadata": {},
     "output_type": "execute_result"
    },
    {
     "data": {
      "image/png": "[encoded data removed]",
      "text/plain": [
       "<Figure size 432x288 with 1 Axes>"
      ]
     },
     "metadata": {
      "needs_background": "light"
     },
     "output_type": "display_data"
    }
   ],
   "source": [
    "plt.plot(x, tf.keras.activations.sigmoid(x), linestyle = \"--\", label = \"linear\")\n",
    "plt.legend()"
   ]
  },
  {
   "cell_type": "code",
   "execution_count": 7,
   "id": "743226ca-5590-49ce-aac5-0f4e9c6ea944",
   "metadata": {},
   "outputs": [
    {
     "data": {
      "text/plain": [
       "<tf.Tensor: shape=(200,), dtype=float64, numpy=\n",
       "array([0. , 0. , 0. , 0. , 0. , 0. , 0. , 0. , 0. , 0. , 0. , 0. , 0. ,\n",
       "       0. , 0. , 0. , 0. , 0. , 0. , 0. , 0. , 0. , 0. , 0. , 0. , 0. ,\n",
       "       0. , 0. , 0. , 0. , 0. , 0. , 0. , 0. , 0. , 0. , 0. , 0. , 0. ,\n",
       "       0. , 0. , 0. , 0. , 0. , 0. , 0. , 0. , 0. , 0. , 0. , 0. , 0. ,\n",
       "       0. , 0. , 0. , 0. , 0. , 0. , 0. , 0. , 0. , 0. , 0. , 0. , 0. ,\n",
       "       0. , 0. , 0. , 0. , 0. , 0. , 0. , 0. , 0. , 0. , 0. , 0. , 0. ,\n",
       "       0. , 0. , 0. , 0. , 0. , 0. , 0. , 0. , 0. , 0. , 0. , 0. , 0. ,\n",
       "       0. , 0. , 0. , 0. , 0. , 0. , 0. , 0. , 0. , 0. , 0.1, 0.2, 0.3,\n",
       "       0.4, 0.5, 0.6, 0.7, 0.8, 0.9, 1. , 1.1, 1.2, 1.3, 1.4, 1.5, 1.6,\n",
       "       1.7, 1.8, 1.9, 2. , 2.1, 2.2, 2.3, 2.4, 2.5, 2.6, 2.7, 2.8, 2.9,\n",
       "       3. , 3.1, 3.2, 3.3, 3.4, 3.5, 3.6, 3.7, 3.8, 3.9, 4. , 4.1, 4.2,\n",
       "       4.3, 4.4, 4.5, 4.6, 4.7, 4.8, 4.9, 5. , 5.1, 5.2, 5.3, 5.4, 5.5,\n",
       "       5.6, 5.7, 5.8, 5.9, 6. , 6.1, 6.2, 6.3, 6.4, 6.5, 6.6, 6.7, 6.8,\n",
       "       6.9, 7. , 7.1, 7.2, 7.3, 7.4, 7.5, 7.6, 7.7, 7.8, 7.9, 8. , 8.1,\n",
       "       8.2, 8.3, 8.4, 8.5, 8.6, 8.7, 8.8, 8.9, 9. , 9.1, 9.2, 9.3, 9.4,\n",
       "       9.5, 9.6, 9.7, 9.8, 9.9])>"
      ]
     },
     "execution_count": 7,
     "metadata": {},
     "output_type": "execute_result"
    }
   ],
   "source": [
    "tf.keras.activations.relu(x)"
   ]
  },
  {
   "cell_type": "code",
   "execution_count": 8,
   "id": "c8b20ec6-63ec-49a4-8842-0093d93118e5",
   "metadata": {},
   "outputs": [
    {
     "data": {
      "text/plain": [
       "<matplotlib.legend.Legend at 0x2271788c8b0>"
      ]
     },
     "execution_count": 8,
     "metadata": {},
     "output_type": "execute_result"
    },
    {
     "data": {
      "image/png": "[encoded data removed]",
      "text/plain": [
       "<Figure size 432x288 with 1 Axes>"
      ]
     },
     "metadata": {
      "needs_background": "light"
     },
     "output_type": "display_data"
    }
   ],
   "source": [
    "plt.plot(x, tf.keras.activations.relu(x), linestyle = \"--\", label = \"linear\")\n",
    "plt.legend()"
   ]
  },
  {
   "cell_type": "code",
   "execution_count": 9,
   "id": "4999ba8b-897b-4114-aadf-7147cf028f05",
   "metadata": {},
   "outputs": [],
   "source": [
    "model = tf.keras.models.Sequential([\n",
    "    tf.keras.layers.Flatten(input_shape = (28, 28)),\n",
    "    tf.keras.layers.Dense(128, activation = \"relu\"),\n",
    "    tf.keras.layers.Dense(10, activation = \"softmax\")\n",
    "])"
   ]
  },
  {
   "cell_type": "code",
   "execution_count": 10,
   "id": "2ea4b404-73ca-48d6-9444-bdb4e1a9c693",
   "metadata": {},
   "outputs": [
    {
     "name": "stdout",
     "output_type": "stream",
     "text": [
      "Model: \"sequential\"\n",
      "_________________________________________________________________\n",
      " Layer (type)                Output Shape              Param #   \n",
      "=================================================================\n",
      " flatten (Flatten)           (None, 784)               0         \n",
      "                                                                 \n",
      " dense (Dense)               (None, 128)               100480    \n",
      "                                                                 \n",
      " dense_1 (Dense)             (None, 10)                1290      \n",
      "                                                                 \n",
      "=================================================================\n",
      "Total params: 101,770\n",
      "Trainable params: 101,770\n",
      "Non-trainable params: 0\n",
      "_________________________________________________________________\n"
     ]
    }
   ],
   "source": [
    "model.summary()"
   ]
  },
  {
   "cell_type": "code",
   "execution_count": 11,
   "id": "d2da410d-8957-4992-bbc0-95661c4e4aaa",
   "metadata": {},
   "outputs": [
    {
     "name": "stdout",
     "output_type": "stream",
     "text": [
      "['Adadelta', 'Adagrad', 'Adam', 'Adamax', 'Ftrl', 'Nadam', 'Optimizer', 'RMSprop', 'SGD', '__builtins__', '__cached__', '__doc__', '__file__', '__loader__', '__name__', '__package__', '__path__', '__spec__', '_sys', 'deserialize', 'experimental', 'get', 'legacy', 'schedules', 'serialize']\n"
     ]
    }
   ],
   "source": [
    "print(dir(tf.keras.optimizers))"
   ]
  },
  {
   "cell_type": "code",
   "execution_count": 12,
   "id": "ae436b08-bc49-4bfc-bd16-cbfc66770623",
   "metadata": {},
   "outputs": [
    {
     "data": {
      "text/plain": [
       "<keras.optimizers.optimizer_v2.adam.Adam at 0x22717a3b7c0>"
      ]
     },
     "execution_count": 12,
     "metadata": {},
     "output_type": "execute_result"
    }
   ],
   "source": [
    "tf.keras.optimizers.Adam(\n",
    "    learning_rate = 0.001,\n",
    "    beta_1 = 0.9,\n",
    "    beta_2 = 0.999,\n",
    "    epsilon = 1e-07,\n",
    "    amsgrad = False,\n",
    "    name = \"Adam\")"
   ]
  },
  {
   "cell_type": "code",
   "execution_count": 13,
   "id": "f35f64c2-c6d6-44b0-906b-b1aaecf4f105",
   "metadata": {},
   "outputs": [],
   "source": [
    "model.compile(optimizer = \"adam\",\n",
    "             loss = \"sparse_categorical_crossentropy\",\n",
    "             metrics = [\"accuracy\"])"
   ]
  },
  {
   "cell_type": "code",
   "execution_count": 14,
   "id": "38605c5a-6321-4ba5-849b-cc59fbca2c7c",
   "metadata": {},
   "outputs": [
    {
     "ename": "ModuleNotFoundError",
     "evalue": "No module named 'google.colab'",
     "output_type": "error",
     "traceback": [
      "\u001b[1;31m---------------------------------------------------------------------------\u001b[0m",
      "\u001b[1;31mModuleNotFoundError\u001b[0m                       Traceback (most recent call last)",
      "Input \u001b[1;32mIn [14]\u001b[0m, in \u001b[0;36m<cell line: 1>\u001b[1;34m()\u001b[0m\n\u001b[1;32m----> 1\u001b[0m \u001b[38;5;28;01mfrom\u001b[39;00m \u001b[38;5;21;01mgoogle\u001b[39;00m\u001b[38;5;21;01m.\u001b[39;00m\u001b[38;5;21;01mcolab\u001b[39;00m \u001b[38;5;28;01mimport\u001b[39;00m drive\n\u001b[0;32m      2\u001b[0m drive\u001b[38;5;241m.\u001b[39mmount(\u001b[38;5;124m\"\u001b[39m\u001b[38;5;124m/content/drive\u001b[39m\u001b[38;5;124m\"\u001b[39m)\n",
      "\u001b[1;31mModuleNotFoundError\u001b[0m: No module named 'google.colab'"
     ]
    }
   ],
   "source": [
    "from google.colab import drive\n",
    "drive.mount(\"/content/drive\")"
   ]
  },
  {
   "cell_type": "code",
   "execution_count": null,
   "id": "1db2d41a-eba9-4cb2-89eb-5224c5f09c35",
   "metadata": {},
   "outputs": [],
   "source": [
    "image_path = \"\"\n",
    "image_path"
   ]
  },
  {
   "cell_type": "code",
   "execution_count": 15,
   "id": "000e1b2d-8556-40b8-8778-d0391d5ba129",
   "metadata": {},
   "outputs": [
    {
     "ename": "NameError",
     "evalue": "name 'image_path' is not defined",
     "output_type": "error",
     "traceback": [
      "\u001b[1;31m---------------------------------------------------------------------------\u001b[0m",
      "\u001b[1;31mNameError\u001b[0m                                 Traceback (most recent call last)",
      "Input \u001b[1;32mIn [15]\u001b[0m, in \u001b[0;36m<cell line: 2>\u001b[1;34m()\u001b[0m\n\u001b[0;32m      1\u001b[0m \u001b[38;5;28;01mimport\u001b[39;00m \u001b[38;5;21;01mos\u001b[39;00m\n\u001b[1;32m----> 2\u001b[0m \u001b[38;5;28;01mfor\u001b[39;00m dirpath, dirnames, filenames \u001b[38;5;129;01min\u001b[39;00m os\u001b[38;5;241m.\u001b[39mwalk(\u001b[38;5;124mf\u001b[39m\u001b[38;5;124m'\u001b[39m\u001b[38;5;132;01m{\u001b[39;00mimage_path\u001b[38;5;132;01m}\u001b[39;00m\u001b[38;5;124m/images\u001b[39m\u001b[38;5;124m'\u001b[39m) :\n\u001b[0;32m      3\u001b[0m     \u001b[38;5;28mprint\u001b[39m(dirpath, dirnames)\n",
      "\u001b[1;31mNameError\u001b[0m: name 'image_path' is not defined"
     ]
    }
   ],
   "source": [
    "import os\n",
    "for dirpath, dirnames, filenames in os.walk(f'{image_path}/images') :\n",
    "    print(dirpath, dirnames)"
   ]
  },
  {
   "cell_type": "code",
   "execution_count": null,
   "id": "6bd98ffd-bf1b-4420-b7bc-bb7c37c7938a",
   "metadata": {},
   "outputs": [],
   "source": [
    "element = browser.find_element(By.CLASS_NAME, 'link_login')"
   ]
  }
 ],
 "metadata": {
  "kernelspec": {
   "display_name": "Python 3 (ipykernel)",
   "language": "python",
   "name": "python3"
  },
  "language_info": {
   "codemirror_mode": {
    "name": "ipython",
    "version": 3
   },
   "file_extension": ".py",
   "mimetype": "text/x-python",
   "name": "python",
   "nbconvert_exporter": "python",
   "pygments_lexer": "ipython3",
   "version": "3.9.12"
  }
 },
 "nbformat": 4,
 "nbformat_minor": 5
}
