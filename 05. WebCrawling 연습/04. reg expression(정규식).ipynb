{
 "cells": [
  {
   "cell_type": "code",
   "execution_count": 1,
   "id": "5fc90566-bb6a-4103-87fb-906eebddb57f",
   "metadata": {},
   "outputs": [],
   "source": [
    "import re"
   ]
  },
  {
   "cell_type": "code",
   "execution_count": 2,
   "id": "224afbfd-7db6-4a1a-90e2-5650c1e3dddb",
   "metadata": {},
   "outputs": [],
   "source": [
    "p = re.compile(\"ca.e\")"
   ]
  },
  {
   "cell_type": "code",
   "execution_count": 3,
   "id": "3488d14e-4bf2-4370-9ed6-abdb8b15821c",
   "metadata": {},
   "outputs": [],
   "source": [
    "# . (ca.e) : 하나의 문자를 의미 > cave, cafe, case, ... caffe(x)\n",
    "# ^ (^de) : 문자열의 시작 > desk, destination, ... fade(x)\n",
    "# $ (se$) : 문자열의 끝 > case, vase, base, ... "
   ]
  },
  {
   "cell_type": "code",
   "execution_count": 4,
   "id": "dbed877b-7dc4-4b43-89a8-6cc39e8739ee",
   "metadata": {},
   "outputs": [
    {
     "name": "stdout",
     "output_type": "stream",
     "text": [
      "case\n"
     ]
    }
   ],
   "source": [
    "m = p.match(\"case\")\n",
    "print(m.group())"
   ]
  },
  {
   "cell_type": "code",
   "execution_count": 6,
   "id": "44ed2351-31dd-4753-b597-7d3b3c5b334c",
   "metadata": {},
   "outputs": [
    {
     "ename": "AttributeError",
     "evalue": "'NoneType' object has no attribute 'group'",
     "output_type": "error",
     "traceback": [
      "\u001b[1;31m---------------------------------------------------------------------------\u001b[0m",
      "\u001b[1;31mAttributeError\u001b[0m                            Traceback (most recent call last)",
      "Input \u001b[1;32mIn [6]\u001b[0m, in \u001b[0;36m<cell line: 2>\u001b[1;34m()\u001b[0m\n\u001b[0;32m      1\u001b[0m m \u001b[38;5;241m=\u001b[39m p\u001b[38;5;241m.\u001b[39mmatch(\u001b[38;5;124m\"\u001b[39m\u001b[38;5;124mcaffe\u001b[39m\u001b[38;5;124m\"\u001b[39m)\n\u001b[1;32m----> 2\u001b[0m \u001b[38;5;28mprint\u001b[39m(\u001b[43mm\u001b[49m\u001b[38;5;241;43m.\u001b[39;49m\u001b[43mgroup\u001b[49m())\n",
      "\u001b[1;31mAttributeError\u001b[0m: 'NoneType' object has no attribute 'group'"
     ]
    }
   ],
   "source": [
    "m = p.match(\"caffe\")\n",
    "print(m.group()) # 매칭되지 않으면 에러가 발생"
   ]
  },
  {
   "cell_type": "code",
   "execution_count": 13,
   "id": "e9747d82-4254-4378-8ca3-bf07c2045c7b",
   "metadata": {},
   "outputs": [],
   "source": [
    "def print_match(m) :\n",
    "    if m :\n",
    "        print(\"m.group() :\", m.group()) # 일치하는 문자열 반환\n",
    "        print(\"m.string :\", m.string) # 입력받은 문자열\n",
    "        print(\"m.start() :\", m.start()) # 일치하는 문자열의 시작 index\n",
    "        print(\"m.end() :\", m.end()) # 일치하는 문자열의 끝 index\n",
    "        print(\"m.span() :\", m.span()) # 일치하는 물자열의 시작 / 끝 index\n",
    "    else :\n",
    "        print(\"매칭되지 않음\")"
   ]
  },
  {
   "cell_type": "code",
   "execution_count": 15,
   "id": "07eb3554-f779-41b4-87c5-457f8993423c",
   "metadata": {},
   "outputs": [
    {
     "name": "stdout",
     "output_type": "stream",
     "text": [
      "m.group() : care\n",
      "m.string : careless\n",
      "m.start() : 0\n",
      "m.end() : 4\n",
      "m.span() : (0, 4)\n"
     ]
    }
   ],
   "source": [
    "m = p.match(\"careless\") # match :주어진 문자열의 처음부터 일치하는지 확인, 뒷부분은 상관없음\n",
    "print_match(m)"
   ]
  },
  {
   "cell_type": "code",
   "execution_count": 16,
   "id": "2bfdc442-bbdb-435b-ac69-9eb3139db2d9",
   "metadata": {},
   "outputs": [
    {
     "name": "stdout",
     "output_type": "stream",
     "text": [
      "m.group() : care\n",
      "m.string : good care\n",
      "m.start() : 5\n",
      "m.end() : 9\n",
      "m.span() : (5, 9)\n"
     ]
    }
   ],
   "source": [
    "m = p.search(\"good care\") # search : 주어진 물자열 중에 일치하는게 있는지 확인\n",
    "print_match(m)"
   ]
  },
  {
   "cell_type": "code",
   "execution_count": 19,
   "id": "a6a91122-0446-4737-b624-8da1bb4644da",
   "metadata": {},
   "outputs": [
    {
     "name": "stdout",
     "output_type": "stream",
     "text": [
      "['care']\n"
     ]
    }
   ],
   "source": [
    "lst = p.findall(\"careless\") # findall : 일치하는 모든 것을 \"리스트\" 형태로 반환\n",
    "print(lst)"
   ]
  },
  {
   "cell_type": "code",
   "execution_count": null,
   "id": "971831e2-ad78-4b28-ae4d-f7e2629db557",
   "metadata": {},
   "outputs": [],
   "source": []
  }
 ],
 "metadata": {
  "kernelspec": {
   "display_name": "Python 3 (ipykernel)",
   "language": "python",
   "name": "python3"
  },
  "language_info": {
   "codemirror_mode": {
    "name": "ipython",
    "version": 3
   },
   "file_extension": ".py",
   "mimetype": "text/x-python",
   "name": "python",
   "nbconvert_exporter": "python",
   "pygments_lexer": "ipython3",
   "version": "3.9.12"
  }
 },
 "nbformat": 4,
 "nbformat_minor": 5
}
