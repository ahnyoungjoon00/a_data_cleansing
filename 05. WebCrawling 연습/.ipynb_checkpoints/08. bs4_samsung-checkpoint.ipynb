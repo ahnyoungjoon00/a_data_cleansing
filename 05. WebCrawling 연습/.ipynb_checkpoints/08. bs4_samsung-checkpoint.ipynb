{
 "cells": [
  {
   "cell_type": "code",
   "execution_count": 1,
   "id": "79954c75-4c47-4b53-ad27-a749fb7267b6",
   "metadata": {},
   "outputs": [],
   "source": [
    "import requests\n",
    "from bs4 import BeautifulSoup\n",
    "import urllib3\n",
    "urllib3.disable_warnings()"
   ]
  },
  {
   "cell_type": "code",
   "execution_count": 2,
   "id": "663e4b39-5d75-47be-b8f7-56d63d81c9c3",
   "metadata": {},
   "outputs": [],
   "source": [
    "url = \"https://finance.naver.com/item/sise.naver?code=005930\""
   ]
  },
  {
   "cell_type": "code",
   "execution_count": 3,
   "id": "c7fb6c4a-60ec-4b61-97cb-c345d96a5711",
   "metadata": {},
   "outputs": [],
   "source": [
    "res = requests.get(url, verify = False)\n",
    "res.raise_for_status()"
   ]
  },
  {
   "cell_type": "code",
   "execution_count": 4,
   "id": "012052b8-01b1-4c22-8890-16910a982388",
   "metadata": {},
   "outputs": [],
   "source": [
    "soup = BeautifulSoup(res.text, \"lxml\")"
   ]
  },
  {
   "cell_type": "code",
   "execution_count": 42,
   "id": "e145f2a8-c997-42d3-86d4-26168e81821d",
   "metadata": {},
   "outputs": [],
   "source": [
    "stocks = soup.find_all(\"td\", attrs = {\"class\": \"num\"})"
   ]
  },
  {
   "cell_type": "code",
   "execution_count": 48,
   "id": "66a38092-bc74-47af-b4b4-72c2a6c98a80",
   "metadata": {},
   "outputs": [
    {
     "name": "stdout",
     "output_type": "stream",
     "text": [
      "\n",
      "\t\t\t\t+0.52%\n",
      "\t\t\t\t\n"
     ]
    }
   ],
   "source": [
    "price = stocks[4].span.get_text()\n",
    "print(price)"
   ]
  },
  {
   "cell_type": "code",
   "execution_count": 51,
   "id": "865983dd-a0aa-4ebf-920f-947edc0a8e39",
   "metadata": {},
   "outputs": [
    {
     "name": "stdout",
     "output_type": "stream",
     "text": [
      "['tah', 'p11', 'red01']\n"
     ]
    }
   ],
   "source": [
    "link = stocks[4].span[\"class\"]\n",
    "print(link)"
   ]
  },
  {
   "cell_type": "code",
   "execution_count": 53,
   "id": "72e08426-8bf1-4e11-b263-f5060edb73e6",
   "metadata": {},
   "outputs": [
    {
     "name": "stdout",
     "output_type": "stream",
     "text": [
      "https://finance.naver.com/['tah', 'p11', 'red01']\n"
     ]
    }
   ],
   "source": [
    "print(\"https://finance.naver.com/\" + str(link))"
   ]
  },
  {
   "cell_type": "code",
   "execution_count": null,
   "id": "bcd28b90-333d-4631-8912-d261f859a861",
   "metadata": {},
   "outputs": [],
   "source": [
    "for stock in stocks :\n",
    "    "
   ]
  }
 ],
 "metadata": {
  "kernelspec": {
   "display_name": "Python 3 (ipykernel)",
   "language": "python",
   "name": "python3"
  },
  "language_info": {
   "codemirror_mode": {
    "name": "ipython",
    "version": 3
   },
   "file_extension": ".py",
   "mimetype": "text/x-python",
   "name": "python",
   "nbconvert_exporter": "python",
   "pygments_lexer": "ipython3",
   "version": "3.9.12"
  }
 },
 "nbformat": 4,
 "nbformat_minor": 5
}
