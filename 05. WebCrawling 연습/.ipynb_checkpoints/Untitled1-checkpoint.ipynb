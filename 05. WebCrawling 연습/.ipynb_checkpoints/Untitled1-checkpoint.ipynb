{
 "cells": [
  {
   "cell_type": "code",
   "execution_count": 13,
   "id": "7ec113f2-0103-4048-a73d-30b3b5ef7bec",
   "metadata": {},
   "outputs": [],
   "source": [
    "import requests\n",
    "from bs4 import BeautifulSoup\n",
    "import urllib3\n",
    "import csv\n",
    "urllib3.disable_warnings()"
   ]
  },
  {
   "cell_type": "code",
   "execution_count": 14,
   "id": "2476397f-5815-411b-bded-a0fb46b04c04",
   "metadata": {},
   "outputs": [],
   "source": [
    "url = \"https://map.naver.com/v5/search/%EC%A0%84%EC%A3%BC%EC%8B%9C%20%EA%B3%B5%EA%B3%B5%EA%B8%B0%EA%B4%80?c=14139150.9608418,4276454.4662774,10,0,0,0,dh\""
   ]
  },
  {
   "cell_type": "code",
   "execution_count": 18,
   "id": "142b04ff-e4bc-4187-ac3c-d017e1e47d2d",
   "metadata": {},
   "outputs": [],
   "source": [
    "res = requests.get(url, verify = False)\n",
    "res.raise_for_status()\n",
    "soup = BeautifulSoup(res.text, \"lxml\")"
   ]
  },
  {
   "cell_type": "code",
   "execution_count": 28,
   "id": "c7d9ddfc-a2b5-491c-85db-2e2a5311e8c4",
   "metadata": {},
   "outputs": [
    {
     "name": "stdout",
     "output_type": "stream",
     "text": [
      "None\n"
     ]
    }
   ],
   "source": [
    "print(soup.a)"
   ]
  },
  {
   "cell_type": "code",
   "execution_count": 29,
   "id": "26b7b6c7-087a-46ce-a674-c42b80b43652",
   "metadata": {},
   "outputs": [
    {
     "name": "stdout",
     "output_type": "stream",
     "text": [
      "None\n"
     ]
    }
   ],
   "source": [
    "name = soup.find(\"a\", attrs = {\"class\" : \"place_bluelink YwYLL\"})\n",
    "print(name)"
   ]
  },
  {
   "cell_type": "code",
   "execution_count": 26,
   "id": "7e9496ca-6d37-4e35-8d9b-46127ed261c4",
   "metadata": {},
   "outputs": [
    {
     "name": "stdout",
     "output_type": "stream",
     "text": [
      "None\n"
     ]
    }
   ],
   "source": [
    "places = soup.find(\"span\", attrs = {\"class\" : \"place_bluelink YwYLL\"})\n",
    "print(places)"
   ]
  },
  {
   "cell_type": "code",
   "execution_count": null,
   "id": "b2e13536-5188-4632-9355-12562f0de83b",
   "metadata": {},
   "outputs": [],
   "source": [
    "for place in places :\n",
    "    print(place.li.get_text())"
   ]
  },
  {
   "cell_type": "code",
   "execution_count": 17,
   "id": "26a9b6f2-39fc-41cd-815f-4f5c04145c04",
   "metadata": {},
   "outputs": [
    {
     "name": "stdout",
     "output_type": "stream",
     "text": [
      "https://map.naver.com/v5/search/%EC%A0%84%EC%A3%BC%EC%8B%9C%20%EA%B3%B5%EA%B3%B5%EA%B8%B0%EA%B4%80?c=14139150.9608418,4276454.4662774,10,0,0,0,dh\n"
     ]
    }
   ],
   "source": [
    "print(\"https://map.naver.com/v5/search/%EC%A0%84%EC%A3%BC%EC%8B%9C%20%EA%B3%B5%EA%B3%B5%EA%B8%B0%EA%B4%80?c=14139150.9608418,4276454.4662774,10,0,0,0,dh\")"
   ]
  },
  {
   "cell_type": "code",
   "execution_count": null,
   "id": "d584028b-eb73-4327-a402-bae82cc54503",
   "metadata": {},
   "outputs": [],
   "source": []
  }
 ],
 "metadata": {
  "kernelspec": {
   "display_name": "Python 3 (ipykernel)",
   "language": "python",
   "name": "python3"
  },
  "language_info": {
   "codemirror_mode": {
    "name": "ipython",
    "version": 3
   },
   "file_extension": ".py",
   "mimetype": "text/x-python",
   "name": "python",
   "nbconvert_exporter": "python",
   "pygments_lexer": "ipython3",
   "version": "3.9.12"
  }
 },
 "nbformat": 4,
 "nbformat_minor": 5
}
