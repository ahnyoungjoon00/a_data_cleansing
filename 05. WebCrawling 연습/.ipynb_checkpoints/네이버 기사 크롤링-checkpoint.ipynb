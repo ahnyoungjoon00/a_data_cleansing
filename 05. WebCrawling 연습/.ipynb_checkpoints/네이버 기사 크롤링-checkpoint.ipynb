{
 "cells": [
  {
   "cell_type": "code",
   "execution_count": 2,
   "id": "3412f31e-78c3-4e31-b341-1f1ea7b35cb8",
   "metadata": {},
   "outputs": [],
   "source": [
    "import requests\n",
    "import pandas as pd\n",
    "from bs4 import BeautifulSoup\n",
    "import re\n",
    "import operator\n",
    "import time\n",
    "import datetime\n",
    "from konlpy.tag import Komoran"
   ]
  },
  {
   "cell_type": "code",
   "execution_count": 3,
   "id": "b34452fc-4061-46f3-9b89-cbef89d18080",
   "metadata": {},
   "outputs": [],
   "source": [
    "def get_news(sectionid, date) :\n",
    "        url = \"https://news.naver.com/main/ranking/popularDay.nhn?rankingType=popular_day&sectionid=\" + str(sectionid) + \"&date=\" + str(date)\n",
    "        resp = requests.get(url)\n",
    "        soup = BeautifulSoup(resp.text, html.parser)"
   ]
  },
  {
   "cell_type": "code",
   "execution_count": null,
   "id": "ed0811f5-e566-44ed-a356-c30baeb15e49",
   "metadata": {},
   "outputs": [],
   "source": []
  }
 ],
 "metadata": {
  "kernelspec": {
   "display_name": "Python 3 (ipykernel)",
   "language": "python",
   "name": "python3"
  },
  "language_info": {
   "codemirror_mode": {
    "name": "ipython",
    "version": 3
   },
   "file_extension": ".py",
   "mimetype": "text/x-python",
   "name": "python",
   "nbconvert_exporter": "python",
   "pygments_lexer": "ipython3",
   "version": "3.9.12"
  }
 },
 "nbformat": 4,
 "nbformat_minor": 5
}
