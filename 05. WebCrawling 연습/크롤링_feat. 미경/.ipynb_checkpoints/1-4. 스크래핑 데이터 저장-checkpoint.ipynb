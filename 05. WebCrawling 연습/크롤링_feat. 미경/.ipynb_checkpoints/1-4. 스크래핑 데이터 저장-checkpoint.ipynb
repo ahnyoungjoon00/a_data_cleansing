{
 "cells": [
  {
   "cell_type": "markdown",
   "id": "57831a5d-8bd1-4188-94d3-f4dcf53197b6",
   "metadata": {},
   "source": [
    "## csv 형식 저장"
   ]
  },
  {
   "cell_type": "code",
   "execution_count": 1,
   "id": "dcc31e09-c270-436c-b7f1-7e0151e4815d",
   "metadata": {},
   "outputs": [],
   "source": [
    "import csv"
   ]
  },
  {
   "cell_type": "code",
   "execution_count": 2,
   "id": "392869ed-28a3-46a9-a778-68978305286d",
   "metadata": {},
   "outputs": [],
   "source": [
    "with open('top_cities.csv', 'w', newline='', encoding = 'utf-8') as f:\n",
    "    writer = csv.DictWriter(f, ['rank', 'city', 'population'])\n",
    "    writer.writeheader()\n",
    "    writer.writerows([\n",
    "        {'rank' : 1, 'city' : '상하이', 'population' : 24150000},\n",
    "        {'rank' : 2, 'city' : '카라치', 'population' : 23500000},\n",
    "        {'rank' : 3, 'city' : '베이징', 'population' : 21516000},\n",
    "        {'rank' : 4, 'city' : '텐진', 'population' : 14722100},\n",
    "        {'rank' : 5, 'city' : '이스탄불', 'population' : 14160467},\n",
    "    ])"
   ]
  },
  {
   "cell_type": "code",
   "execution_count": 3,
   "id": "48f27b3d-bd72-4b90-bab6-ed040b330fe0",
   "metadata": {},
   "outputs": [],
   "source": [
    "import chardet"
   ]
  },
  {
   "cell_type": "code",
   "execution_count": 4,
   "id": "220cfa03-5fde-49da-8441-14a622c76bcb",
   "metadata": {},
   "outputs": [],
   "source": [
    "char_dic = chardet.detect(open('top_cities.csv', 'rb').read())"
   ]
  },
  {
   "cell_type": "code",
   "execution_count": 5,
   "id": "4ff89aa8-e7ad-4e8a-8ef9-b58e527e3368",
   "metadata": {},
   "outputs": [
    {
     "data": {
      "text/plain": [
       "'utf-8'"
      ]
     },
     "execution_count": 5,
     "metadata": {},
     "output_type": "execute_result"
    }
   ],
   "source": [
    "char_dic[\"encoding\"]"
   ]
  },
  {
   "cell_type": "markdown",
   "id": "85ddf5ba-7c51-441e-9214-67c7345f09f8",
   "metadata": {},
   "source": [
    "## JSON 형식으로 저장"
   ]
  },
  {
   "cell_type": "code",
   "execution_count": 6,
   "id": "088ac8da-ff0d-47a2-8124-eee2e420566d",
   "metadata": {},
   "outputs": [],
   "source": [
    "import json"
   ]
  },
  {
   "cell_type": "code",
   "execution_count": 7,
   "id": "aca50dfe-ce5c-4f03-bc76-70cde0fab91f",
   "metadata": {},
   "outputs": [],
   "source": [
    "cities = [\n",
    "{'rank' : 1, 'city' : '상하이', 'population' : 24150000},\n",
    "{'rank' : 2, 'city' : '카라치', 'population' : 23500000},\n",
    "{'rank' : 3, 'city' : '베이징', 'population' : 21516000},\n",
    "{'rank' : 4, 'city' : '텐진', 'population' : 14722100},\n",
    "{'rank' : 5, 'city' : '이스탄불', 'population' : 14160467},\n",
    "]"
   ]
  },
  {
   "cell_type": "code",
   "execution_count": 8,
   "id": "50571f8f-d56c-4a78-9ab7-2927d2c9154c",
   "metadata": {},
   "outputs": [],
   "source": [
    "with open('top_cities.json', 'w') as fw :\n",
    "    json.dump(cities, fw)"
   ]
  },
  {
   "cell_type": "code",
   "execution_count": 9,
   "id": "2bfd9323-007c-463a-ab3d-c0f8d4f304ab",
   "metadata": {},
   "outputs": [
    {
     "name": "stdout",
     "output_type": "stream",
     "text": [
      "[{'rank': 1, 'city': '상하이', 'population': 24150000}, {'rank': 2, 'city': '카라치', 'population': 23500000}, {'rank': 3, 'city': '베이징', 'population': 21516000}, {'rank': 4, 'city': '텐진', 'population': 14722100}, {'rank': 5, 'city': '이스탄불', 'population': 14160467}]\n"
     ]
    }
   ],
   "source": [
    "with open('top_cities.json', 'r') as fr :\n",
    "    json_file = json.load(fr)\n",
    "    print(json_file)"
   ]
  },
  {
   "cell_type": "markdown",
   "id": "1b89b67b-a39e-4607-ae12-7753cdfbc4ad",
   "metadata": {},
   "source": [
    "## SQLite3 DBMS로 저장"
   ]
  },
  {
   "cell_type": "code",
   "execution_count": 10,
   "id": "ee6bb08d-d3f8-460c-9fa2-6dce2db1246b",
   "metadata": {},
   "outputs": [],
   "source": [
    "import pandas as pd\n",
    "import sqlite3\n",
    "from pandas.io import sql\n",
    "import os"
   ]
  },
  {
   "cell_type": "code",
   "execution_count": 11,
   "id": "ff50df94-2a29-47a3-be63-1a26ac9e012a",
   "metadata": {},
   "outputs": [],
   "source": [
    "DB_NAME = 'top_cities.db'\n",
    "TABLE_NAME = \"TOP_CITIES\""
   ]
  },
  {
   "cell_type": "code",
   "execution_count": 12,
   "id": "04f29d9a-92fa-4588-90f4-bdd262e711de",
   "metadata": {},
   "outputs": [],
   "source": [
    "def db_save(df, db_name, table_name) :\n",
    "    with sqlite3.connect(db_name) as con :\n",
    "        try :\n",
    "            df.to_sql(name = table_name, con = con, index = False,\n",
    "                      if_exists = 'append')\n",
    "        except Exception as e :\n",
    "            print(str(e))\n",
    "        print(len(df), '건 저장완료..')"
   ]
  },
  {
   "cell_type": "code",
   "execution_count": 13,
   "id": "3f4f14f6-cfba-4822-be4f-2b4d7544d2b7",
   "metadata": {},
   "outputs": [],
   "source": [
    "def db_select(df, db_name, table_name) :\n",
    "    with sqlite3.connect(db_name) as con :\n",
    "        try :\n",
    "            query = 'SELECT * FROM {}'.format(table_name)\n",
    "            df = pd.read_sql(query, con = con)\n",
    "        except Exception as e :\n",
    "            print(str(e))\n",
    "            return df"
   ]
  },
  {
   "cell_type": "code",
   "execution_count": 14,
   "id": "c6ca7037-d783-4ad6-88a1-4b0b2b69e1d9",
   "metadata": {},
   "outputs": [],
   "source": [
    "def db_select(df, db_name, table_name) :\n",
    "    with sqlite3.connect(db_name) as con :\n",
    "        try :\n",
    "            cur = con.cursor()\n",
    "            sql = \"DELETE FROM {}\".format(table_name)\n",
    "            cur.excute(sql)\n",
    "        except Exception as e :\n",
    "            print(str(e))"
   ]
  },
  {
   "cell_type": "code",
   "execution_count": null,
   "id": "15f6ab90-9c8c-4218-b1bb-aa0e04761e46",
   "metadata": {},
   "outputs": [],
   "source": []
  }
 ],
 "metadata": {
  "kernelspec": {
   "display_name": "Python 3 (ipykernel)",
   "language": "python",
   "name": "python3"
  },
  "language_info": {
   "codemirror_mode": {
    "name": "ipython",
    "version": 3
   },
   "file_extension": ".py",
   "mimetype": "text/x-python",
   "name": "python",
   "nbconvert_exporter": "python",
   "pygments_lexer": "ipython3",
   "version": "3.9.12"
  }
 },
 "nbformat": 4,
 "nbformat_minor": 5
}
