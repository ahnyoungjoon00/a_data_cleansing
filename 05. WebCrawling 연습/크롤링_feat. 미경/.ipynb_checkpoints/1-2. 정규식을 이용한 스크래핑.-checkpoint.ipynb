{
 "cells": [
  {
   "cell_type": "code",
   "execution_count": 1,
   "id": "0b949ef5-c7e6-4bc4-b486-d111d05e2f3d",
   "metadata": {},
   "outputs": [],
   "source": [
    "import re\n",
    "import sys\n",
    "from urllib.request import urlopen"
   ]
  },
  {
   "cell_type": "code",
   "execution_count": 2,
   "id": "f5e4b117-430b-4285-8603-1d76ea53c84f",
   "metadata": {},
   "outputs": [
    {
     "name": "stdout",
     "output_type": "stream",
     "text": [
      "Requirement already satisfied: googletrans==4.0.0-rc1 in c:\\users\\user\\anaconda3\\lib\\site-packages (4.0.0rc1)\n",
      "Requirement already satisfied: httpx==0.13.3 in c:\\users\\user\\anaconda3\\lib\\site-packages (from googletrans==4.0.0-rc1) (0.13.3)\n",
      "Requirement already satisfied: idna==2.* in c:\\users\\user\\anaconda3\\lib\\site-packages (from httpx==0.13.3->googletrans==4.0.0-rc1) (2.10)\n",
      "Requirement already satisfied: hstspreload in c:\\users\\user\\anaconda3\\lib\\site-packages (from httpx==0.13.3->googletrans==4.0.0-rc1) (2022.7.10)\n",
      "Requirement already satisfied: rfc3986<2,>=1.3 in c:\\users\\user\\anaconda3\\lib\\site-packages (from httpx==0.13.3->googletrans==4.0.0-rc1) (1.5.0)\n",
      "Requirement already satisfied: certifi in c:\\users\\user\\anaconda3\\lib\\site-packages (from httpx==0.13.3->googletrans==4.0.0-rc1) (2021.10.8)\n",
      "Requirement already satisfied: httpcore==0.9.* in c:\\users\\user\\anaconda3\\lib\\site-packages (from httpx==0.13.3->googletrans==4.0.0-rc1) (0.9.1)\n",
      "Requirement already satisfied: chardet==3.* in c:\\users\\user\\anaconda3\\lib\\site-packages (from httpx==0.13.3->googletrans==4.0.0-rc1) (3.0.4)\n",
      "Requirement already satisfied: sniffio in c:\\users\\user\\anaconda3\\lib\\site-packages (from httpx==0.13.3->googletrans==4.0.0-rc1) (1.2.0)\n",
      "Requirement already satisfied: h2==3.* in c:\\users\\user\\anaconda3\\lib\\site-packages (from httpcore==0.9.*->httpx==0.13.3->googletrans==4.0.0-rc1) (3.2.0)\n",
      "Requirement already satisfied: h11<0.10,>=0.8 in c:\\users\\user\\anaconda3\\lib\\site-packages (from httpcore==0.9.*->httpx==0.13.3->googletrans==4.0.0-rc1) (0.9.0)\n",
      "Requirement already satisfied: hyperframe<6,>=5.2.0 in c:\\users\\user\\anaconda3\\lib\\site-packages (from h2==3.*->httpcore==0.9.*->httpx==0.13.3->googletrans==4.0.0-rc1) (5.2.0)\n",
      "Requirement already satisfied: hpack<4,>=3.0 in c:\\users\\user\\anaconda3\\lib\\site-packages (from h2==3.*->httpcore==0.9.*->httpx==0.13.3->googletrans==4.0.0-rc1) (3.0.0)\n"
     ]
    }
   ],
   "source": [
    "# !pip uninstall googletrans\n",
    "!pip install googletrans==4.0.0-rc1"
   ]
  },
  {
   "cell_type": "code",
   "execution_count": 3,
   "id": "bd0f7e9d-cbcf-45a3-8b9f-f7f69f0f7a4d",
   "metadata": {},
   "outputs": [],
   "source": [
    "f = urlopen('http://www.hanbit.co.kr/store/books/full_book_list.html')"
   ]
  },
  {
   "cell_type": "code",
   "execution_count": 4,
   "id": "14037d06-fe7e-459a-8e97-ad01581048bd",
   "metadata": {},
   "outputs": [],
   "source": [
    "bytes_content = f.read()"
   ]
  },
  {
   "cell_type": "code",
   "execution_count": 5,
   "id": "cf22cf29-8c5b-46c5-8c9a-45aa570ce889",
   "metadata": {},
   "outputs": [],
   "source": [
    "scanned_text = bytes_content[ :1024].decode(\"ascii\", errors = \"replace\")"
   ]
  },
  {
   "cell_type": "code",
   "execution_count": 6,
   "id": "f63a745b-9c5a-41e3-9145-fa26a25bad60",
   "metadata": {},
   "outputs": [],
   "source": [
    "match = re.search(r'charset=[\"\\']?([\\w-]+)', scanned_text)"
   ]
  },
  {
   "cell_type": "code",
   "execution_count": 7,
   "id": "3a47bc47-bd2f-4c4e-818d-32e5cbafca4e",
   "metadata": {},
   "outputs": [
    {
     "data": {
      "text/plain": [
       "'utf-8'"
      ]
     },
     "execution_count": 7,
     "metadata": {},
     "output_type": "execute_result"
    }
   ],
   "source": [
    "match.group(1)"
   ]
  },
  {
   "cell_type": "code",
   "execution_count": 8,
   "id": "3f10662c-3f8a-424b-ab59-386d29a4634e",
   "metadata": {},
   "outputs": [],
   "source": [
    "if match :\n",
    "    encoding = match.group(1)\n",
    "else :\n",
    "    encoding = \"utf - 8\""
   ]
  },
  {
   "cell_type": "code",
   "execution_count": null,
   "id": "91d54986-b49b-4c1a-b1a9-7d604efae2c7",
   "metadata": {},
   "outputs": [],
   "source": []
  }
 ],
 "metadata": {
  "kernelspec": {
   "display_name": "Python 3 (ipykernel)",
   "language": "python",
   "name": "python3"
  },
  "language_info": {
   "codemirror_mode": {
    "name": "ipython",
    "version": 3
   },
   "file_extension": ".py",
   "mimetype": "text/x-python",
   "name": "python",
   "nbconvert_exporter": "python",
   "pygments_lexer": "ipython3",
   "version": "3.9.12"
  }
 },
 "nbformat": 4,
 "nbformat_minor": 5
}
