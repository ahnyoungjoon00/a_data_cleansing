{
 "cells": [
  {
   "cell_type": "code",
   "execution_count": 46,
   "id": "7c380743",
   "metadata": {},
   "outputs": [],
   "source": [
    "from selenium import webdriver\n",
    "from selenium.webdriver.common.keys import Keys\n",
    "import time\n",
    "import pymysql"
   ]
  },
  {
   "cell_type": "code",
   "execution_count": 47,
   "id": "72d31987",
   "metadata": {},
   "outputs": [],
   "source": [
    "# 1단계: 사이트 페이지 오픈\n",
    "# url 로 모든 제어가 가능할때 사용하는 함수\n",
    "\n",
    "# 검색어만 있을 경우 사용\n",
    "def OpenNewsUrl(search):   # 넘겨주는 파라메터가 검색어 1개이므로 받는 것도 1개이어야 함\n",
    "# 검색어 및 검색기간 입력시 사용\n",
    "# def OpenNewsUrl(search,sdate,edate):   # 넘겨주는 파라메터가 3개이므로 받는 것도 3개이어야 함\n",
    "    url = \"https://www.donga.com/news/search?query={search}&check_news=1&more=1&sorting=1&search_date=1&v1=&v2=&range=1&p=1\"\n",
    "# 검색어만 있을 경우 사용\n",
    "    url = url.format(search=search)\n",
    "# 검색어 및 검색기간 입력시 사용    \n",
    "#     url = url.format(search=search,sdate=sdate,edate=edate)\n",
    "#     print(url)   # url 확인용\n",
    "    \n",
    "    driver = webdriver.Chrome(\"./chromedriver.exe\")\n",
    "    driver.get(url)\n",
    "    time.sleep(2)\n",
    "    \n",
    "    ListNewsUrl(driver)"
   ]
  },
  {
   "cell_type": "code",
   "execution_count": 48,
   "id": "636dc081",
   "metadata": {},
   "outputs": [],
   "source": [
    "# 2단계: 목록에서 페이지 이동하면서 url 가져오기\n",
    "\n",
    "def ListNewsUrl(driver):\n",
    "    url_temp = driver.current_url   # 현재 브라우저의 url 정보를 가져오는 명령어\n",
    "    url_temp = url_temp.replace(\"&p=1\",\"\")   # url 에 page가 포함되어 있기에 이것을 제거\n",
    "    for x in range(1,(15*2)+1,15):  #2번째 페이지만 가져오고 싶을 경우 : range(16,(15*2)+1,15)\n",
    "        url = url_temp + \"&p={pageNo}\".format(pageNo=x)   # 여기 변수명과 위의 변수명은 같아야 함\n",
    "        print(\"리스트: \",url)    # 목록페이지의 url 보는 용도\n",
    "        driver.get(url)\n",
    "        time.sleep(2)            # 2초 대기\n",
    "        \n",
    "        arrStrUrls =[]\n",
    "        arrUrls = driver.find_elements_by_css_selector(\".searchCont .searchList .t .tit a\")   # 목록페이지에서 url list 가져오기 \n",
    "        \n",
    "#         print(len(arrUrls))\n",
    "#         print(arrUrls[0])\n",
    "        \n",
    "        for i in arrUrls:\n",
    "#             print(i.text)  #text는 굳이 볼필요 업음\n",
    "#             print(i.get_attribute(\"href\")[0:11])\n",
    "            if(i.get_attribute(\"href\")[0:11] == \"https://www\") :\n",
    "               arrStrUrls.append(i.get_attribute(\"href\"))\n",
    "            else:\n",
    "                pass\n",
    "        \n",
    "        print(\"URL List Count:\",len(arrStrUrls))       # url list가 몇개인지 확인\n",
    "        for i in arrStrUrls:                           # 배열의 url list 내용 보기 \n",
    "            print(i)\n",
    "        \n",
    "#         NewsInfo(driver,arrStrUrls)\n"
   ]
  },
  {
   "cell_type": "code",
   "execution_count": 49,
   "id": "9057eb4b",
   "metadata": {},
   "outputs": [],
   "source": [
    "# 3단계: 세부페이지에서 제목, 날짜, 내용 가져오기\n",
    "def NewsInfo(driver,arrStrUrl):\n",
    "    try:\n",
    "        for strHref in arrStrUrl:\n",
    "            driver.get(strHref)\n",
    "            time.sleep(2)\n",
    "            print(strHref)\n",
    "\n",
    "            strNewsTitle =\"\"\n",
    "            arrNewsTitles = driver.find_elements_by_css_selector(\".article_title .title\")\n",
    "            strNewsTitle = arrNewsTitles[0]\n",
    "            strNewsTitle = strNewsTitle.text\n",
    "            print(strNewsTitle)        \n",
    "\n",
    "            strNewsDate =\"\"\n",
    "            arrNewsDates = driver.find_elements_by_css_selector(\".title_foot .date01\")  # 날짜가 포함된 html element 가져오기\n",
    "            strNewsDate = arrNewsDates[0].text               # 날짜가 있는 element 내용 보기 .text로 HTML태그 제거\n",
    "            strNewsDate = strNewsDate.replace(\"입력\",\"\")    # 날짜 앞의 불필요한 글자 지우기\n",
    "            strNewsDate = strNewsDate.replace(\"-\",\"\")[0:8]   # 8자리 YYYYMMDD 형태로 만들기\n",
    "            print(strNewsDate)      \n",
    "\n",
    "            strNewsSubtitle = \"\"\n",
    "#             arrNewsSubtitles = driver.find_elements_by_css_selector(\".scroller-wrap01 .story-news .tit-sub \")\n",
    "#             if(len(arrNewsSubtitles) != 0):\n",
    "#                 strNewsSubtitle = arrNewsSubtitles[0].text\n",
    "#             print(strNewsSubtitle)    \n",
    "\n",
    "            strNewsContent = \"\"\n",
    "            arrNewsContents = driver.find_elements_by_css_selector(\".article_view .article_txt\")\n",
    "            for i in arrNewsContents:\n",
    "                strNewsContent = strNewsContent + i.text        \n",
    "            print(strNewsContent)\n",
    "\n",
    "#            4단계 DB에 데이터를 넣을때 사용\n",
    "#            dbData = [[strHref,strNewsDate,strNewsTitle,strNewsSubtitle,strNewsContent]]\n",
    "#             connectDB(dbData)\n",
    "            \n",
    "    except:\n",
    "        print(strHref)\n",
    "        print('페이지 오류')\n",
    "        pass"
   ]
  },
  {
   "cell_type": "code",
   "execution_count": 50,
   "id": "e2b49657",
   "metadata": {
    "scrolled": false
   },
   "outputs": [
    {
     "name": "stderr",
     "output_type": "stream",
     "text": [
      "C:\\Users\\user\\AppData\\Local\\Temp/ipykernel_6904/310021055.py:15: DeprecationWarning: executable_path has been deprecated, please pass in a Service object\n",
      "  driver = webdriver.Chrome(\"./chromedriver.exe\")\n"
     ]
    },
    {
     "name": "stdout",
     "output_type": "stream",
     "text": [
      "리스트:  https://www.donga.com/news/search?query=%EC%9A%94%EC%86%8C%EC%88%98&check_news=1&more=1&sorting=1&search_date=1&v1=&v2=&range=1&p=1\n"
     ]
    },
    {
     "name": "stderr",
     "output_type": "stream",
     "text": [
      "C:\\Users\\user\\AppData\\Local\\Temp/ipykernel_6904/2600037485.py:13: DeprecationWarning: find_elements_by_* commands are deprecated. Please use find_elements() instead\n",
      "  arrUrls = driver.find_elements_by_css_selector(\".searchCont .searchList .t .tit a\")   # 목록페이지에서 url list 가져오기\n"
     ]
    },
    {
     "name": "stdout",
     "output_type": "stream",
     "text": [
      "URL List Count: 15\n",
      "https://www.donga.com/news/article/all/20211110/110174491/1\n",
      "https://www.donga.com/news/article/all/20211110/110174461/1\n",
      "https://www.donga.com/news/article/all/20211110/110174434/2\n",
      "https://www.donga.com/news/article/all/20211110/110173017/1\n",
      "https://www.donga.com/news/article/all/20211110/110172722/2\n",
      "https://www.donga.com/news/article/all/20211110/110172651/1\n",
      "https://www.donga.com/news/article/all/20211110/110172216/1\n",
      "https://www.donga.com/news/article/all/20211110/110171896/1\n",
      "https://www.donga.com/news/article/all/20211110/110170199/1\n",
      "https://www.donga.com/news/article/all/20211110/110167761/1\n",
      "https://www.donga.com/news/article/all/20211110/110166914/1\n",
      "https://www.donga.com/news/article/all/20211110/110166860/2\n",
      "https://www.donga.com/news/article/all/20211110/110166557/1\n",
      "https://www.donga.com/news/article/all/20211110/110166305/1\n",
      "https://www.donga.com/news/article/all/20211110/110166032/1\n",
      "리스트:  https://www.donga.com/news/search?query=%EC%9A%94%EC%86%8C%EC%88%98&check_news=1&more=1&sorting=1&search_date=1&v1=&v2=&range=1&p=16\n",
      "URL List Count: 15\n",
      "https://www.donga.com/news/article/all/20211110/110165960/1\n",
      "https://www.donga.com/news/article/all/20211110/110165737/1\n",
      "https://www.donga.com/news/article/all/20211110/110165594/1\n",
      "https://www.donga.com/news/article/all/20211110/110165494/1\n",
      "https://www.donga.com/news/article/all/20211110/110164200/1\n",
      "https://www.donga.com/news/article/all/20211110/110164225/1\n",
      "https://www.donga.com/news/article/all/20211110/110164193/1\n",
      "https://www.donga.com/news/article/all/20211110/110164197/1\n",
      "https://www.donga.com/news/article/all/20211110/110164158/1\n",
      "https://www.donga.com/news/article/all/20211110/110164173/1\n",
      "https://www.donga.com/news/article/all/20211110/110164168/1\n",
      "https://www.donga.com/news/article/all/20211109/110161030/1\n",
      "https://www.donga.com/news/article/all/20211109/110158939/1\n",
      "https://www.donga.com/news/article/all/20211109/110158885/1\n",
      "https://www.donga.com/news/article/all/20211109/110157554/1\n"
     ]
    }
   ],
   "source": [
    "search = \"요소수\"  # 검색어\n",
    "\n",
    "# 검색어만 사용할때 사용\n",
    "OpenNewsUrl(search)\n",
    "\n",
    "# 검색어 및 검색기간 지정시 사용\n",
    "# sdate=\"20211001\"   # 검색시작일\n",
    "# edate=\"20211108\"   # 검색종료일\n",
    "# OpenNewsUrl(search,sdate,edate)   # 날짜, 검색시작일, 검색종료일 순서\n"
   ]
  },
  {
   "cell_type": "code",
   "execution_count": 51,
   "id": "2bf26f8f",
   "metadata": {},
   "outputs": [],
   "source": [
    "def connectDB(dbData):\n",
    "    DB_HOST = '127.0.0.1'\n",
    "    DB_USER = 'root'\n",
    "    DB_PASSWD = 'autoset'\n",
    "    DB_NAME = 'news'\n",
    "    \n",
    "    conn = pymysql.connect(host=DB_HOST, user=DB_USER, password=DB_PASSWD,\n",
    "                       db=DB_NAME, charset='utf8')\n",
    "    curs = conn.cursor()\n",
    "    sql = \"\"\"insert into yhnews(url,newsDate,newsTitle,newsSubtitle,contents) values (%s, %s, %s, %s, %s)\"\"\"\n",
    "    curs.executemany(sql,dbData)\n",
    "    conn.commit()\n",
    "\n",
    "    conn.close()\n"
   ]
  },
  {
   "cell_type": "code",
   "execution_count": null,
   "id": "771237cb",
   "metadata": {},
   "outputs": [],
   "source": []
  },
  {
   "cell_type": "code",
   "execution_count": null,
   "id": "a7fefe4a",
   "metadata": {},
   "outputs": [],
   "source": []
  }
 ],
 "metadata": {
  "kernelspec": {
   "display_name": "Python 3 (ipykernel)",
   "language": "python",
   "name": "python3"
  },
  "language_info": {
   "codemirror_mode": {
    "name": "ipython",
    "version": 3
   },
   "file_extension": ".py",
   "mimetype": "text/x-python",
   "name": "python",
   "nbconvert_exporter": "python",
   "pygments_lexer": "ipython3",
   "version": "3.9.7"
  }
 },
 "nbformat": 4,
 "nbformat_minor": 5
}
