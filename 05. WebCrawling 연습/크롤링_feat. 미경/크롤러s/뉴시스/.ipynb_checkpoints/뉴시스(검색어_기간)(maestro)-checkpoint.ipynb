{
 "cells": [
  {
   "cell_type": "code",
   "execution_count": 1,
   "id": "883b4116-cef9-4eb9-a6a7-8e436917abef",
   "metadata": {},
   "outputs": [],
   "source": [
    "# pip install pymysql"
   ]
  },
  {
   "cell_type": "code",
   "execution_count": 2,
   "id": "7c380743",
   "metadata": {},
   "outputs": [],
   "source": [
    "from selenium import webdriver\n",
    "from selenium.webdriver.common.keys import Keys\n",
    "import time\n",
    "import pymysql"
   ]
  },
  {
   "cell_type": "code",
   "execution_count": 3,
   "id": "72d31987",
   "metadata": {},
   "outputs": [],
   "source": [
    "# 1단계: 사이트 페이지 오픈\n",
    "# url 로 모든 제어가 가능할때 사용하는 함수\n",
    "\n",
    "def OpenNewsUrl(search,sdate,edate):   \n",
    "    url = \"https://newsis.com/search/?val={search}&sort=acc&jo=all_jogun&bun=all_bun&sdate={sdate}&term=direc&edate={edate}&s_yn=Y&catg=0&t=0&page=1&\"\n",
    "    url = url.format(search=search,sdate=sdate,edate=edate)\n",
    "\n",
    "#     print(url)   # url 확인용\n",
    "    \n",
    "    driver = webdriver.Chrome(\"./chromedriver.exe\")\n",
    "    driver.get(url)\n",
    "    time.sleep(2)\n",
    "    \n",
    "    ListNewsUrl(driver)"
   ]
  },
  {
   "cell_type": "code",
   "execution_count": 4,
   "id": "636dc081",
   "metadata": {},
   "outputs": [],
   "source": [
    "# 2단계: 목록에서 페이지 이동하면서 url 가져오기\n",
    "\n",
    "def ListNewsUrl(driver):\n",
    "    url_temp = driver.current_url   # 현재 브라우저의 url 정보를 가져오는 명령어\n",
    "    url_temp = url_temp.replace(\"&page=1\",\"\")   # url 에 page가 포함되어 있기에 이것을 제거\n",
    "    for x in range(1,2+1,1):\n",
    "        url = url_temp + \"&page={pageNo}\".format(pageNo=x)   # 여기 변수명과 위의 변수명은 같아야 함\n",
    "        print(\"리스트: \",url)    # 목록페이지의 url 보는 용도\n",
    "        driver.get(url)\n",
    "        time.sleep(2)            # 2초 대기\n",
    "        \n",
    "        arrStrUrls =[]\n",
    "        arrUrls = driver.find_elements_by_css_selector(\".articleList2 li .tit a\")   # 목록페이지에서 url list 가져오기 \n",
    "        \n",
    "#         print(len(arrUrls))\n",
    "#         print(arrUrls[0])\n",
    "        \n",
    "        for i in arrUrls:\n",
    "            arrStrUrls.append(i.get_attribute(\"href\"))\n",
    "            \n",
    "#             print(i.text)\n",
    "#             print(i.get_attribute(\"href\"))\n",
    "        \n",
    "#         print(\"URL List Count:\",len(arrStrUrls))       # url list가 몇개인지 확인\n",
    "#         for i in arrStrUrls:                           # 배열의 url list 내용 보기 \n",
    "#             print(i)\n",
    "        \n",
    "        NewsInfo(driver,arrStrUrls)\n"
   ]
  },
  {
   "cell_type": "code",
   "execution_count": 5,
   "id": "9057eb4b",
   "metadata": {},
   "outputs": [],
   "source": [
    "# 3단계: 세부페이지에서 제목, 날짜, 내용 가져오기\n",
    "def NewsInfo(driver,arrStrUrl):\n",
    "    try:\n",
    "        for strHref in arrStrUrl:\n",
    "            driver.get(strHref)\n",
    "            time.sleep(2)\n",
    "            print(strHref)\n",
    "\n",
    "            strNewsTitle =\"\"\n",
    "            arrNewsTitles = driver.find_elements_by_css_selector(\".view .top .tit\")\n",
    "            strNewsTitle = arrNewsTitles[0]\n",
    "            strNewsTitle = strNewsTitle.text\n",
    "            print(strNewsTitle)        \n",
    "\n",
    "            strNewsDate =\"\"\n",
    "            arrNewsDates = driver.find_elements_by_css_selector(\".infoLine .left .txt\")  # 날짜가 포함된 html element 가져오기\n",
    "            strNewsDate = arrNewsDates[0].text               # 날짜가 있는 element 내용 보기 .text로 HTML태그 제거\n",
    "            strNewsDate = strNewsDate.replace(\"등록 \",\"\")    # 날짜 앞의 불필요한 글자 지우기\n",
    "            strNewsDate = strNewsDate.replace(\".\",\"\")[0:8]   # 8자리 YYYYMMDD 형태로 만들기\n",
    "            print(strNewsDate)      \n",
    "\n",
    "            strNewsSubtitle = \"\"\n",
    "#             arrNewsSubtitles = driver.find_elements_by_css_selector(\".scroller-wrap01 .story-news .tit-sub \")\n",
    "#             if(len(arrNewsSubtitles) != 0):\n",
    "#                 strNewsSubtitle = arrNewsSubtitles[0].text\n",
    "#             print(strNewsSubtitle)    \n",
    "\n",
    "            strNewsContent = \"\"\n",
    "            arrNewsContents = driver.find_elements_by_css_selector(\".viewer article \")\n",
    "            for i in arrNewsContents:\n",
    "                strNewsContent = strNewsContent + i.text        \n",
    "            print(strNewsContent)\n",
    "\n",
    "#            4단계 DB에 데이터를 넣을때 사용\n",
    "            dbData = [[strHref,strNewsDate,strNewsTitle,strNewsSubtitle,strNewsContent]]\n",
    "            connectDB(dbData)\n",
    "            \n",
    "    except:\n",
    "        print('페이지 오류:',strHref)\n",
    "        pass"
   ]
  },
  {
   "cell_type": "code",
   "execution_count": 6,
   "id": "2bf26f8f",
   "metadata": {},
   "outputs": [],
   "source": [
    "def connectDB(dbData):\n",
    "    DB_HOST = '127.0.0.1'\n",
    "    DB_USER = 'root'\n",
    "    DB_PASSWD = 'autoset'\n",
    "    DB_NAME = 'news'\n",
    "    \n",
    "    conn = pymysql.connect(host=DB_HOST, user=DB_USER, password=DB_PASSWD,\n",
    "                       db=DB_NAME, charset='utf8')\n",
    "    curs = conn.cursor()\n",
    "    sql = \"\"\"insert into yhnews(url,newsDate,newsTitle,newsSubtitle,contents) values (%s, %s, %s, %s, %s)\"\"\"\n",
    "    curs.executemany(sql,dbData)\n",
    "    conn.commit()\n",
    "\n",
    "    conn.close()\n"
   ]
  },
  {
   "cell_type": "code",
   "execution_count": 7,
   "id": "e2b49657",
   "metadata": {},
   "outputs": [
    {
     "name": "stderr",
     "output_type": "stream",
     "text": [
      "C:\\Users\\user\\AppData\\Local\\Temp\\ipykernel_420\\2934169940.py:10: DeprecationWarning: executable_path has been deprecated, please pass in a Service object\n",
      "  driver = webdriver.Chrome(\"./chromedriver.exe\")\n"
     ]
    },
    {
     "ename": "SessionNotCreatedException",
     "evalue": "Message: session not created: This version of ChromeDriver only supports Chrome version 95\nCurrent browser version is 108.0.5359.125 with binary path C:\\Program Files\\Google\\Chrome\\Application\\chrome.exe\nStacktrace:\nBacktrace:\n\tOrdinal0 [0x00420C43+2493507]\n\tOrdinal0 [0x003BA4B1+2073777]\n\tOrdinal0 [0x002C2608+1058312]\n\tOrdinal0 [0x002E0771+1181553]\n\tOrdinal0 [0x002DC57B+1164667]\n\tOrdinal0 [0x002D9DCF+1154511]\n\tOrdinal0 [0x00309F0F+1351439]\n\tOrdinal0 [0x00309B7A+1350522]\n\tOrdinal0 [0x0030580B+1333259]\n\tOrdinal0 [0x002E2314+1188628]\n\tOrdinal0 [0x002E316F+1192303]\n\tGetHandleVerifier [0x005A7BF6+1548950]\n\tGetHandleVerifier [0x0065461C+2256060]\n\tGetHandleVerifier [0x004AC13B+518107]\n\tGetHandleVerifier [0x004AB1E0+514176]\n\tOrdinal0 [0x003BF53D+2094397]\n\tOrdinal0 [0x003C3418+2110488]\n\tOrdinal0 [0x003C3552+2110802]\n\tOrdinal0 [0x003CCE81+2150017]\n\tBaseThreadInitThunk [0x75A700F9+25]\n\tRtlGetAppContainerNamedObjectPath [0x77207BBE+286]\n\tRtlGetAppContainerNamedObjectPath [0x77207B8E+238]\n",
     "output_type": "error",
     "traceback": [
      "\u001b[1;31m---------------------------------------------------------------------------\u001b[0m",
      "\u001b[1;31mSessionNotCreatedException\u001b[0m                Traceback (most recent call last)",
      "Input \u001b[1;32mIn [7]\u001b[0m, in \u001b[0;36m<cell line: 4>\u001b[1;34m()\u001b[0m\n\u001b[0;32m      2\u001b[0m sdate \u001b[38;5;241m=\u001b[39m \u001b[38;5;124m\"\u001b[39m\u001b[38;5;124m20210701\u001b[39m\u001b[38;5;124m\"\u001b[39m\n\u001b[0;32m      3\u001b[0m edate \u001b[38;5;241m=\u001b[39m \u001b[38;5;124m\"\u001b[39m\u001b[38;5;124m20211101\u001b[39m\u001b[38;5;124m\"\u001b[39m\n\u001b[1;32m----> 4\u001b[0m \u001b[43mOpenNewsUrl\u001b[49m\u001b[43m(\u001b[49m\u001b[43msearch\u001b[49m\u001b[43m,\u001b[49m\u001b[43msdate\u001b[49m\u001b[43m,\u001b[49m\u001b[43medate\u001b[49m\u001b[43m)\u001b[49m\n",
      "Input \u001b[1;32mIn [3]\u001b[0m, in \u001b[0;36mOpenNewsUrl\u001b[1;34m(search, sdate, edate)\u001b[0m\n\u001b[0;32m      6\u001b[0m     url \u001b[38;5;241m=\u001b[39m url\u001b[38;5;241m.\u001b[39mformat(search\u001b[38;5;241m=\u001b[39msearch,sdate\u001b[38;5;241m=\u001b[39msdate,edate\u001b[38;5;241m=\u001b[39medate)\n\u001b[0;32m      8\u001b[0m \u001b[38;5;66;03m#     print(url)   # url 확인용\u001b[39;00m\n\u001b[1;32m---> 10\u001b[0m     driver \u001b[38;5;241m=\u001b[39m \u001b[43mwebdriver\u001b[49m\u001b[38;5;241;43m.\u001b[39;49m\u001b[43mChrome\u001b[49m\u001b[43m(\u001b[49m\u001b[38;5;124;43m\"\u001b[39;49m\u001b[38;5;124;43m./chromedriver.exe\u001b[39;49m\u001b[38;5;124;43m\"\u001b[39;49m\u001b[43m)\u001b[49m\n\u001b[0;32m     11\u001b[0m     driver\u001b[38;5;241m.\u001b[39mget(url)\n\u001b[0;32m     12\u001b[0m     time\u001b[38;5;241m.\u001b[39msleep(\u001b[38;5;241m2\u001b[39m)\n",
      "File \u001b[1;32m~\\anaconda3\\lib\\site-packages\\selenium\\webdriver\\chrome\\webdriver.py:69\u001b[0m, in \u001b[0;36mWebDriver.__init__\u001b[1;34m(self, executable_path, port, options, service_args, desired_capabilities, service_log_path, chrome_options, service, keep_alive)\u001b[0m\n\u001b[0;32m     66\u001b[0m \u001b[38;5;28;01mif\u001b[39;00m \u001b[38;5;129;01mnot\u001b[39;00m service:\n\u001b[0;32m     67\u001b[0m     service \u001b[38;5;241m=\u001b[39m Service(executable_path, port, service_args, service_log_path)\n\u001b[1;32m---> 69\u001b[0m \u001b[38;5;28;43msuper\u001b[39;49m\u001b[43m(\u001b[49m\u001b[43m)\u001b[49m\u001b[38;5;241;43m.\u001b[39;49m\u001b[38;5;21;43m__init__\u001b[39;49m\u001b[43m(\u001b[49m\u001b[43mDesiredCapabilities\u001b[49m\u001b[38;5;241;43m.\u001b[39;49m\u001b[43mCHROME\u001b[49m\u001b[43m[\u001b[49m\u001b[38;5;124;43m'\u001b[39;49m\u001b[38;5;124;43mbrowserName\u001b[39;49m\u001b[38;5;124;43m'\u001b[39;49m\u001b[43m]\u001b[49m\u001b[43m,\u001b[49m\u001b[43m \u001b[49m\u001b[38;5;124;43m\"\u001b[39;49m\u001b[38;5;124;43mgoog\u001b[39;49m\u001b[38;5;124;43m\"\u001b[39;49m\u001b[43m,\u001b[49m\n\u001b[0;32m     70\u001b[0m \u001b[43m                 \u001b[49m\u001b[43mport\u001b[49m\u001b[43m,\u001b[49m\u001b[43m \u001b[49m\u001b[43moptions\u001b[49m\u001b[43m,\u001b[49m\n\u001b[0;32m     71\u001b[0m \u001b[43m                 \u001b[49m\u001b[43mservice_args\u001b[49m\u001b[43m,\u001b[49m\u001b[43m \u001b[49m\u001b[43mdesired_capabilities\u001b[49m\u001b[43m,\u001b[49m\n\u001b[0;32m     72\u001b[0m \u001b[43m                 \u001b[49m\u001b[43mservice_log_path\u001b[49m\u001b[43m,\u001b[49m\u001b[43m \u001b[49m\u001b[43mservice\u001b[49m\u001b[43m,\u001b[49m\u001b[43m \u001b[49m\u001b[43mkeep_alive\u001b[49m\u001b[43m)\u001b[49m\n",
      "File \u001b[1;32m~\\anaconda3\\lib\\site-packages\\selenium\\webdriver\\chromium\\webdriver.py:92\u001b[0m, in \u001b[0;36mChromiumDriver.__init__\u001b[1;34m(self, browser_name, vendor_prefix, port, options, service_args, desired_capabilities, service_log_path, service, keep_alive)\u001b[0m\n\u001b[0;32m     89\u001b[0m \u001b[38;5;28mself\u001b[39m\u001b[38;5;241m.\u001b[39mservice\u001b[38;5;241m.\u001b[39mstart()\n\u001b[0;32m     91\u001b[0m \u001b[38;5;28;01mtry\u001b[39;00m:\n\u001b[1;32m---> 92\u001b[0m     \u001b[38;5;28;43msuper\u001b[39;49m\u001b[43m(\u001b[49m\u001b[43m)\u001b[49m\u001b[38;5;241;43m.\u001b[39;49m\u001b[38;5;21;43m__init__\u001b[39;49m\u001b[43m(\u001b[49m\n\u001b[0;32m     93\u001b[0m \u001b[43m        \u001b[49m\u001b[43mcommand_executor\u001b[49m\u001b[38;5;241;43m=\u001b[39;49m\u001b[43mChromiumRemoteConnection\u001b[49m\u001b[43m(\u001b[49m\n\u001b[0;32m     94\u001b[0m \u001b[43m            \u001b[49m\u001b[43mremote_server_addr\u001b[49m\u001b[38;5;241;43m=\u001b[39;49m\u001b[38;5;28;43mself\u001b[39;49m\u001b[38;5;241;43m.\u001b[39;49m\u001b[43mservice\u001b[49m\u001b[38;5;241;43m.\u001b[39;49m\u001b[43mservice_url\u001b[49m\u001b[43m,\u001b[49m\n\u001b[0;32m     95\u001b[0m \u001b[43m            \u001b[49m\u001b[43mbrowser_name\u001b[49m\u001b[38;5;241;43m=\u001b[39;49m\u001b[43mbrowser_name\u001b[49m\u001b[43m,\u001b[49m\u001b[43m \u001b[49m\u001b[43mvendor_prefix\u001b[49m\u001b[38;5;241;43m=\u001b[39;49m\u001b[43mvendor_prefix\u001b[49m\u001b[43m,\u001b[49m\n\u001b[0;32m     96\u001b[0m \u001b[43m            \u001b[49m\u001b[43mkeep_alive\u001b[49m\u001b[38;5;241;43m=\u001b[39;49m\u001b[43mkeep_alive\u001b[49m\u001b[43m,\u001b[49m\u001b[43m \u001b[49m\u001b[43mignore_proxy\u001b[49m\u001b[38;5;241;43m=\u001b[39;49m\u001b[43m_ignore_proxy\u001b[49m\u001b[43m)\u001b[49m\u001b[43m,\u001b[49m\n\u001b[0;32m     97\u001b[0m \u001b[43m        \u001b[49m\u001b[43moptions\u001b[49m\u001b[38;5;241;43m=\u001b[39;49m\u001b[43moptions\u001b[49m\u001b[43m)\u001b[49m\n\u001b[0;32m     98\u001b[0m \u001b[38;5;28;01mexcept\u001b[39;00m \u001b[38;5;167;01mException\u001b[39;00m:\n\u001b[0;32m     99\u001b[0m     \u001b[38;5;28mself\u001b[39m\u001b[38;5;241m.\u001b[39mquit()\n",
      "File \u001b[1;32m~\\anaconda3\\lib\\site-packages\\selenium\\webdriver\\remote\\webdriver.py:277\u001b[0m, in \u001b[0;36mWebDriver.__init__\u001b[1;34m(self, command_executor, desired_capabilities, browser_profile, proxy, keep_alive, file_detector, options)\u001b[0m\n\u001b[0;32m    275\u001b[0m \u001b[38;5;28mself\u001b[39m\u001b[38;5;241m.\u001b[39m_authenticator_id \u001b[38;5;241m=\u001b[39m \u001b[38;5;28;01mNone\u001b[39;00m\n\u001b[0;32m    276\u001b[0m \u001b[38;5;28mself\u001b[39m\u001b[38;5;241m.\u001b[39mstart_client()\n\u001b[1;32m--> 277\u001b[0m \u001b[38;5;28;43mself\u001b[39;49m\u001b[38;5;241;43m.\u001b[39;49m\u001b[43mstart_session\u001b[49m\u001b[43m(\u001b[49m\u001b[43mcapabilities\u001b[49m\u001b[43m,\u001b[49m\u001b[43m \u001b[49m\u001b[43mbrowser_profile\u001b[49m\u001b[43m)\u001b[49m\n",
      "File \u001b[1;32m~\\anaconda3\\lib\\site-packages\\selenium\\webdriver\\remote\\webdriver.py:370\u001b[0m, in \u001b[0;36mWebDriver.start_session\u001b[1;34m(self, capabilities, browser_profile)\u001b[0m\n\u001b[0;32m    368\u001b[0m w3c_caps \u001b[38;5;241m=\u001b[39m _make_w3c_caps(capabilities)\n\u001b[0;32m    369\u001b[0m parameters \u001b[38;5;241m=\u001b[39m {\u001b[38;5;124m\"\u001b[39m\u001b[38;5;124mcapabilities\u001b[39m\u001b[38;5;124m\"\u001b[39m: w3c_caps}\n\u001b[1;32m--> 370\u001b[0m response \u001b[38;5;241m=\u001b[39m \u001b[38;5;28;43mself\u001b[39;49m\u001b[38;5;241;43m.\u001b[39;49m\u001b[43mexecute\u001b[49m\u001b[43m(\u001b[49m\u001b[43mCommand\u001b[49m\u001b[38;5;241;43m.\u001b[39;49m\u001b[43mNEW_SESSION\u001b[49m\u001b[43m,\u001b[49m\u001b[43m \u001b[49m\u001b[43mparameters\u001b[49m\u001b[43m)\u001b[49m\n\u001b[0;32m    371\u001b[0m \u001b[38;5;28;01mif\u001b[39;00m \u001b[38;5;124m'\u001b[39m\u001b[38;5;124msessionId\u001b[39m\u001b[38;5;124m'\u001b[39m \u001b[38;5;129;01mnot\u001b[39;00m \u001b[38;5;129;01min\u001b[39;00m response:\n\u001b[0;32m    372\u001b[0m     response \u001b[38;5;241m=\u001b[39m response[\u001b[38;5;124m'\u001b[39m\u001b[38;5;124mvalue\u001b[39m\u001b[38;5;124m'\u001b[39m]\n",
      "File \u001b[1;32m~\\anaconda3\\lib\\site-packages\\selenium\\webdriver\\remote\\webdriver.py:435\u001b[0m, in \u001b[0;36mWebDriver.execute\u001b[1;34m(self, driver_command, params)\u001b[0m\n\u001b[0;32m    433\u001b[0m response \u001b[38;5;241m=\u001b[39m \u001b[38;5;28mself\u001b[39m\u001b[38;5;241m.\u001b[39mcommand_executor\u001b[38;5;241m.\u001b[39mexecute(driver_command, params)\n\u001b[0;32m    434\u001b[0m \u001b[38;5;28;01mif\u001b[39;00m response:\n\u001b[1;32m--> 435\u001b[0m     \u001b[38;5;28;43mself\u001b[39;49m\u001b[38;5;241;43m.\u001b[39;49m\u001b[43merror_handler\u001b[49m\u001b[38;5;241;43m.\u001b[39;49m\u001b[43mcheck_response\u001b[49m\u001b[43m(\u001b[49m\u001b[43mresponse\u001b[49m\u001b[43m)\u001b[49m\n\u001b[0;32m    436\u001b[0m     response[\u001b[38;5;124m'\u001b[39m\u001b[38;5;124mvalue\u001b[39m\u001b[38;5;124m'\u001b[39m] \u001b[38;5;241m=\u001b[39m \u001b[38;5;28mself\u001b[39m\u001b[38;5;241m.\u001b[39m_unwrap_value(\n\u001b[0;32m    437\u001b[0m         response\u001b[38;5;241m.\u001b[39mget(\u001b[38;5;124m'\u001b[39m\u001b[38;5;124mvalue\u001b[39m\u001b[38;5;124m'\u001b[39m, \u001b[38;5;28;01mNone\u001b[39;00m))\n\u001b[0;32m    438\u001b[0m     \u001b[38;5;28;01mreturn\u001b[39;00m response\n",
      "File \u001b[1;32m~\\anaconda3\\lib\\site-packages\\selenium\\webdriver\\remote\\errorhandler.py:247\u001b[0m, in \u001b[0;36mErrorHandler.check_response\u001b[1;34m(self, response)\u001b[0m\n\u001b[0;32m    245\u001b[0m         alert_text \u001b[38;5;241m=\u001b[39m value[\u001b[38;5;124m'\u001b[39m\u001b[38;5;124malert\u001b[39m\u001b[38;5;124m'\u001b[39m]\u001b[38;5;241m.\u001b[39mget(\u001b[38;5;124m'\u001b[39m\u001b[38;5;124mtext\u001b[39m\u001b[38;5;124m'\u001b[39m)\n\u001b[0;32m    246\u001b[0m     \u001b[38;5;28;01mraise\u001b[39;00m exception_class(message, screen, stacktrace, alert_text)  \u001b[38;5;66;03m# type: ignore[call-arg]  # mypy is not smart enough here\u001b[39;00m\n\u001b[1;32m--> 247\u001b[0m \u001b[38;5;28;01mraise\u001b[39;00m exception_class(message, screen, stacktrace)\n",
      "\u001b[1;31mSessionNotCreatedException\u001b[0m: Message: session not created: This version of ChromeDriver only supports Chrome version 95\nCurrent browser version is 108.0.5359.125 with binary path C:\\Program Files\\Google\\Chrome\\Application\\chrome.exe\nStacktrace:\nBacktrace:\n\tOrdinal0 [0x00420C43+2493507]\n\tOrdinal0 [0x003BA4B1+2073777]\n\tOrdinal0 [0x002C2608+1058312]\n\tOrdinal0 [0x002E0771+1181553]\n\tOrdinal0 [0x002DC57B+1164667]\n\tOrdinal0 [0x002D9DCF+1154511]\n\tOrdinal0 [0x00309F0F+1351439]\n\tOrdinal0 [0x00309B7A+1350522]\n\tOrdinal0 [0x0030580B+1333259]\n\tOrdinal0 [0x002E2314+1188628]\n\tOrdinal0 [0x002E316F+1192303]\n\tGetHandleVerifier [0x005A7BF6+1548950]\n\tGetHandleVerifier [0x0065461C+2256060]\n\tGetHandleVerifier [0x004AC13B+518107]\n\tGetHandleVerifier [0x004AB1E0+514176]\n\tOrdinal0 [0x003BF53D+2094397]\n\tOrdinal0 [0x003C3418+2110488]\n\tOrdinal0 [0x003C3552+2110802]\n\tOrdinal0 [0x003CCE81+2150017]\n\tBaseThreadInitThunk [0x75A700F9+25]\n\tRtlGetAppContainerNamedObjectPath [0x77207BBE+286]\n\tRtlGetAppContainerNamedObjectPath [0x77207B8E+238]\n"
     ]
    }
   ],
   "source": [
    "search = \"요소수\"  # 검색어\n",
    "sdate = \"20210701\"\n",
    "edate = \"20211101\"\n",
    "OpenNewsUrl(search,sdate,edate)   "
   ]
  },
  {
   "cell_type": "code",
   "execution_count": null,
   "id": "771237cb",
   "metadata": {},
   "outputs": [],
   "source": []
  }
 ],
 "metadata": {
  "kernelspec": {
   "display_name": "Python 3 (ipykernel)",
   "language": "python",
   "name": "python3"
  },
  "language_info": {
   "codemirror_mode": {
    "name": "ipython",
    "version": 3
   },
   "file_extension": ".py",
   "mimetype": "text/x-python",
   "name": "python",
   "nbconvert_exporter": "python",
   "pygments_lexer": "ipython3",
   "version": "3.9.12"
  }
 },
 "nbformat": 4,
 "nbformat_minor": 5
}
