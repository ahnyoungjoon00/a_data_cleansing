{
 "cells": [
  {
   "cell_type": "code",
   "execution_count": 7,
   "id": "7c380743",
   "metadata": {},
   "outputs": [],
   "source": [
    "from selenium import webdriver\n",
    "from selenium.webdriver.common.keys import Keys\n",
    "import time\n",
    "import pymysql"
   ]
  },
  {
   "cell_type": "code",
   "execution_count": 8,
   "id": "72d31987",
   "metadata": {},
   "outputs": [],
   "source": [
    "# 1단계: 사이트 페이지 오픈\n",
    "# url 로 모든 제어가 가능할때 사용하는 함수\n",
    "\n",
    "\n",
    "def OpenNewsUrl(search,sdate,edate):   # 넘겨주는 파라메터가 1개이므로 받는 것도 1개이어야 함\n",
    "    url = \"https://www.yna.co.kr/search/index?query={search}&ctype=A&page_no=1\"  \n",
    "    url = url.format(search=search)\n",
    "\n",
    "#     print(url)   # url 확인용\n",
    "    \n",
    "    driver = webdriver.Chrome(\"./chromedriver.exe\")\n",
    "    driver.get(url)\n",
    "    time.sleep(2)\n",
    "    \n",
    "    ListNewsUrl(driver)"
   ]
  },
  {
   "cell_type": "code",
   "execution_count": 9,
   "id": "636dc081",
   "metadata": {},
   "outputs": [],
   "source": [
    "# 2단계: 목록에서 페이지 이동하면서 url 가져오기\n",
    "\n",
    "def ListNewsUrl(driver):\n",
    "    url_temp = driver.current_url   # 현재 브라우저의 url 정보를 가져오는 명령어\n",
    "    url_temp = url_temp.replace(\"page_no=1\",\"\")   # url 에 page가 포함되어 있기에 이것을 제거\n",
    "    for x in range(1,(15*2)+1,15):\n",
    "        url = url_temp + \"&page_no={pageNo}\".format(pageNo=x)   # page부분은 위 url과 같아야함\n",
    "        print(\"리스트: \",url)    # 목록페이지의 url 보는 용도\n",
    "        driver.get(url)\n",
    "        time.sleep(2)            # 2초 대기\n",
    "        \n",
    "        arrStrUrls =[]\n",
    "        arrUrls = driver.find_elements_by_css_selector(\".cts_atclst li a\")   # 목록페이지에서 url list 가져오기 \n",
    "        \n",
    "#         print(len(arrUrls))\n",
    "#         print(arrUrls[0])\n",
    "        \n",
    "        for i in arrUrls:\n",
    "#             print(i.text)\n",
    "#             print(i.get_attribute(\"href\"))\n",
    "            arrStrUrls.append(i.get_attribute(\"href\"))\n",
    "        \n",
    "        print(\"URL List Count:\",len(arrStrUrls))       # url list가 몇개인지 확인\n",
    "        for i in arrStrUrls:                           # 배열의 url list 내용 보기 \n",
    "            print(i)\n",
    "        \n",
    "        NewsInfo(driver,arrStrUrls)\n"
   ]
  },
  {
   "cell_type": "code",
   "execution_count": 10,
   "id": "9057eb4b",
   "metadata": {},
   "outputs": [],
   "source": [
    "# 3단계: 세부페이지에서 제목, 날짜, 내용 가져오기\n",
    "def NewsInfo(driver,arrStrUrl):\n",
    "    try:\n",
    "        for strHref in arrStrUrl:\n",
    "            driver.get(strHref)\n",
    "            time.sleep(2)\n",
    "            print(strHref)\n",
    "\n",
    "            strNewsTitle =\"\"\n",
    "            arrNewsTitles = driver.find_elements_by_css_selector(\".title-article01 .tit\")\n",
    "            strNewsTitle = arrNewsTitles[0]\n",
    "            strNewsTitle = strNewsTitle.text\n",
    "            print(strNewsTitle)        \n",
    "\n",
    "            strNewsDate =\"\"\n",
    "            arrNewsDates = driver.find_elements_by_css_selector(\".title-article01 .update-time\")  # 날짜가 포함된 html element 가져오기\n",
    "            strNewsDate = arrNewsDates[0].text               # 날짜가 있는 element 내용 보기 .text로 HTML태그 제거\n",
    "            strNewsDate = strNewsDate.replace(\"송고시간\",\"\")    # 날짜 앞의 불필요한 글자 지우기\n",
    "            strNewsDate = strNewsDate.replace(\"-\",\"\")[0:8]   # 8자리 YYYYMMDD 형태로 만들기\n",
    "            print(strNewsDate)      \n",
    "\n",
    "            strNewsSubtitle = \"\"\n",
    "#             arrNewsSubtitles = driver.find_elements_by_css_selector(\".scroller-wrap01 .story-news .tit-sub \")\n",
    "#             if(len(arrNewsSubtitles) != 0):\n",
    "#                 strNewsSubtitle = arrNewsSubtitles[0].text\n",
    "#             print(strNewsSubtitle)    \n",
    "\n",
    "            strNewsContent = \"\"\n",
    "            arrNewsContents = driver.find_elements_by_css_selector(\".scroller01 .story-news p\")\n",
    "            for i in arrNewsContents:\n",
    "                strNewsContent = strNewsContent + i.text        \n",
    "            print(strNewsContent)\n",
    "\n",
    "#            4단계 DB에 데이터를 넣을때 사용\n",
    "#            dbData = [[strHref,strNewsDate,strNewsTitle,strNewsSubtitle,strNewsContent]]\n",
    "#             connectDB(dbData)\n",
    "            \n",
    "    except:\n",
    "        print(strHref)\n",
    "        print('페이지 오류')\n",
    "        pass"
   ]
  },
  {
   "cell_type": "code",
   "execution_count": null,
   "id": "e2b49657",
   "metadata": {
    "scrolled": true
   },
   "outputs": [
    {
     "name": "stderr",
     "output_type": "stream",
     "text": [
      "C:\\Users\\user\\AppData\\Local\\Temp/ipykernel_5808/2515585555.py:11: DeprecationWarning: executable_path has been deprecated, please pass in a Service object\n",
      "  driver = webdriver.Chrome(\"./chromedriver.exe\")\n"
     ]
    },
    {
     "name": "stdout",
     "output_type": "stream",
     "text": [
      "리스트:  https://www.yna.co.kr/search/index?query=%EC%9A%94%EC%86%8C%EC%88%98&ctype=A&&page_no=1\n"
     ]
    },
    {
     "name": "stderr",
     "output_type": "stream",
     "text": [
      "C:\\Users\\user\\AppData\\Local\\Temp/ipykernel_5808/3344277398.py:13: DeprecationWarning: find_elements_by_* commands are deprecated. Please use find_elements() instead\n",
      "  arrUrls = driver.find_elements_by_css_selector(\".cts_atclst li a\")   # 목록페이지에서 url list 가져오기\n"
     ]
    },
    {
     "name": "stdout",
     "output_type": "stream",
     "text": [
      "URL List Count: 10\n",
      "https://www.yna.co.kr/view/AKR20211110128600011?section=search\n",
      "https://www.yna.co.kr/view/AKR20211110037951051?section=search\n",
      "https://www.yna.co.kr/view/AKR20211110076051001?section=search\n",
      "https://www.yna.co.kr/view/AKR20211110106251002?section=search\n",
      "https://www.yna.co.kr/view/AKR20211110123800003?section=search\n",
      "https://www.yna.co.kr/view/AKR20211110124300052?section=search\n",
      "https://www.yna.co.kr/view/AKR20211110116800003?section=search\n",
      "https://www.yna.co.kr/view/AKR20211110121600063?section=search\n",
      "https://www.yna.co.kr/view/AKR20211110116900371?section=search\n",
      "https://www.yna.co.kr/view/AKR20211110083351001?section=search\n",
      "https://www.yna.co.kr/view/AKR20211110128600011?section=search\n",
      "[연합뉴스 이 시각 헤드라인] - 16:00\n",
      "20211110\n"
     ]
    },
    {
     "name": "stderr",
     "output_type": "stream",
     "text": [
      "C:\\Users\\user\\AppData\\Local\\Temp/ipykernel_5808/605851545.py:10: DeprecationWarning: find_elements_by_* commands are deprecated. Please use find_elements() instead\n",
      "  arrNewsTitles = driver.find_elements_by_css_selector(\".title-article01 .tit\")\n",
      "C:\\Users\\user\\AppData\\Local\\Temp/ipykernel_5808/605851545.py:16: DeprecationWarning: find_elements_by_* commands are deprecated. Please use find_elements() instead\n",
      "  arrNewsDates = driver.find_elements_by_css_selector(\".title-article01 .update-time\")  # 날짜가 포함된 html element 가져오기\n",
      "C:\\Users\\user\\AppData\\Local\\Temp/ipykernel_5808/605851545.py:29: DeprecationWarning: find_elements_by_* commands are deprecated. Please use find_elements() instead\n",
      "  arrNewsContents = driver.find_elements_by_css_selector(\".scroller01 .story-news p\")\n"
     ]
    },
    {
     "name": "stdout",
     "output_type": "stream",
     "text": [
      "■ 국내 차량용 요소수 2.5개월치 확보…베트남 요소 5천t 추가 도입정부는 10일 이억원 기획재정부 제1차관 주재로 개최한 요소수 수급 관련 범부처 합동 대응 회의에서 국내에서 약 2달 반 동안 사용할 수 있는 차량용 요소수를 확보했다고 밝혔다. 이는 앞서 확보한 호주 수입 물량과 중국·베트남에서 수입 예정인 물량, 현장점검을 통해 파악한 국내 보유 물량, 군부대 예비분 등을 합친 규모다. 정부는 \"아직 파악하지 못한 국내 보유량을 고려하면 앞으로 3개월까지도 물량 문제는 없을 것으로 전망한다\"고 밝혔다. 정부는 또 베트남에서 요소 추가 물량 5천톤(t)을 확보했다고 밝혔다.전문보기: http://yna.kr/P0RMrKLDAJu[연합뉴스 자료사진]■ 홍남기 \"초과세수 10조대…法요건 맞는것만 납세유예 가능\"홍남기 부총리 겸 기획재정부 장관은 10일 더불어민주당이 이재명 대선후보의 '전국민 추가 재난지원금' 방침과 관련, 세금납부를 유예하는 방안에 대해 \"마음대로 되는 게 아니라 국세징수법에 유예 요건이 있다\"고 말했다. 홍 부총리는 국회 예산결산특별위원회 종합정책질의에서 국민의힘 정희용 의원이 '민주당 주장처럼 세수를 내년으로 넘겨잡는 게 가능한가'라고 묻자 이같이 답변했다. 초과세수 규모에 대해선 \"세수가 7, 8, 9월에 한 달에 30조원 정도 들어오는데 11∼12월은 절반 토막 정도 들어올 것으로 예상되나, 변수가 있어 정확한 예측은 어렵다\"면서도 \"10조원대 초과 세수가 있을 것 같다\"고 했다.전문보기: http://yna.kr/Q-RwrK2DAJo■ 김헌동 SH 사장 후보 \"이르면 내년 초 반값 아파트 예약제\"김헌동 서울주택도시공사(SH) 사장 후보자는 10일 시의회 인사청문회에서 '반값 아파트'로 불리는 토지임대부 주택 공급을 확대하겠다는 뜻을 밝혔다. 김 후보자는 정책 소견 발표를 통해 \"토지는 공공이 보유하고, 건물만 분양하는 방식인 '반값 아파트'도 넉넉하게 공급해 주택 매입 초기 비용이 최소화되도록 하겠다\"고 말했다. '반값 아파트'는 토지임대부 분양주택을 뜻한다. 김 후보자는 이날 청문회에서 \"기반시설이 갖춰진 곳은 이르면 내년 초라도 예약제를 도입해 빠르게 시행할 준비를 하겠다\"며 \"강남은 SH 이윤을 붙여 5억원으로 (분양)하고, 서울 주변은 3억원 정도가 적정하지 않을까 판단한다\"고 설명했다.전문보기: http://yna.kr/I.RurKoDAJF■ 10월 은행 가계대출 5.2조원↑…규제 등에 증가 폭 줄어지난달 은행권 가계대출이 전세자금 대출을 포함한 주택담보대출 중심으로 또 5조원 이상 늘었다. 하지만 집단대출 감소와 금융감독당국·은행의 '가계대출 조이기' 등의 영향으로 증가 속도는 다소 더뎌졌다. 한국은행이 10일 발표한 '금융시장 동향'에 따르면 10월 말 기준 은행의 가계대출 잔액은 1천57조9천억원으로 9월 말보다 5조2천억원 증가했다. 증가액은 8월(6조1천억원)이나 9월(6조4천억원)보다 1조원 이상 적고, 지난 5월(-1.6조원) 이후 5개월 만에 최소 규모다.전문보기: http://yna.kr/K-R8rKmDAJz■ 두산 5남 박용만, 두 아들과 함께 그룹 떠난다고(故) 박두병 두산그룹 초대 회장의 5남인 박용만 대한상공회의소 전 회장이 두산경영연구원 회장을 사임하고 그룹을 떠난다. 두산그룹은 10일 \"박용만 전 회장이 두산경영연구원 회장직에서 사임한다\"며 \"두 아들인 박서원 오리콤 부사장, 박재원 두산중공업 상무도 '전문 분야에 맞는 커리어를 위해 그룹 임원직에서 물러난다'고 박 전 회장이 알려왔다\"고 밝혔다. 이어 \"박 전 회장은 경영 일선에서 물러나서 이사장을 맡고 계신 재단법인 '같이 걷는 길' 등을 통해 지역사회에 대한 봉사, 소외계층 구호사업 등 사회에 대한 기여에 힘쓸 것이라고 전해왔다\"고 덧붙였다.전문보기: http://yna.kr/J.RSrKpDAJL■ 의료연대 내일 총파업 예고…정부 \"진료 차질은 없을 것\"민주노총 공공운수노조 의료연대본부(의료연대)가 공공의료 확대와 간호인력 충원 등을 요구하며 11일 총파업을 예고한 가운데 정부는 이로 인해 진료에 차질이 빚어지지는 않을 것으로 봤다. 이창준 보건복지부 보건의료정책관은 10일 코로나19 대응 정례브리핑에서 의료연대 파업 진행 시 진료 공백과 관련해 \"내일 의료연대 차원의 집회가 예고됐지만, 개별 의료기관의 파업이라기보다 (노조) 간부를 중심으로 정책 개선을 촉구하는 집회가 될 것으로 예상한다\"며 \"진료 차질에는 큰 우려가 없다\"고 밝혔다.전문보기: http://yna.kr/0-RlrKWDAJN■ 접종완료자 12만여명 늘어 77.2%…12∼15세 31.2% 예약 마쳐국내 코로나19 백신 접종이 진행되면서 10일 접종 완료율이 77%를 넘었다. 코로나19 예방접종대응추진단(추진단)에 따르면 코로나19 백신을 권고 횟수대로 모두 맞아 접종 완료자가 된 사람은 이날 0시 기준으로 총 3천962만6천34명이다. 우리나라 인구(작년 12월 기준 5천134만9천116명) 대비 접종 완료율은 77.2%이고, 18세 이상 인구 대비로는 89.6%다. 1일부터 접종이 시작된 12∼15세의 경우 대상자의 31.2%(57만7천17명)가 예약을 마쳤다.전문보기: http://yna.kr/SZRbrKcDAJd■ 외무상만 바꾼 기시다 2차 내각 출범…새 외무상에 하야시기시다 후미오(岸田文雄) 일본 총리가 취임 한 달여 만에 대수(代數)를 바꾸어 제101대 총리로 다시 취임했다. 기시다 총리는 지난달 31일 여당 측 승리로 끝난 총선으로 중의원(하원)이 새롭게 구성됨에 따라 10일 오후 열린 특별국회 중·참의원(상원) 본회의에서 총리로 다시 지명됐다. 제101대 총리가 된 기시다는 자민·공명 연립여당이 참여한 2차 내각을 발족했다. 1차 내각 때와 비교해 외무상만 바뀌었다. 외무상에 하야시 요시마사(林芳正) 전 문부과학상이 기용됐다.전문보기: http://yna.kr/d0RyrKzDAJ2■ 일본, 18세 이하 105만원 지급…가구소득 상위 10％ 제외일본 여당이 18세 이하에게 1인당 10만엔(약 105만원)을 지급하는 코로나19 경제대책 대상을 상위 10% 가구는 제외하기로 했다고 니혼게이자이(日本經濟)신문이 보도했다. 보도에 따르면 기시다 후미오(岸田文雄) 총리와 연립정부 파트너인 공명당 야마구치 나쓰오(山口那津男) 대표가 이같이 합의했다. 공명당은 지난달 31일 중의원 총선을 앞두고 18세 이하 모든 국민에게 10만엔을 지급하는 방안을 공약으로 제시했다.전문보기: http://yna.kr/t0RjrKFDAJs<저작권자(c) 연합뉴스, 무단 전재-재배포 금지> 2021/11/10 16:00 송고\n"
     ]
    }
   ],
   "source": [
    "search = \"요소수\"  # 검색어\n",
    "sdate=\"20211001\"   # 검색시작일\n",
    "edate=\"20211108\"   # 검색종료일\n",
    "OpenNewsUrl(search,sdate,edate)   # 날짜, 검색시작일, 검색종료일 순서"
   ]
  },
  {
   "cell_type": "code",
   "execution_count": null,
   "id": "2bf26f8f",
   "metadata": {},
   "outputs": [],
   "source": [
    "def connectDB(dbData):\n",
    "    DB_HOST = '127.0.0.1'\n",
    "    DB_USER = 'root'\n",
    "    DB_PASSWD = 'autoset'\n",
    "    DB_NAME = 'news'\n",
    "    \n",
    "    conn = pymysql.connect(host=DB_HOST, user=DB_USER, password=DB_PASSWD,\n",
    "                       db=DB_NAME, charset='utf8')\n",
    "    curs = conn.cursor()\n",
    "    sql = \"\"\"insert into yhnews(url,newsDate,newsTitle,newsSubtitle,contents) values (%s, %s, %s, %s, %s)\"\"\"\n",
    "    curs.executemany(sql,dbData)\n",
    "    conn.commit()\n",
    "\n",
    "    conn.close()\n"
   ]
  },
  {
   "cell_type": "code",
   "execution_count": null,
   "id": "097114c7",
   "metadata": {},
   "outputs": [],
   "source": []
  }
 ],
 "metadata": {
  "kernelspec": {
   "display_name": "Python 3 (ipykernel)",
   "language": "python",
   "name": "python3"
  },
  "language_info": {
   "codemirror_mode": {
    "name": "ipython",
    "version": 3
   },
   "file_extension": ".py",
   "mimetype": "text/x-python",
   "name": "python",
   "nbconvert_exporter": "python",
   "pygments_lexer": "ipython3",
   "version": "3.9.7"
  }
 },
 "nbformat": 4,
 "nbformat_minor": 5
}
