{
 "cells": [
  {
   "cell_type": "code",
   "execution_count": 1,
   "id": "8cac444e-57c5-4f1a-b75b-730612caea1b",
   "metadata": {},
   "outputs": [],
   "source": [
    "import requests\n",
    "from bs4 import BeautifulSoup\n",
    "import urllib3\n",
    "urllib3.disable_warnings()"
   ]
  },
  {
   "cell_type": "code",
   "execution_count": 2,
   "id": "3c9ab938-cc51-4bf6-84a8-4a5408b0aa45",
   "metadata": {},
   "outputs": [],
   "source": [
    "url = \"https://www.coupang.com\""
   ]
  },
  {
   "cell_type": "code",
   "execution_count": null,
   "id": "036b7d44-9b33-4848-9a5c-2518a0be54d5",
   "metadata": {},
   "outputs": [],
   "source": []
  }
 ],
 "metadata": {
  "kernelspec": {
   "display_name": "Python 3 (ipykernel)",
   "language": "python",
   "name": "python3"
  },
  "language_info": {
   "codemirror_mode": {
    "name": "ipython",
    "version": 3
   },
   "file_extension": ".py",
   "mimetype": "text/x-python",
   "name": "python",
   "nbconvert_exporter": "python",
   "pygments_lexer": "ipython3",
   "version": "3.9.12"
  }
 },
 "nbformat": 4,
 "nbformat_minor": 5
}
