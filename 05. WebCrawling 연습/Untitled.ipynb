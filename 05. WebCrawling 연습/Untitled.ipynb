{
 "cells": [
  {
   "cell_type": "code",
   "execution_count": 1,
   "id": "33687b45-f11a-429c-814e-c72996ba96e0",
   "metadata": {},
   "outputs": [],
   "source": [
    "from bs4 import BeautifulSoup\n",
    "import requests\n",
    "import re\n",
    "import datetime\n",
    "from tqdm import tqdm\n",
    "import sys"
   ]
  },
  {
   "cell_type": "code",
   "execution_count": 2,
   "id": "a1528588-0086-429d-aff8-e94a66f6a6a5",
   "metadata": {},
   "outputs": [],
   "source": [
    "def makePgNum(num) :\n",
    "    if num == 1 :\n",
    "        return num\n",
    "    elif num == 0 :\n",
    "        return num+1\n",
    "    else :\n",
    "        return num + 9 *(num-1)"
   ]
  },
  {
   "cell_type": "code",
   "execution_count": 3,
   "id": "a0ef9a8f-257e-49c0-bf67-1030bca69962",
   "metadata": {},
   "outputs": [],
   "source": [
    "def makeUrl(search, start_pg, end_pg) :\n",
    "    if start_pg == end_pg :\n",
    "        start_page = makePgNum(start_pg)\n",
    "        url = \"https://search.naver.com/search.naver?where=news&sm=tab_pge&query=\" + se\n",
    "        print(\"생성url :\", url)\n",
    "        return url\n",
    "    else :\n",
    "        urls = []\n",
    "        for i in range(start_pg, end_pg + 1) :\n",
    "            page = makePgNum(i)\n",
    "            url = \"https://search.naver.com/search.naver?where=news&sm=tab_pge&query=\" + urls.append(url)\n",
    "        print(\"생성url :\", urls)\n",
    "        return urls"
   ]
  },
  {
   "cell_type": "code",
   "execution_count": 4,
   "id": "e00dcc94-4594-429f-972f-c55625c7e8eb",
   "metadata": {},
   "outputs": [],
   "source": [
    "def news_attrs_crawler(articles, attrs) :\n",
    "    attrs_content = []\n",
    "    for i in articles :\n",
    "        attrs_content.append(i.attrs[attrs])\n",
    "    return attrs_content\n",
    "\n",
    "headers = {\"User-Agent\" : \"Mozilla/5.0(Windows NT 10.0; Win64; x64)Chrome/98.0.4758.102\"}"
   ]
  },
  {
   "cell_type": "code",
   "execution_count": 5,
   "id": "e9146c9e-c216-495b-bd88-746259c6ac31",
   "metadata": {},
   "outputs": [],
   "source": [
    "def articles_crawler(url) :\n",
    "    original_html = requests.get(i, headers = headers)\n",
    "    html = BeautifulSoup(original_html.text, \"html.parser\")\n",
    "    url_naver = html.select(\"div.group_news > ul.list_news > li div.news_area > div.news_info_group > a.info\")\n",
    "    url = news_attrs_crawler(url_naver, \"href\")\n",
    "    return url"
   ]
  },
  {
   "cell_type": "code",
   "execution_count": 6,
   "id": "2e46b0d9-a54d-4f92-9f9d-f7b28f32cece",
   "metadata": {},
   "outputs": [
    {
     "name": "stdin",
     "output_type": "stream",
     "text": [
      "검색할 키워드 : 전주\n",
      "\n",
      "크롤링 시작 페이지 : 1\n"
     ]
    },
    {
     "name": "stdout",
     "output_type": "stream",
     "text": [
      "\n",
      "크롤링 시작 페이지 : 1 페이지\n"
     ]
    },
    {
     "name": "stdin",
     "output_type": "stream",
     "text": [
      "\n",
      "크롤링 종료 페이지 : 15\n"
     ]
    },
    {
     "name": "stdout",
     "output_type": "stream",
     "text": [
      "\n",
      "크롤링 종료 페이지 : 15 페이지\n"
     ]
    }
   ],
   "source": [
    "search = input(\"검색할 키워드 :\")\n",
    "page = int(input(\"\\n크롤링 시작 페이지 :\"))\n",
    "print(\"\\n크롤링 시작 페이지 :\", page,\"페이지\")\n",
    "\n",
    "page2 = int(input(\"\\n크롤링 종료 페이지 :\"))\n",
    "print(\"\\n크롤링 종료 페이지 :\", page2,\"페이지\")"
   ]
  },
  {
   "cell_type": "code",
   "execution_count": 7,
   "id": "0d2499b4-6609-44c8-8375-d3a021bd2f3d",
   "metadata": {},
   "outputs": [
    {
     "ename": "UnboundLocalError",
     "evalue": "local variable 'url' referenced before assignment",
     "output_type": "error",
     "traceback": [
      "\u001b[1;31m---------------------------------------------------------------------------\u001b[0m",
      "\u001b[1;31mUnboundLocalError\u001b[0m                         Traceback (most recent call last)",
      "Input \u001b[1;32mIn [7]\u001b[0m, in \u001b[0;36m<cell line: 1>\u001b[1;34m()\u001b[0m\n\u001b[1;32m----> 1\u001b[0m url \u001b[38;5;241m=\u001b[39m \u001b[43mmakeUrl\u001b[49m\u001b[43m(\u001b[49m\u001b[43msearch\u001b[49m\u001b[43m,\u001b[49m\u001b[43m \u001b[49m\u001b[43mpage\u001b[49m\u001b[43m,\u001b[49m\u001b[43m \u001b[49m\u001b[43mpage2\u001b[49m\u001b[43m)\u001b[49m\n\u001b[0;32m      3\u001b[0m news_titles \u001b[38;5;241m=\u001b[39m []\n\u001b[0;32m      4\u001b[0m news_url \u001b[38;5;241m=\u001b[39m []\n",
      "Input \u001b[1;32mIn [3]\u001b[0m, in \u001b[0;36mmakeUrl\u001b[1;34m(search, start_pg, end_pg)\u001b[0m\n\u001b[0;32m      9\u001b[0m \u001b[38;5;28;01mfor\u001b[39;00m i \u001b[38;5;129;01min\u001b[39;00m \u001b[38;5;28mrange\u001b[39m(start_pg, end_pg \u001b[38;5;241m+\u001b[39m \u001b[38;5;241m1\u001b[39m) :\n\u001b[0;32m     10\u001b[0m     page \u001b[38;5;241m=\u001b[39m makePgNum(i)\n\u001b[1;32m---> 11\u001b[0m     url \u001b[38;5;241m=\u001b[39m \u001b[38;5;124m\"\u001b[39m\u001b[38;5;124mhttps://search.naver.com/search.naver?where=news&sm=tab_pge&query=\u001b[39m\u001b[38;5;124m\"\u001b[39m \u001b[38;5;241m+\u001b[39m urls\u001b[38;5;241m.\u001b[39mappend(\u001b[43murl\u001b[49m)\n\u001b[0;32m     12\u001b[0m \u001b[38;5;28mprint\u001b[39m(\u001b[38;5;124m\"\u001b[39m\u001b[38;5;124m생성url :\u001b[39m\u001b[38;5;124m\"\u001b[39m, urls)\n\u001b[0;32m     13\u001b[0m \u001b[38;5;28;01mreturn\u001b[39;00m urls\n",
      "\u001b[1;31mUnboundLocalError\u001b[0m: local variable 'url' referenced before assignment"
     ]
    }
   ],
   "source": [
    "url = makeUrl(search, page, page2)\n",
    "\n",
    "news_titles = []\n",
    "news_url = []\n",
    "news_contents = []\n",
    "news_dates = []\n",
    "for i in url :\n",
    "    globe url\n",
    "    url = articles_crawler(url)\n",
    "    news_url.append(url)"
   ]
  },
  {
   "cell_type": "code",
   "execution_count": null,
   "id": "ac374bf6-4348-4329-83aa-9d547619de04",
   "metadata": {},
   "outputs": [],
   "source": []
  }
 ],
 "metadata": {
  "kernelspec": {
   "display_name": "Python 3 (ipykernel)",
   "language": "python",
   "name": "python3"
  },
  "language_info": {
   "codemirror_mode": {
    "name": "ipython",
    "version": 3
   },
   "file_extension": ".py",
   "mimetype": "text/x-python",
   "name": "python",
   "nbconvert_exporter": "python",
   "pygments_lexer": "ipython3",
   "version": "3.9.12"
  }
 },
 "nbformat": 4,
 "nbformat_minor": 5
}
