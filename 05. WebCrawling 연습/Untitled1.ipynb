{
 "cells": [
  {
   "cell_type": "code",
   "execution_count": 1,
   "id": "7ec113f2-0103-4048-a73d-30b3b5ef7bec",
   "metadata": {},
   "outputs": [],
   "source": [
    "import requests\n",
    "from bs4 import BeautifulSoup\n",
    "import urllib3\n",
    "import csv\n",
    "urllib3.disable_warnings()"
   ]
  },
  {
   "cell_type": "code",
   "execution_count": 2,
   "id": "2476397f-5815-411b-bded-a0fb46b04c04",
   "metadata": {},
   "outputs": [],
   "source": [
    "url = \"https://map.naver.com/v5/search/%EC%A0%84%EC%A3%BC%EC%8B%9C%20%EA%B3%B5%EA%B3%B5%EA%B8%B0%EA%B4%80?c=14139150.9608418,4276454.4662774,10,0,0,0,dh\""
   ]
  },
  {
   "cell_type": "code",
   "execution_count": 3,
   "id": "9ea5aa3f-29e2-4db0-97a5-83964fbf4d3d",
   "metadata": {},
   "outputs": [],
   "source": [
    "filename = \"전주시 공공기관.csv\"\n",
    "f = open(filename, \"w\", encoding = \"utf-8\", newline = \"\")\n",
    "writer = csv.writer(f)"
   ]
  },
  {
   "cell_type": "code",
   "execution_count": 11,
   "id": "6c67870d-5c27-45d2-8c88-371a170caa54",
   "metadata": {},
   "outputs": [
    {
     "name": "stdout",
     "output_type": "stream",
     "text": [
      "None\n"
     ]
    }
   ],
   "source": [
    "print(soup.find(attrs = {\"class\" : \"C6RjW\"})) # 태그와 상관없이 속성값이 class가 dsc_area인 것을 출력"
   ]
  },
  {
   "cell_type": "code",
   "execution_count": 6,
   "id": "0a005862-25fb-49c5-9d74-dd67155ead24",
   "metadata": {},
   "outputs": [
    {
     "ename": "NameError",
     "evalue": "name 'i' is not defined",
     "output_type": "error",
     "traceback": [
      "\u001b[1;31m---------------------------------------------------------------------------\u001b[0m",
      "\u001b[1;31mNameError\u001b[0m                                 Traceback (most recent call last)",
      "Input \u001b[1;32mIn [6]\u001b[0m, in \u001b[0;36m<cell line: 1>\u001b[1;34m()\u001b[0m\n\u001b[1;32m----> 1\u001b[0m \u001b[38;5;28;01mfor\u001b[39;00m i \u001b[38;5;129;01min\u001b[39;00m \u001b[43mi\u001b[49m :\n\u001b[0;32m      2\u001b[0m     res \u001b[38;5;241m=\u001b[39m requests\u001b[38;5;241m.\u001b[39mget(url, verify \u001b[38;5;241m=\u001b[39m \u001b[38;5;28;01mFalse\u001b[39;00m)\n\u001b[0;32m      3\u001b[0m     res\u001b[38;5;241m.\u001b[39mraise_for_status()\n",
      "\u001b[1;31mNameError\u001b[0m: name 'i' is not defined"
     ]
    }
   ],
   "source": [
    "for i in i :\n",
    "    res = requests.get(url, verify = False)\n",
    "    res.raise_for_status()\n",
    "    soup = BeautifulSoup(res.text, \"lxml\")\n",
    "    \n",
    "    data_rows = soup.find(\"body\", attrs = {\"class\" : \"place_on_pcmap\"}).find(\"ul\").find_all(\"li\")\n",
    "    for row in data_rows :\n",
    "        columns = row.find_all(\"ul\")\n",
    "        if len(columns) <= 1 :\n",
    "            continue\n",
    "        data = [column.get_text().strip() for column in columns]\n",
    "        print(data)\n",
    "        writer.writerow(data)"
   ]
  },
  {
   "cell_type": "code",
   "execution_count": null,
   "id": "cf47d658-4b9d-47d2-9563-94ed8fe5ba17",
   "metadata": {},
   "outputs": [],
   "source": []
  }
 ],
 "metadata": {
  "kernelspec": {
   "display_name": "Python 3 (ipykernel)",
   "language": "python",
   "name": "python3"
  },
  "language_info": {
   "codemirror_mode": {
    "name": "ipython",
    "version": 3
   },
   "file_extension": ".py",
   "mimetype": "text/x-python",
   "name": "python",
   "nbconvert_exporter": "python",
   "pygments_lexer": "ipython3",
   "version": "3.9.12"
  }
 },
 "nbformat": 4,
 "nbformat_minor": 5
}
