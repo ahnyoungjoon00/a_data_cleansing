{
 "cells": [
  {
   "cell_type": "code",
   "execution_count": 1,
   "id": "a92ca39c-e899-4a56-a718-3441d7896cdc",
   "metadata": {},
   "outputs": [],
   "source": [
    "# pip install flask --trusted-host pypi.org --trusted-host files.pythonhosted.org"
   ]
  },
  {
   "cell_type": "code",
   "execution_count": 1,
   "id": "9e098f10-37cb-4f55-9551-c63064d25e73",
   "metadata": {},
   "outputs": [],
   "source": [
    "import requests\n",
    "from bs4 import BeautifulSoup\n",
    "import urllib3\n",
    "from urllib.parse import quote\n",
    "import csv\n",
    "urllib3.disable_warnings()"
   ]
  },
  {
   "cell_type": "code",
   "execution_count": 2,
   "id": "2fbb46c7-39ae-4401-8e90-e43bc328a101",
   "metadata": {},
   "outputs": [],
   "source": [
    "import numpy as np\n",
    "import pandas as pd"
   ]
  },
  {
   "cell_type": "code",
   "execution_count": 11,
   "id": "4e48f88e-a539-4c7a-8520-27bee5278c9f",
   "metadata": {},
   "outputs": [],
   "source": [
    "def get_news(query, page_num = 10) :\n",
    "    \n",
    "    news_df = pd.DataFrame(columns = (\"Title\", \"Link\", \"Press\", \"Datetime\", \"Article\"))\n",
    "    idx = 0\n",
    "    \n",
    "    url_query = quote(query)\n",
    "    url = \"https://search.naver.com/search.naver?where=news&ie=utf8&sm=nws_hty&query=\" + url_query\n",
    "    \n",
    "    for _ in range(0, page_num) :\n",
    "        res = requests.get(url, verify = False)\n",
    "        # res.raise_for_status()\n",
    "        soup = BeautifulSoup(res.text, \"lxml\")\n",
    "        links = soup.find_all(\"div\", {\"class\" : \"info_group\"})\n",
    "        \n",
    "        for link in links :\n",
    "            press = link.find(\"a\", {\"class\" : \"info press\"}).get_text()\n",
    "            news_url = link.find(\"a\").get(\"href\")\n",
    "            \n",
    "            if (news_url == \"#\") :\n",
    "                continue\n",
    "            else :\n",
    "                news_link = requests.get(news_url, verify = False)\n",
    "                news_soup = BeautifulSoup(news_link.text, \"lxml\")\n",
    "                \n",
    "                title = news_soup.find(\"div\", {\"class\" : \"tit\"}).get_text()\n",
    "                datetime = news_soup.find(\"span\", {\"class\" :\"broad_date\"}).get_text()\n",
    "                article = news_soup.find(\"div\", {\"class\" : \"view_news_wrap b1\"}).get_text()\n",
    "                \n",
    "                news_df.loc[idx] = [title, news_url, press, datetime, article]\n",
    "                idx += 1\n",
    "                print(\"#\", end = \"\")\n",
    "        try :\n",
    "            next = soup.find(\"a\", {\"class\" : \"btn_next\"}).get(\"href\")\n",
    "            url = \"https://search.naver.com/search.naver\" + next\n",
    "        except :\n",
    "            break\n",
    "    \n",
    "    return news_df"
   ]
  },
  {
   "cell_type": "code",
   "execution_count": 12,
   "id": "5607edcf-b6f4-421c-9154-298da28f0357",
   "metadata": {},
   "outputs": [
    {
     "name": "stdin",
     "output_type": "stream",
     "text": [
      "검색 질의 : 전주\n"
     ]
    },
    {
     "ename": "AttributeError",
     "evalue": "'NoneType' object has no attribute 'get_text'",
     "output_type": "error",
     "traceback": [
      "\u001b[1;31m---------------------------------------------------------------------------\u001b[0m",
      "\u001b[1;31mAttributeError\u001b[0m                            Traceback (most recent call last)",
      "Input \u001b[1;32mIn [12]\u001b[0m, in \u001b[0;36m<cell line: 2>\u001b[1;34m()\u001b[0m\n\u001b[0;32m      1\u001b[0m query \u001b[38;5;241m=\u001b[39m \u001b[38;5;28minput\u001b[39m(\u001b[38;5;124m\"\u001b[39m\u001b[38;5;124m검색 질의 :\u001b[39m\u001b[38;5;124m\"\u001b[39m)\n\u001b[1;32m----> 2\u001b[0m news_df \u001b[38;5;241m=\u001b[39m \u001b[43mget_news\u001b[49m\u001b[43m(\u001b[49m\u001b[43mquery\u001b[49m\u001b[43m,\u001b[49m\u001b[43m \u001b[49m\u001b[38;5;241;43m1\u001b[39;49m\u001b[43m)\u001b[49m\n\u001b[0;32m      3\u001b[0m \u001b[38;5;28mprint\u001b[39m(\u001b[38;5;124m\"\u001b[39m\u001b[38;5;124mDone\u001b[39m\u001b[38;5;124m\"\u001b[39m)\n",
      "Input \u001b[1;32mIn [11]\u001b[0m, in \u001b[0;36mget_news\u001b[1;34m(query, page_num)\u001b[0m\n\u001b[0;32m     22\u001b[0m news_link \u001b[38;5;241m=\u001b[39m requests\u001b[38;5;241m.\u001b[39mget(news_url, verify \u001b[38;5;241m=\u001b[39m \u001b[38;5;28;01mFalse\u001b[39;00m)\n\u001b[0;32m     23\u001b[0m news_soup \u001b[38;5;241m=\u001b[39m BeautifulSoup(news_link\u001b[38;5;241m.\u001b[39mtext, \u001b[38;5;124m\"\u001b[39m\u001b[38;5;124mlxml\u001b[39m\u001b[38;5;124m\"\u001b[39m)\n\u001b[1;32m---> 25\u001b[0m title \u001b[38;5;241m=\u001b[39m \u001b[43mnews_soup\u001b[49m\u001b[38;5;241;43m.\u001b[39;49m\u001b[43mfind\u001b[49m\u001b[43m(\u001b[49m\u001b[38;5;124;43m\"\u001b[39;49m\u001b[38;5;124;43mdiv\u001b[39;49m\u001b[38;5;124;43m\"\u001b[39;49m\u001b[43m,\u001b[49m\u001b[43m \u001b[49m\u001b[43m{\u001b[49m\u001b[38;5;124;43m\"\u001b[39;49m\u001b[38;5;124;43mclass\u001b[39;49m\u001b[38;5;124;43m\"\u001b[39;49m\u001b[43m \u001b[49m\u001b[43m:\u001b[49m\u001b[43m \u001b[49m\u001b[38;5;124;43m\"\u001b[39;49m\u001b[38;5;124;43mtit\u001b[39;49m\u001b[38;5;124;43m\"\u001b[39;49m\u001b[43m}\u001b[49m\u001b[43m)\u001b[49m\u001b[38;5;241;43m.\u001b[39;49m\u001b[43mget_text\u001b[49m()\n\u001b[0;32m     26\u001b[0m datetime \u001b[38;5;241m=\u001b[39m news_soup\u001b[38;5;241m.\u001b[39mfind(\u001b[38;5;124m\"\u001b[39m\u001b[38;5;124mspan\u001b[39m\u001b[38;5;124m\"\u001b[39m, {\u001b[38;5;124m\"\u001b[39m\u001b[38;5;124mclass\u001b[39m\u001b[38;5;124m\"\u001b[39m :\u001b[38;5;124m\"\u001b[39m\u001b[38;5;124mbroad_date\u001b[39m\u001b[38;5;124m\"\u001b[39m})\u001b[38;5;241m.\u001b[39mget_text()\n\u001b[0;32m     27\u001b[0m article \u001b[38;5;241m=\u001b[39m news_soup\u001b[38;5;241m.\u001b[39mfind(\u001b[38;5;124m\"\u001b[39m\u001b[38;5;124mdiv\u001b[39m\u001b[38;5;124m\"\u001b[39m, {\u001b[38;5;124m\"\u001b[39m\u001b[38;5;124mclass\u001b[39m\u001b[38;5;124m\"\u001b[39m : \u001b[38;5;124m\"\u001b[39m\u001b[38;5;124mview_news_wrap b1\u001b[39m\u001b[38;5;124m\"\u001b[39m})\u001b[38;5;241m.\u001b[39mget_text()\n",
      "\u001b[1;31mAttributeError\u001b[0m: 'NoneType' object has no attribute 'get_text'"
     ]
    }
   ],
   "source": [
    "query = input(\"검색 질의 :\")\n",
    "news_df = get_news(query, 1)\n",
    "print(\"Done\")"
   ]
  },
  {
   "cell_type": "code",
   "execution_count": null,
   "id": "e3c7d393-3fbf-4085-933d-1d200b840d63",
   "metadata": {},
   "outputs": [],
   "source": []
  }
 ],
 "metadata": {
  "kernelspec": {
   "display_name": "Python 3 (ipykernel)",
   "language": "python",
   "name": "python3"
  },
  "language_info": {
   "codemirror_mode": {
    "name": "ipython",
    "version": 3
   },
   "file_extension": ".py",
   "mimetype": "text/x-python",
   "name": "python",
   "nbconvert_exporter": "python",
   "pygments_lexer": "ipython3",
   "version": "3.9.12"
  }
 },
 "nbformat": 4,
 "nbformat_minor": 5
}
