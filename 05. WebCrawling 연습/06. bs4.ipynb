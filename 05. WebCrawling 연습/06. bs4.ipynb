{
 "cells": [
  {
   "cell_type": "code",
   "execution_count": 2,
   "id": "d8739532-dacc-4996-b526-beb08305aa8d",
   "metadata": {},
   "outputs": [
    {
     "name": "stdout",
     "output_type": "stream",
     "text": [
      "Collecting xlml\n",
      "  Downloading XLML-0.1.2.tar.gz (2.3 kB)\n",
      "Building wheels for collected packages: xlml\n",
      "  Building wheel for xlml (setup.py): started\n",
      "  Building wheel for xlml (setup.py): finished with status 'done'\n",
      "  Created wheel for xlml: filename=XLML-0.1.2-py3-none-any.whl size=2543 sha256=8c6a31cea844c6209c3de6503c57448f0868243d5053ce00ce0ffa239279ed9a\n",
      "  Stored in directory: c:\\users\\user\\appdata\\local\\pip\\cache\\wheels\\b1\\87\\2b\\f97d88b215b86ef554032999f96decab1bd9ad04dbdc41fcad\n",
      "Successfully built xlml\n",
      "Installing collected packages: xlml\n",
      "Successfully installed xlml-0.1.2\n",
      "Note: you may need to restart the kernel to use updated packages.\n"
     ]
    }
   ],
   "source": [
    "# pip install xlml --trusted-host pypi.org --trusted-host files.pythonhosted.org"
   ]
  },
  {
   "cell_type": "code",
   "execution_count": 10,
   "id": "c2a230bb-4961-4ebc-8764-dd2c48501aaa",
   "metadata": {},
   "outputs": [],
   "source": [
    "import requests\n",
    "from bs4 import BeautifulSoup\n",
    "import urllib3\n",
    "urllib3.disable_warnings()"
   ]
  },
  {
   "cell_type": "code",
   "execution_count": 11,
   "id": "e1e05bd0-8d74-4d73-a096-37a5a42f15b2",
   "metadata": {},
   "outputs": [],
   "source": [
    "url = \"https://finance.naver.com/\""
   ]
  },
  {
   "cell_type": "code",
   "execution_count": 12,
   "id": "81b93d44-0218-4fe7-9b64-931d45a9a553",
   "metadata": {},
   "outputs": [],
   "source": [
    "res = requests.get(url, verify = False)\n",
    "res.raise_for_status()"
   ]
  },
  {
   "cell_type": "code",
   "execution_count": 13,
   "id": "54f127e0-5f6a-403a-a714-21c4d8316a38",
   "metadata": {},
   "outputs": [
    {
     "name": "stdout",
     "output_type": "stream",
     "text": [
      "<title>네이버 증권</title>\n",
      "네이버 증권\n"
     ]
    }
   ],
   "source": [
    "soup = BeautifulSoup(res.text, \"lxml\")\n",
    "print(soup.title)\n",
    "print(soup.title.get_text())"
   ]
  },
  {
   "cell_type": "code",
   "execution_count": 18,
   "id": "ff223090-e119-4188-aed4-c82562cbda33",
   "metadata": {},
   "outputs": [
    {
     "name": "stdout",
     "output_type": "stream",
     "text": [
      "<a href=\"#menu\" tabindex=\"1\"><span>메인 메뉴로 바로가기</span></a>\n"
     ]
    }
   ],
   "source": [
    "print(soup.a) # soup 객체에서 처음 발견되는 a element의 값 출력"
   ]
  },
  {
   "cell_type": "code",
   "execution_count": 19,
   "id": "505a4123-7935-4212-b207-df021ee1dd9a",
   "metadata": {},
   "outputs": [
    {
     "name": "stdout",
     "output_type": "stream",
     "text": [
      "{'href': '#menu', 'tabindex': '1'}\n"
     ]
    }
   ],
   "source": [
    "print(soup.a.attrs) # attrs는 속성 정보 출력"
   ]
  },
  {
   "cell_type": "code",
   "execution_count": 20,
   "id": "29a21484-700c-4486-9cec-8adbf20fe4be",
   "metadata": {},
   "outputs": [
    {
     "name": "stdout",
     "output_type": "stream",
     "text": [
      "#menu\n"
     ]
    }
   ],
   "source": [
    "print(soup.a[\"href\"]) # 속성 중에 href의 값만 출력"
   ]
  },
  {
   "cell_type": "code",
   "execution_count": 23,
   "id": "479690e2-4303-447e-a777-b2ed28a36612",
   "metadata": {},
   "outputs": [
    {
     "name": "stdout",
     "output_type": "stream",
     "text": [
      "<a class=\"_stock_section\" href=\"/sise/sise_index.naver?code=KOSPI\" onclick=\"clickcr(this, 'tsc*k.title', '', '', event);\" title=\"코스피지수 상세보기\"><em><span class=\"blind\">코스피</span></em></a>\n"
     ]
    }
   ],
   "source": [
    "print(soup.find(\"a\", attrs = {\"title\" : \"코스피지수 상세보기\"})) # a 태그에서 속성 중 class의 정보가 코스피지수 상세보기 인 것을 출력"
   ]
  },
  {
   "cell_type": "code",
   "execution_count": 25,
   "id": "dd33f259-c85a-4fb9-bf33-8ef8e296bf5b",
   "metadata": {
    "tags": []
   },
   "outputs": [
    {
     "name": "stdout",
     "output_type": "stream",
     "text": [
      "<div class=\"dsc_area\">\n",
      "<dl class=\"dl\">\n",
      "<dt>\n",
      "<a href=\"/sise/sise_trans_style.naver?sosok=01\" onclick=\"clickcr(this, 'tsc*k.private', '', '', event);\" title=\"투자자별 매매 동향 상세보기\">개인</a>\n",
      "</dt>\n",
      "<dd class=\"dn\">\n",
      "<a href=\"/sise/sise_trans_style.naver?sosok=01\" onclick=\"clickcr(this, 'tsc*k.private', '', '', event);\">-2,969</a>\n",
      "<span class=\"blind\">억원</span>\n",
      "</dd>\n",
      "<dt>\n",
      "<a href=\"/sise/sise_trans_style.naver?sosok=01\" onclick=\"clickcr(this, 'tsc*k.foreign', '', '', event);\" title=\"투자자별 매매 동향 상세보기\">외국인</a>\n",
      "</dt>\n",
      "<dd class=\"up\">\n",
      "<a href=\"/sise/sise_trans_style.naver?sosok=01\" onclick=\"clickcr(this, 'tsc*k.foreign', '', '', event);\">+2,608</a>\n",
      "<span class=\"blind\">억원</span>\n",
      "</dd>\n",
      "<dt>\n",
      "<a href=\"/sise/sise_trans_style.naver?sosok=01\" onclick=\"clickcr(this, 'tsc*k.institutional', '', '', event);\" title=\"투자자별 매매 동향 상세보기\">기관</a>\n",
      "</dt>\n",
      "<dd class=\"up\">\n",
      "<a href=\"/sise/sise_trans_style.naver?sosok=01\" onclick=\"clickcr(this, 'tsc*k.institutional', '', '', event);\">+7</a>\n",
      "<span class=\"blind\">억원</span>\n",
      "</dd>\n",
      "</dl>\n",
      "<dl class=\"dl2\">\n",
      "<dt class=\"blind\">\n",
      "             상한종목수\n",
      "            </dt>\n",
      "<dd class=\"dd\">\n",
      "<a href=\"/sise/sise_upper.naver\" onclick=\"clickcr(this, 'tsc*k.ceiling', '', '', event);\" title=\"상한종목 상세보기\">2</a>\n",
      "</dd>\n",
      "<dt class=\"blind\">\n",
      "             상승종목수\n",
      "            </dt>\n",
      "<dd class=\"dd2\">\n",
      "<a href=\"/sise/sise_rise.naver?sosok=0\" onclick=\"clickcr(this, 'tsc*k.rise', '', '', event);\" title=\"상승종목 상세보기\">651</a>\n",
      "</dd>\n",
      "<dt class=\"blind\">\n",
      "             보합종목수\n",
      "            </dt>\n",
      "<dd class=\"dd3\">\n",
      "<a href=\"/sise/sise_steady.naver?sosok=0\" onclick=\"clickcr(this, 'tsc*k.steady', '', '', event);\" title=\"보합종목 상세보기\">58</a>\n",
      "</dd>\n",
      "<dt class=\"blind\">\n",
      "             하락종목수\n",
      "            </dt>\n",
      "<dd class=\"dd4\">\n",
      "<a href=\"/sise/sise_fall.naver?sosok=0\" onclick=\"clickcr(this, 'tsc*k.drop', '', '', event);\" title=\"하락종목 상세보기\">224</a>\n",
      "</dd>\n",
      "<dt class=\"blind\">\n",
      "             하한종목수\n",
      "            </dt>\n",
      "<dd class=\"dd5\">\n",
      "<a href=\"/sise/sise_lower.naver\" onclick=\"clickcr(this, 'tsc*k.floor', '', '', event);\" title=\"하한종목 상세보기\">1</a>\n",
      "</dd>\n",
      "</dl>\n",
      "</div>\n"
     ]
    }
   ],
   "source": [
    "print(soup.find(attrs = {\"class\" : \"dsc_area\"})) # 태그와 상관없이 속성값이 class가 dsc_area인 것을 출력"
   ]
  },
  {
   "cell_type": "code",
   "execution_count": 26,
   "id": "d9f22774-7c16-498a-8d33-4374af15d393",
   "metadata": {},
   "outputs": [
    {
     "name": "stdout",
     "output_type": "stream",
     "text": [
      "<tr class=\"up\">\n",
      "<th scope=\"row\"><a href=\"/item/main.naver?code=031820\" onclick=\"clickcr(this, 'spe.slist', '031820', '2', event);\">콤텍시스템</a></th>\n",
      "<td>685</td>\n",
      "<td><em class=\"bu_p bu_pup\"><span class=\"blind\">상승</span></em> 92</td>\n",
      "<td> <em class=\"up\"> +15.51% </em> </td>\n",
      "</tr>\n"
     ]
    }
   ],
   "source": [
    "print(soup.find(\"tr\", attrs = {\"class\" : \"up\"}))"
   ]
  },
  {
   "cell_type": "code",
   "execution_count": 27,
   "id": "eb265c0b-22b8-4976-b6b1-6abdf82aabaf",
   "metadata": {},
   "outputs": [
    {
     "name": "stdout",
     "output_type": "stream",
     "text": [
      "<a href=\"/item/main.naver?code=031820\" onclick=\"clickcr(this, 'spe.slist', '031820', '2', event);\">콤텍시스템</a>\n"
     ]
    }
   ],
   "source": [
    "up1 = soup.find(\"tr\", attrs = {\"class\" : \"up\"})\n",
    "print(up1.a)"
   ]
  },
  {
   "cell_type": "code",
   "execution_count": 28,
   "id": "c6786f8b-fb73-4f4d-a903-9fe5f38c8980",
   "metadata": {},
   "outputs": [
    {
     "name": "stdout",
     "output_type": "stream",
     "text": [
      "콤텍시스템\n"
     ]
    }
   ],
   "source": [
    "print(up1.a.get_text())"
   ]
  },
  {
   "cell_type": "code",
   "execution_count": 31,
   "id": "1b1ceeb3-8d33-4ca5-b7bb-6e0b0c0a4d2e",
   "metadata": {},
   "outputs": [
    {
     "name": "stdout",
     "output_type": "stream",
     "text": [
      "\n",
      "\n"
     ]
    }
   ],
   "source": [
    "print(up1.next_sibling) # 줄바꿈 있는 경우에 이렇게 출력될때가 있음"
   ]
  },
  {
   "cell_type": "code",
   "execution_count": 32,
   "id": "cd3b920f-489a-4e28-bb59-c0f49a7f0a81",
   "metadata": {},
   "outputs": [
    {
     "name": "stdout",
     "output_type": "stream",
     "text": [
      "<tr class=\"up\">\n",
      "<th scope=\"row\"><a href=\"/item/main.naver?code=380540\" onclick=\"clickcr(this, 'spe.slist', '380540', '3', event);\">옵티코어</a></th>\n",
      "<td>2,880</td>\n",
      "<td><em class=\"bu_p bu_pup\"><span class=\"blind\">상승</span></em> 150</td>\n",
      "<td> <em class=\"up\"> +5.49% </em> </td>\n",
      "</tr>\n"
     ]
    }
   ],
   "source": [
    "print(up1.next_sibling.next_sibling)"
   ]
  },
  {
   "cell_type": "code",
   "execution_count": 33,
   "id": "e5a504ca-acb8-4565-b858-abf820ea088a",
   "metadata": {},
   "outputs": [],
   "source": [
    "up2 = up1.next_sibling.next_sibling\n",
    "up3 = up2.next_sibling.next_sibling"
   ]
  },
  {
   "cell_type": "code",
   "execution_count": 34,
   "id": "d73de40f-2d83-4758-ac94-1c2309196da3",
   "metadata": {},
   "outputs": [
    {
     "name": "stdout",
     "output_type": "stream",
     "text": [
      "엘컴텍\n"
     ]
    }
   ],
   "source": [
    "print(up3.a.get_text())"
   ]
  },
  {
   "cell_type": "code",
   "execution_count": 35,
   "id": "d9a1a5aa-1a94-4f1f-80e7-c8755bc53e26",
   "metadata": {},
   "outputs": [
    {
     "name": "stdout",
     "output_type": "stream",
     "text": [
      "옵티코어\n"
     ]
    }
   ],
   "source": [
    "up2 = up3.previous_sibling.previous_sibling\n",
    "print(up2.a.get_text())"
   ]
  },
  {
   "cell_type": "code",
   "execution_count": 36,
   "id": "e1d87fc1-f6b5-47c9-8135-0ec5624827c6",
   "metadata": {
    "tags": []
   },
   "outputs": [
    {
     "name": "stdout",
     "output_type": "stream",
     "text": [
      "<tbody id=\"_topItems1\">\n",
      "<tr class=\"down\">\n",
      "<th scope=\"row\"><a href=\"/item/main.naver?code=252670\" onclick=\"clickcr(this, 'spe.slist', '252670', '1', event);\">KODEX 200선물인버스2X</a></th>\n",
      "<td>3,355</td>\n",
      "<td><em class=\"bu_p bu_pdn\"><span class=\"blind\">하락</span></em> 145</td>\n",
      "<td> <em class=\"down\"> -4.14% </em> </td>\n",
      "</tr>\n",
      "<tr class=\"up\">\n",
      "<th scope=\"row\"><a href=\"/item/main.naver?code=031820\" onclick=\"clickcr(this, 'spe.slist', '031820', '2', event);\">콤텍시스템</a></th>\n",
      "<td>685</td>\n",
      "<td><em class=\"bu_p bu_pup\"><span class=\"blind\">상승</span></em> 92</td>\n",
      "<td> <em class=\"up\"> +15.51% </em> </td>\n",
      "</tr>\n",
      "<tr class=\"up\">\n",
      "<th scope=\"row\"><a href=\"/item/main.naver?code=380540\" onclick=\"clickcr(this, 'spe.slist', '380540', '3', event);\">옵티코어</a></th>\n",
      "<td>2,880</td>\n",
      "<td><em class=\"bu_p bu_pup\"><span class=\"blind\">상승</span></em> 150</td>\n",
      "<td> <em class=\"up\"> +5.49% </em> </td>\n",
      "</tr>\n",
      "<tr class=\"up\">\n",
      "<th scope=\"row\"><a href=\"/item/main.naver?code=037950\" onclick=\"clickcr(this, 'spe.slist', '037950', '4', event);\">엘컴텍</a></th>\n",
      "<td>1,265</td>\n",
      "<td><em class=\"bu_p bu_pup\"><span class=\"blind\">상승</span></em> 145</td>\n",
      "<td> <em class=\"up\"> +12.95% </em> </td>\n",
      "</tr>\n",
      "<tr class=\"up\">\n",
      "<th scope=\"row\"><a href=\"/item/main.naver?code=096300\" onclick=\"clickcr(this, 'spe.slist', '096300', '5', event);\">베트남개발1</a></th>\n",
      "<td>167</td>\n",
      "<td><em class=\"bu_p bu_pup\"><span class=\"blind\">상승</span></em> 7</td>\n",
      "<td> <em class=\"up\"> +4.38% </em> </td>\n",
      "</tr>\n",
      "<tr class=\"up\">\n",
      "<th scope=\"row\"><a href=\"/item/main.naver?code=530036\" onclick=\"clickcr(this, 'spe.slist', '530036', '6', event);\">삼성 인버스 2X WTI원유 선물 ETN</a></th>\n",
      "<td>140</td>\n",
      "<td><em class=\"bu_p bu_pup\"><span class=\"blind\">상승</span></em> 10</td>\n",
      "<td> <em class=\"up\"> +7.69% </em> </td>\n",
      "</tr>\n",
      "<tr class=\"up\">\n",
      "<th scope=\"row\"><a href=\"/item/main.naver?code=122630\" onclick=\"clickcr(this, 'spe.slist', '122630', '7', event);\">KODEX 레버리지</a></th>\n",
      "<td>13,150</td>\n",
      "<td><em class=\"bu_p bu_pup\"><span class=\"blind\">상승</span></em> 510</td>\n",
      "<td> <em class=\"up\"> +4.03% </em> </td>\n",
      "</tr>\n",
      "<tr class=\"down\">\n",
      "<th scope=\"row\"><a href=\"/item/main.naver?code=114800\" onclick=\"clickcr(this, 'spe.slist', '114800', '8', event);\">KODEX 인버스</a></th>\n",
      "<td>5,115</td>\n",
      "<td><em class=\"bu_p bu_pdn\"><span class=\"blind\">하락</span></em> 110</td>\n",
      "<td> <em class=\"down\"> -2.11% </em> </td>\n",
      "</tr>\n",
      "<tr class=\"up\">\n",
      "<th scope=\"row\"><a href=\"/item/main.naver?code=331520\" onclick=\"clickcr(this, 'spe.slist', '331520', '9', event);\">밸로프</a></th>\n",
      "<td>1,475</td>\n",
      "<td><em class=\"bu_p bu_pup\"><span class=\"blind\">상승</span></em> 65</td>\n",
      "<td> <em class=\"up\"> +4.61% </em> </td>\n",
      "</tr>\n",
      "<tr class=\"up\">\n",
      "<th scope=\"row\"><a href=\"/item/main.naver?code=067000\" onclick=\"clickcr(this, 'spe.slist', '067000', '10', event);\">조이시티</a></th>\n",
      "<td>4,800</td>\n",
      "<td><em class=\"bu_p bu_pup\"><span class=\"blind\">상승</span></em> 510</td>\n",
      "<td> <em class=\"up\"> +11.89% </em> </td>\n",
      "</tr>\n",
      "<tr class=\"down\">\n",
      "<th scope=\"row\"><a href=\"/item/main.naver?code=251340\" onclick=\"clickcr(this, 'spe.slist', '251340', '11', event);\">KODEX 코스닥150선물인버스</a></th>\n",
      "<td>5,560</td>\n",
      "<td><em class=\"bu_p bu_pdn\"><span class=\"blind\">하락</span></em> 35</td>\n",
      "<td> <em class=\"down\"> -0.63% </em> </td>\n",
      "</tr>\n",
      "<tr class=\"down\">\n",
      "<th scope=\"row\"><a href=\"/item/main.naver?code=152550\" onclick=\"clickcr(this, 'spe.slist', '152550', '12', event);\">한국ANKOR유전</a></th>\n",
      "<td>253</td>\n",
      "<td><em class=\"bu_p bu_pdn\"><span class=\"blind\">하락</span></em> 108</td>\n",
      "<td> <em class=\"down\"> -29.92% </em> </td>\n",
      "</tr>\n",
      "<tr class=\"up\">\n",
      "<th scope=\"row\"><a href=\"/item/main.naver?code=233740\" onclick=\"clickcr(this, 'spe.slist', '233740', '13', event);\">KODEX 코스닥150레버리지</a></th>\n",
      "<td>6,160</td>\n",
      "<td><em class=\"bu_p bu_pup\"><span class=\"blind\">상승</span></em> 75</td>\n",
      "<td> <em class=\"up\"> +1.23% </em> </td>\n",
      "</tr>\n",
      "<tr class=\"up\">\n",
      "<th scope=\"row\"><a href=\"/item/main.naver?code=336060\" onclick=\"clickcr(this, 'spe.slist', '336060', '14', event);\">웨이버스</a></th>\n",
      "<td>1,790</td>\n",
      "<td><em class=\"bu_p bu_pup\"><span class=\"blind\">상승</span></em> 410</td>\n",
      "<td> <em class=\"up\"> +29.71% </em> </td>\n",
      "</tr>\n",
      "<tr class=\"up\">\n",
      "<th scope=\"row\"><a href=\"/item/main.naver?code=005930\" onclick=\"clickcr(this, 'spe.slist', '005930', '15', event);\">삼성전자</a></th>\n",
      "<td>57,800</td>\n",
      "<td><em class=\"bu_p bu_pup\"><span class=\"blind\">상승</span></em> 2,400</td>\n",
      "<td> <em class=\"up\"> +4.33% </em> </td>\n",
      "</tr>\n",
      "</tbody>\n"
     ]
    }
   ],
   "source": [
    "print(up1.parent)"
   ]
  },
  {
   "cell_type": "code",
   "execution_count": 39,
   "id": "4fa482c3-981c-40d7-91f1-26fd4bf24402",
   "metadata": {},
   "outputs": [
    {
     "name": "stdout",
     "output_type": "stream",
     "text": [
      "옵티코어\n"
     ]
    }
   ],
   "source": [
    "up2 = up1.find_next_sibling(\"tr\")\n",
    "print(up2.a.get_text())"
   ]
  },
  {
   "cell_type": "code",
   "execution_count": 40,
   "id": "5917b3ae-e104-483e-beca-064cb232d114",
   "metadata": {},
   "outputs": [
    {
     "name": "stdout",
     "output_type": "stream",
     "text": [
      "엘컴텍\n"
     ]
    }
   ],
   "source": [
    "up3 = up2.find_next_sibling(\"tr\")\n",
    "print(up3.a.get_text())"
   ]
  },
  {
   "cell_type": "code",
   "execution_count": 41,
   "id": "a8c18291-c59e-40f4-b412-03fe339c061d",
   "metadata": {},
   "outputs": [
    {
     "name": "stdout",
     "output_type": "stream",
     "text": [
      "옵티코어\n"
     ]
    }
   ],
   "source": [
    "up2 = up3.find_previous_sibling(\"tr\")\n",
    "print(up2.a.get_text())"
   ]
  },
  {
   "cell_type": "code",
   "execution_count": 42,
   "id": "e7b1d1f5-ccee-41bf-8a8c-25f85bd5f99c",
   "metadata": {},
   "outputs": [
    {
     "data": {
      "text/plain": [
       "[<tr class=\"up\">\n",
       " <th scope=\"row\"><a href=\"/item/main.naver?code=380540\" onclick=\"clickcr(this, 'spe.slist', '380540', '3', event);\">옵티코어</a></th>\n",
       " <td>2,880</td>\n",
       " <td><em class=\"bu_p bu_pup\"><span class=\"blind\">상승</span></em> 150</td>\n",
       " <td> <em class=\"up\"> +5.49% </em> </td>\n",
       " </tr>,\n",
       " <tr class=\"up\">\n",
       " <th scope=\"row\"><a href=\"/item/main.naver?code=037950\" onclick=\"clickcr(this, 'spe.slist', '037950', '4', event);\">엘컴텍</a></th>\n",
       " <td>1,265</td>\n",
       " <td><em class=\"bu_p bu_pup\"><span class=\"blind\">상승</span></em> 145</td>\n",
       " <td> <em class=\"up\"> +12.95% </em> </td>\n",
       " </tr>,\n",
       " <tr class=\"up\">\n",
       " <th scope=\"row\"><a href=\"/item/main.naver?code=096300\" onclick=\"clickcr(this, 'spe.slist', '096300', '5', event);\">베트남개발1</a></th>\n",
       " <td>167</td>\n",
       " <td><em class=\"bu_p bu_pup\"><span class=\"blind\">상승</span></em> 7</td>\n",
       " <td> <em class=\"up\"> +4.38% </em> </td>\n",
       " </tr>,\n",
       " <tr class=\"up\">\n",
       " <th scope=\"row\"><a href=\"/item/main.naver?code=530036\" onclick=\"clickcr(this, 'spe.slist', '530036', '6', event);\">삼성 인버스 2X WTI원유 선물 ETN</a></th>\n",
       " <td>140</td>\n",
       " <td><em class=\"bu_p bu_pup\"><span class=\"blind\">상승</span></em> 10</td>\n",
       " <td> <em class=\"up\"> +7.69% </em> </td>\n",
       " </tr>,\n",
       " <tr class=\"up\">\n",
       " <th scope=\"row\"><a href=\"/item/main.naver?code=122630\" onclick=\"clickcr(this, 'spe.slist', '122630', '7', event);\">KODEX 레버리지</a></th>\n",
       " <td>13,150</td>\n",
       " <td><em class=\"bu_p bu_pup\"><span class=\"blind\">상승</span></em> 510</td>\n",
       " <td> <em class=\"up\"> +4.03% </em> </td>\n",
       " </tr>,\n",
       " <tr class=\"down\">\n",
       " <th scope=\"row\"><a href=\"/item/main.naver?code=114800\" onclick=\"clickcr(this, 'spe.slist', '114800', '8', event);\">KODEX 인버스</a></th>\n",
       " <td>5,115</td>\n",
       " <td><em class=\"bu_p bu_pdn\"><span class=\"blind\">하락</span></em> 110</td>\n",
       " <td> <em class=\"down\"> -2.11% </em> </td>\n",
       " </tr>,\n",
       " <tr class=\"up\">\n",
       " <th scope=\"row\"><a href=\"/item/main.naver?code=331520\" onclick=\"clickcr(this, 'spe.slist', '331520', '9', event);\">밸로프</a></th>\n",
       " <td>1,475</td>\n",
       " <td><em class=\"bu_p bu_pup\"><span class=\"blind\">상승</span></em> 65</td>\n",
       " <td> <em class=\"up\"> +4.61% </em> </td>\n",
       " </tr>,\n",
       " <tr class=\"up\">\n",
       " <th scope=\"row\"><a href=\"/item/main.naver?code=067000\" onclick=\"clickcr(this, 'spe.slist', '067000', '10', event);\">조이시티</a></th>\n",
       " <td>4,800</td>\n",
       " <td><em class=\"bu_p bu_pup\"><span class=\"blind\">상승</span></em> 510</td>\n",
       " <td> <em class=\"up\"> +11.89% </em> </td>\n",
       " </tr>,\n",
       " <tr class=\"down\">\n",
       " <th scope=\"row\"><a href=\"/item/main.naver?code=251340\" onclick=\"clickcr(this, 'spe.slist', '251340', '11', event);\">KODEX 코스닥150선물인버스</a></th>\n",
       " <td>5,560</td>\n",
       " <td><em class=\"bu_p bu_pdn\"><span class=\"blind\">하락</span></em> 35</td>\n",
       " <td> <em class=\"down\"> -0.63% </em> </td>\n",
       " </tr>,\n",
       " <tr class=\"down\">\n",
       " <th scope=\"row\"><a href=\"/item/main.naver?code=152550\" onclick=\"clickcr(this, 'spe.slist', '152550', '12', event);\">한국ANKOR유전</a></th>\n",
       " <td>253</td>\n",
       " <td><em class=\"bu_p bu_pdn\"><span class=\"blind\">하락</span></em> 108</td>\n",
       " <td> <em class=\"down\"> -29.92% </em> </td>\n",
       " </tr>,\n",
       " <tr class=\"up\">\n",
       " <th scope=\"row\"><a href=\"/item/main.naver?code=233740\" onclick=\"clickcr(this, 'spe.slist', '233740', '13', event);\">KODEX 코스닥150레버리지</a></th>\n",
       " <td>6,160</td>\n",
       " <td><em class=\"bu_p bu_pup\"><span class=\"blind\">상승</span></em> 75</td>\n",
       " <td> <em class=\"up\"> +1.23% </em> </td>\n",
       " </tr>,\n",
       " <tr class=\"up\">\n",
       " <th scope=\"row\"><a href=\"/item/main.naver?code=336060\" onclick=\"clickcr(this, 'spe.slist', '336060', '14', event);\">웨이버스</a></th>\n",
       " <td>1,790</td>\n",
       " <td><em class=\"bu_p bu_pup\"><span class=\"blind\">상승</span></em> 410</td>\n",
       " <td> <em class=\"up\"> +29.71% </em> </td>\n",
       " </tr>,\n",
       " <tr class=\"up\">\n",
       " <th scope=\"row\"><a href=\"/item/main.naver?code=005930\" onclick=\"clickcr(this, 'spe.slist', '005930', '15', event);\">삼성전자</a></th>\n",
       " <td>57,800</td>\n",
       " <td><em class=\"bu_p bu_pup\"><span class=\"blind\">상승</span></em> 2,400</td>\n",
       " <td> <em class=\"up\"> +4.33% </em> </td>\n",
       " </tr>]"
      ]
     },
     "execution_count": 42,
     "metadata": {},
     "output_type": "execute_result"
    }
   ],
   "source": [
    "up1.find_next_siblings(\"tr\")"
   ]
  },
  {
   "cell_type": "code",
   "execution_count": 43,
   "id": "76b6dac3-4698-4262-b597-cbd1e6183d27",
   "metadata": {},
   "outputs": [],
   "source": [
    "finance = soup.find(\"a\", text = \"삼성중공우\")\n",
    "# <a href=\"/item/main.naver?code=010145\" onclick=\"clickcr(this, &quot;spe.clist&quot;, &quot;010145&quot;, &quot;4&quot;, event);\">삼성중공우</a>"
   ]
  },
  {
   "cell_type": "code",
   "execution_count": 44,
   "id": "153d02d9-5fc6-4d97-9218-37480a3d3a15",
   "metadata": {},
   "outputs": [
    {
     "name": "stdout",
     "output_type": "stream",
     "text": [
      "<a href=\"/item/main.naver?code=010145\" onclick=\"clickcr(this, 'spe.clist', '010145', '4', event);\">삼성중공우</a>\n"
     ]
    }
   ],
   "source": [
    "print(finance)"
   ]
  },
  {
   "cell_type": "code",
   "execution_count": null,
   "id": "4fd0f72c-06c9-43a6-b805-896546b1f3dc",
   "metadata": {},
   "outputs": [],
   "source": []
  }
 ],
 "metadata": {
  "kernelspec": {
   "display_name": "Python 3 (ipykernel)",
   "language": "python",
   "name": "python3"
  },
  "language_info": {
   "codemirror_mode": {
    "name": "ipython",
    "version": 3
   },
   "file_extension": ".py",
   "mimetype": "text/x-python",
   "name": "python",
   "nbconvert_exporter": "python",
   "pygments_lexer": "ipython3",
   "version": "3.9.12"
  }
 },
 "nbformat": 4,
 "nbformat_minor": 5
}
