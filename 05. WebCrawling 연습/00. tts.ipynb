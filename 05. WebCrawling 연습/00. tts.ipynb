{
 "cells": [
  {
   "cell_type": "code",
   "execution_count": 1,
   "id": "41272e25-1c32-4852-9c67-00a1e6235b3e",
   "metadata": {},
   "outputs": [],
   "source": [
    "# pip install speechrecognition --trusted-host pypi.org --trusted-host files.pythonhosted.org"
   ]
  },
  {
   "cell_type": "code",
   "execution_count": 2,
   "id": "10f7b3a3-87d0-49c2-8790-94e0e48a3f3e",
   "metadata": {},
   "outputs": [],
   "source": [
    "# pip install gtts --trusted-host pypi.org --trusted-host files.pythonhosted.org"
   ]
  },
  {
   "cell_type": "code",
   "execution_count": 3,
   "id": "52864847-6879-40bc-bad1-5486cfcc97da",
   "metadata": {},
   "outputs": [],
   "source": [
    "# pip install playsound --trusted-host pypi.org --trusted-host files.pythonhosted.org"
   ]
  },
  {
   "cell_type": "code",
   "execution_count": 4,
   "id": "6ff8bdd2-fb1c-449a-8ed4-4efa311d2326",
   "metadata": {},
   "outputs": [],
   "source": [
    "import speech_recognition as sr\n",
    "from gtts import gTTS\n",
    "import os\n",
    "import time\n",
    "import playsound"
   ]
  },
  {
   "cell_type": "code",
   "execution_count": 25,
   "id": "b65db7ee-e03a-46cc-8459-ffa3857c2520",
   "metadata": {},
   "outputs": [],
   "source": [
    "def speak(text) :\n",
    "    tts = gTTS(text = text, lang = \"ko\")\n",
    "    filename = \"voice.mp3\"\n",
    "    path = \"C:/Users/User/Desktop/2022 공공데이터 청년 수련생 프로젝트/Anaconda3_Python/00. Practice/WebCrawling 연습\"\n",
    "    tts.save(path+\"/\"+filename)\n",
    "    playsound.playsound(filename)"
   ]
  },
  {
   "cell_type": "code",
   "execution_count": 26,
   "id": "1cf70f96-6a68-44ab-9d24-2762a9644a82",
   "metadata": {},
   "outputs": [
    {
     "ename": "PermissionError",
     "evalue": "[Errno 13] Permission denied: 'C:/Users/User/Desktop/2022 공공데이터 청년 수련생 프로젝트/Anaconda3_Python/00. Practice/WebCrawling 연습/voice.mp3'",
     "output_type": "error",
     "traceback": [
      "\u001b[1;31m---------------------------------------------------------------------------\u001b[0m",
      "\u001b[1;31mPermissionError\u001b[0m                           Traceback (most recent call last)",
      "Input \u001b[1;32mIn [26]\u001b[0m, in \u001b[0;36m<cell line: 1>\u001b[1;34m()\u001b[0m\n\u001b[1;32m----> 1\u001b[0m \u001b[43mspeak\u001b[49m\u001b[43m(\u001b[49m\u001b[38;5;124;43m\"\u001b[39;49m\u001b[38;5;124;43m안녕하세요. 길동씨\u001b[39;49m\u001b[38;5;124;43m\"\u001b[39;49m\u001b[43m)\u001b[49m\n",
      "Input \u001b[1;32mIn [25]\u001b[0m, in \u001b[0;36mspeak\u001b[1;34m(text)\u001b[0m\n\u001b[0;32m      3\u001b[0m filename \u001b[38;5;241m=\u001b[39m \u001b[38;5;124m\"\u001b[39m\u001b[38;5;124mvoice.mp3\u001b[39m\u001b[38;5;124m\"\u001b[39m\n\u001b[0;32m      4\u001b[0m path \u001b[38;5;241m=\u001b[39m \u001b[38;5;124m\"\u001b[39m\u001b[38;5;124mC:/Users/User/Desktop/2022 공공데이터 청년 수련생 프로젝트/Anaconda3_Python/00. Practice/WebCrawling 연습\u001b[39m\u001b[38;5;124m\"\u001b[39m\n\u001b[1;32m----> 5\u001b[0m \u001b[43mtts\u001b[49m\u001b[38;5;241;43m.\u001b[39;49m\u001b[43msave\u001b[49m\u001b[43m(\u001b[49m\u001b[43mpath\u001b[49m\u001b[38;5;241;43m+\u001b[39;49m\u001b[38;5;124;43m\"\u001b[39;49m\u001b[38;5;124;43m/\u001b[39;49m\u001b[38;5;124;43m\"\u001b[39;49m\u001b[38;5;241;43m+\u001b[39;49m\u001b[43mfilename\u001b[49m\u001b[43m)\u001b[49m\n\u001b[0;32m      6\u001b[0m playsound\u001b[38;5;241m.\u001b[39mplaysound(filename)\n",
      "File \u001b[1;32mC:\\ProgramData\\Anaconda3\\lib\\site-packages\\gtts\\tts.py:328\u001b[0m, in \u001b[0;36mgTTS.save\u001b[1;34m(self, savefile)\u001b[0m\n\u001b[0;32m    318\u001b[0m \u001b[38;5;28;01mdef\u001b[39;00m \u001b[38;5;21msave\u001b[39m(\u001b[38;5;28mself\u001b[39m, savefile):\n\u001b[0;32m    319\u001b[0m     \u001b[38;5;124;03m\"\"\"Do the TTS API request and write result to file.\u001b[39;00m\n\u001b[0;32m    320\u001b[0m \n\u001b[0;32m    321\u001b[0m \u001b[38;5;124;03m    Args:\u001b[39;00m\n\u001b[1;32m   (...)\u001b[0m\n\u001b[0;32m    326\u001b[0m \n\u001b[0;32m    327\u001b[0m \u001b[38;5;124;03m    \"\"\"\u001b[39;00m\n\u001b[1;32m--> 328\u001b[0m     \u001b[38;5;28;01mwith\u001b[39;00m \u001b[38;5;28;43mopen\u001b[39;49m\u001b[43m(\u001b[49m\u001b[38;5;28;43mstr\u001b[39;49m\u001b[43m(\u001b[49m\u001b[43msavefile\u001b[49m\u001b[43m)\u001b[49m\u001b[43m,\u001b[49m\u001b[43m \u001b[49m\u001b[38;5;124;43m\"\u001b[39;49m\u001b[38;5;124;43mwb\u001b[39;49m\u001b[38;5;124;43m\"\u001b[39;49m\u001b[43m)\u001b[49m \u001b[38;5;28;01mas\u001b[39;00m f:\n\u001b[0;32m    329\u001b[0m         \u001b[38;5;28mself\u001b[39m\u001b[38;5;241m.\u001b[39mwrite_to_fp(f)\n\u001b[0;32m    330\u001b[0m         log\u001b[38;5;241m.\u001b[39mdebug(\u001b[38;5;124m\"\u001b[39m\u001b[38;5;124mSaved to \u001b[39m\u001b[38;5;132;01m%s\u001b[39;00m\u001b[38;5;124m\"\u001b[39m, savefile)\n",
      "\u001b[1;31mPermissionError\u001b[0m: [Errno 13] Permission denied: 'C:/Users/User/Desktop/2022 공공데이터 청년 수련생 프로젝트/Anaconda3_Python/00. Practice/WebCrawling 연습/voice.mp3'"
     ]
    }
   ],
   "source": [
    "speak(\"안녕하세요. 길동씨\")"
   ]
  },
  {
   "cell_type": "code",
   "execution_count": null,
   "id": "4b3dad48-3af5-45a2-b646-07fe29d9f187",
   "metadata": {},
   "outputs": [],
   "source": []
  },
  {
   "cell_type": "code",
   "execution_count": null,
   "id": "431eb4b6-8cf1-45d7-990a-6c990fa8fbb8",
   "metadata": {},
   "outputs": [],
   "source": []
  }
 ],
 "metadata": {
  "kernelspec": {
   "display_name": "Python 3 (ipykernel)",
   "language": "python",
   "name": "python3"
  },
  "language_info": {
   "codemirror_mode": {
    "name": "ipython",
    "version": 3
   },
   "file_extension": ".py",
   "mimetype": "text/x-python",
   "name": "python",
   "nbconvert_exporter": "python",
   "pygments_lexer": "ipython3",
   "version": "3.9.12"
  }
 },
 "nbformat": 4,
 "nbformat_minor": 5
}
