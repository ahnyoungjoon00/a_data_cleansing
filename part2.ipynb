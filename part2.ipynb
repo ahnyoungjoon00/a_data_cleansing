{
 "cells": [
  {
   "cell_type": "markdown",
   "metadata": {},
   "source": [
    "# part 2"
   ]
  },
  {
   "cell_type": "code",
   "execution_count": null,
   "metadata": {},
   "outputs": [],
   "source": [
    "# 기본 데이터 처리\n",
    "import numpy as np\n",
    "import pandas as pd\n",
    "\n",
    "from sklearn.model_selection import train_test_split\n",
    "\n",
    "# 스케일링 및 데이터 전처리\n",
    "from sklearn.preprocessing import StandardScaler, MinMaxScaler\n",
    "\n",
    "# 예측 모델 (회귀)만들라고 하면 쓸 수 있는 모델 예시, 이중 하나 적용하면 되는거임, 거의 랜포 쓸듯\n",
    "from sklearn.linear_model import LinearRegression, Ridge, Lasso\n",
    "from sklearn.ensemble import RandomForestRegressor, GradientBoostingRegressor\n",
    "from sklearn.tree import DecisionTreeRegressor\n",
    "# from xgboost import XGBRegressor\n",
    "# from lightgbm import LGBMRegressor\n",
    "\n",
    "# 회귀 모델 평가지표\n",
    "from sklearn.metrics import mean_absolute_error, mean_squared_error, r2_score\n",
    "\n",
    "data = pd.read_csv(\"/.../exmaple\", index_col = 0) # index_col은 데이터 확인하고 붙일지 말지\n",
    "\n",
    "X_columns = [\"\", \"\", \"\", ...]\n",
    "# y_columns = data.target\n",
    "\n",
    "X = data[X_columns]\n",
    "y = data.target\n",
    "X = pd.get_dummies(X) # 범주형 데이터 변환은 거의 필수로 있는듯\n",
    "\n",
    "# 스케일링은 근데 굳이 해야하나 싶음. 난 시험볼때 안했음, 이거 잘못하면 runtime 초과로 0점 나옴\n",
    "# scaler = StandardScaler()\n",
    "# X_scaled = scaler.fit_transform(X)\n",
    "\n",
    "X_train, X_test, y_train, y_test = train_test_split(X, ｙ, test_size = 0.3, random_state = 123)\n",
    "\n",
    "rf_model = RandomForestRegressor()\n",
    "rf_model.fit(X_train, y_train)\n",
    "pred = rf_model.predict(X_test)\n",
    "\n",
    "# 평가지표\n",
    "mse = mean_squared_error(y_test, pred) # 이거 평가지표 뭘로 할지도 언급해주는걸로 기억\n",
    "mae = mean_absolute_error(y_test, pred)\n",
    "r2 = r2_score(y_test, pred)\n",
    "rmse = np.sqrt(mse) # mean_squared_error(y_test, pred, square = False)\n",
    "\n",
    "print(f\"MSE : {mse}\")\n",
    "print(f\"MAE : {mae}\")\n",
    "print(f\"RMSE : {rmse}\")\n",
    "print(f\"r2_score : {r2}\")\n",
    "\n",
    "# 결과값은 pred만 내보내면 되는걸로 기억함\n",
    "results = pd.DataFrame({\n",
    "    \"prediction\": pred\n",
    "})\n",
    "\n",
    "# 혹시 몰라서\n",
    "# results = pd.DataFrame({\n",
    "#     \"Actual\": y_test.values,\n",
    "#     \"Predicted\": pred\n",
    "# })\n",
    "results.to_csv(\"prediction_results.csv\", index=False)"
   ]
  },
  {
   "cell_type": "code",
   "execution_count": null,
   "metadata": {},
   "outputs": [],
   "source": [
    "import numpy as np\n",
    "import pandas as pd\n",
    "\n",
    "from sklearn.model_selection import train_test_split\n",
    "from sklearn.preprocessing import StandardScaler, MinMaxScaler\n",
    "\n",
    "# 분류 모델 만들라고 하면 쓸 수 있는 모델 예시, 이중 하나 적용하면 되는거임, 이건 안풀어봤음\n",
    "from sklearn.linear_model import LogisticRegression\n",
    "from sklearn.ensemble import RandomForestClassifier, GradientBoostingClassifier\n",
    "from sklearn.tree import DecisionTreeClassifier\n",
    "from sklearn.neighbors import KNeighborsClassifier\n",
    "from sklearn.svm import SVC\n",
    "# from xgboost import XGBClassifier\n",
    "# from lightgbm import LGBMClassifier\n",
    "\n",
    "# 분류 모델 평가지표 - 뭐 써야하는지 지문에서 힌트 줌, 근데 지표별 의미정도는 확인하고 가야 알아들을듯\n",
    "from sklearn.metrics import accuracy_score, precision_score, recall_score, f1_score, confusion_matrix\n",
    "\n",
    "data = pd.read_csv(\"/.../exmaple\", index_col = 0) # index_col은 데이터 확인하고 붙일지 말지\n",
    "\n",
    "X_columns = [\"\", \"\", \"\", ...]\n",
    "# y_columns = data.target\n",
    "\n",
    "X = data[X_columns]\n",
    "y = data.target\n",
    "X = pd.get_dummies(X) # 범주형 데이터 변환은 거의 필수로 있는듯\n",
    "\n",
    "# 스케일링은 근데 굳이 해야하나 싶음. 난 시험볼때 안했음, 이거 잘못하면 runtime 초과로 0점 나옴\n",
    "# scaler = StandardScaler()\n",
    "# X_scaled = scaler.fit_transform(X)\n",
    "\n",
    "X_train, X_test, y_train, y_test = train_test_split(X, ｙ, test_size = 0.3, random_state = 123)\n",
    "\n",
    "rf_model = RandomForestRegressor()\n",
    "rf_model.fit(X_train, y_train)\n",
    "pred = rf_model.predict(X_test)\n",
    "\n",
    "# 평가지표\n",
    "accuracy = accuracy_score(y_test, pred)\n",
    "precision = precision_score(y_test, pred, average='weighted')\n",
    "recall = recall_score(y_test, pred, average='weighted')\n",
    "f1 = f1_score(y_test, pred, average='weighted')\n",
    "cm = confusion_matrix(y_test, pred)\n",
    "\n",
    "print(f\"Accuracy : {accuracy}\")\n",
    "print(f\"Precision : {precision}\")\n",
    "print(f\"Recall : {recall}\")\n",
    "print(f\"F1-Score : {f1}\")\n",
    "print(f\"Confusion Matrix : {cm}\")\n",
    "\n",
    "# 결과값은 pred만 내보내면 되는걸로 기억함\n",
    "results = pd.DataFrame({\n",
    "    \"prediction\": pred\n",
    "})\n",
    "\n",
    "# 혹시 몰라서\n",
    "# results = pd.DataFrame({\n",
    "#     \"actual\": y_test.values,\n",
    "#     \"prediction\": pred\n",
    "# })\n",
    "results.to_csv(\"prediction_results.csv\", index=False)"
   ]
  },
  {
   "cell_type": "markdown",
   "metadata": {},
   "source": [
    "### predict_proba 간단 설명 \n",
    "\n",
    "| actual   | prediction | prediction_proba(A일 확률) | prediction_proba(B일 확률) |\n",
    "|----------|------------|---------------------------|----------------------------|\n",
    "|   A      |   A        |   0.99                    |   0.01                     |\n",
    "|   B      |   B        |   0.01                    |   0.99                     |\n",
    "\n",
    "#### 결과를 표로 그리면 이런식임"
   ]
  },
  {
   "cell_type": "code",
   "execution_count": null,
   "metadata": {},
   "outputs": [],
   "source": [
    "from sklearn.metrics import roc_auc_score # 요건 분류 모델의 + a \n",
    "\n",
    "# ROC-AUC 계산 (예측 확률 사용)\n",
    "pred = rf_model.predict(X_test)\n",
    "pred_proba = rf_model.predict_proba(X_test)\n",
    "\n",
    "results = pd.DataFrame({\n",
    "    \"actual\" : y_test.values,\n",
    "    \"prediction\": pred,\n",
    "    # \"prediction_proba\" : pred_proba/\n",
    "})\n",
    "\n",
    "roc_auc = roc_auc_score(y_test, pred_proba[:, 1])\n",
    "print(f\"roc_auc_score : {roc_auc}\")\n",
    "\n",
    "results.to_csv(\"prediction_results.csv\", index=False)\n",
    "roc_auc.to_csv(\"roc_auc.csv\", index=False)"
   ]
  },
  {
   "cell_type": "markdown",
   "metadata": {},
   "source": [
    "# part 3\n",
    "### 15점짜리 2문제\n",
    "### 문제 당 질문 3개\n",
    "- 귀무가설, 대립가설 고르는거, 방향 정하는거 확인 [<=, <, >=, >] 이거\n",
    "- 통계치, 임계값 이런거 쓰는거\n",
    "- 최종적으로 귀무가설 기각인지 채택인지, 대립가설 기각인지, 채택인지 이런거였음\n",
    "### 고려사항\n",
    "    - z-검정, Shapiro-Wilk 검정, t-검정(독립표본, 대응표본), \n",
    "    - F-검정(2집단 분산), Anova(3집단 분산), \n",
    "    - 카이제곱(범주형 인자 기대빈도 비교), (K-S 검정)\n",
    "    - 스피어만, 피어슨\n",
    "- 모집단, 표본집단\n",
    "- 표준편차/분산을 알고 있는지 모르는지\n",
    "- [<=, <, >=, >]\n",
    "- 1.96, 1.645 이런거 사조사에서 95%, 90% 이런거 있던 것 같은\n",
    "\n",
    "- 사실 기억이 안남\n",
    "- 찾으면서 나오는거 좀 생각 ㄱ ㄱ"
   ]
  },
  {
   "cell_type": "code",
   "execution_count": null,
   "metadata": {},
   "outputs": [
    {
     "name": "stdout",
     "output_type": "stream",
     "text": [
      "t: -5.2766, p: 0.0007\n"
     ]
    }
   ],
   "source": [
    "from scipy.stats import ttest_ind\n",
    "# 독립표본 t-검정\n",
    "group1 = [5.1, 5.3, 5.2, 5.4, 5.5]\n",
    "group2 = [5.7, 5.8, 5.6, 5.9, 5.8]\n",
    "\n",
    "t_stat, p_value = ttest_ind(group1, group2)\n",
    "\n",
    "print(f\"t: {t_stat:.4f}, p: {p_value:.4f}\")"
   ]
  },
  {
   "cell_type": "code",
   "execution_count": 4,
   "metadata": {},
   "outputs": [
    {
     "name": "stdout",
     "output_type": "stream",
     "text": [
      "t: -9.0213, p: 0.0008\n"
     ]
    }
   ],
   "source": [
    "from scipy.stats import ttest_rel\n",
    "# 대응표본 t-검정\n",
    "before = [5.1, 5.3, 5.2, 5.4, 5.5]\n",
    "after = [5.7, 5.8, 5.6, 5.9, 5.8]\n",
    "\n",
    "t_stat, p_value = ttest_rel(before, after)\n",
    "\n",
    "print(f\"t: {t_stat:.4f}, p: {p_value:.4f}\")"
   ]
  },
  {
   "cell_type": "code",
   "execution_count": 5,
   "metadata": {},
   "outputs": [
    {
     "name": "stdout",
     "output_type": "stream",
     "text": [
      "z: 5.4772, p: 0.0000\n"
     ]
    }
   ],
   "source": [
    "from scipy.stats import norm\n",
    "# z-검정\n",
    "sample_mean = 5.2\n",
    "population_mean = 5.0\n",
    "population_std = 0.2\n",
    "sample_size = 30\n",
    "\n",
    "z = (sample_mean - population_mean) / (population_std / (sample_size ** 0.5))\n",
    "p = 2 * (1 - norm.cdf(abs(z)))\n",
    "\n",
    "print(f\"z: {z:.4f}, p: {p:.4f}\")"
   ]
  },
  {
   "cell_type": "code",
   "execution_count": 6,
   "metadata": {},
   "outputs": [
    {
     "name": "stdout",
     "output_type": "stream",
     "text": [
      "F: 27.8421, p: 0.0007\n"
     ]
    }
   ],
   "source": [
    "from scipy.stats import f_oneway\n",
    "# F-검정\n",
    "group1 = [5.1, 5.3, 5.2, 5.4, 5.5]\n",
    "group2 = [5.7, 5.8, 5.6, 5.9, 5.8]\n",
    "\n",
    "f_stat, p_value = f_oneway(group1, group2)\n",
    "\n",
    "print(f\"F: {f_stat:.4f}, p: {p_value:.4f}\")"
   ]
  },
  {
   "cell_type": "code",
   "execution_count": 7,
   "metadata": {},
   "outputs": [
    {
     "name": "stdout",
     "output_type": "stream",
     "text": [
      "Chi2: 0.0000, p: 1.0000\n"
     ]
    }
   ],
   "source": [
    "from scipy.stats import chi2_contingency\n",
    "# 카이제곱 검정\n",
    "# 관찰 데이터\n",
    "observed = [[10, 20], [20, 40]]  # 예: 두 변수의 빈도수\n",
    "chi2, p, dof, expected = chi2_contingency(observed)\n",
    "\n",
    "print(f\"Chi2: {chi2:.4f}, p: {p:.4f}\")"
   ]
  },
  {
   "cell_type": "code",
   "execution_count": 8,
   "metadata": {},
   "outputs": [
    {
     "name": "stdout",
     "output_type": "stream",
     "text": [
      "D: 0.2743, p: 0.7624\n"
     ]
    }
   ],
   "source": [
    "from scipy.stats import kstest\n",
    "# Kolmogorov-Smirnov (K-S) 검정\n",
    "data = [1.1, 2.3, 1.8, 1.9, 2.2]\n",
    "d_stat, p_value = kstest(data, 'norm', args=(2, 0.5))  # 평균=2, 표준편차=0.5인 정규분포\n",
    "\n",
    "print(f\"D: {d_stat:.4f}, p: {p_value:.4f}\")"
   ]
  },
  {
   "cell_type": "code",
   "execution_count": 9,
   "metadata": {},
   "outputs": [
    {
     "name": "stdout",
     "output_type": "stream",
     "text": [
      "Shapiro-Wilk Stat: 0.9079, p: 0.4552\n"
     ]
    }
   ],
   "source": [
    "from scipy.stats import shapiro\n",
    "# Shapiro-Wilk 검정\n",
    "data = [1.1, 1.9, 2.3, 1.8, 2.0]\n",
    "stat, p = shapiro(data)\n",
    "\n",
    "print(f\"Shapiro-Wilk Stat: {stat:.4f}, p: {p:.4f}\")"
   ]
  },
  {
   "cell_type": "code",
   "execution_count": 11,
   "metadata": {},
   "outputs": [
    {
     "name": "stdout",
     "output_type": "stream",
     "text": [
      "ANOVA F: 48.2222, p: 0.0000\n"
     ]
    }
   ],
   "source": [
    "from scipy.stats import f_oneway\n",
    "# ANOVA (분산분석)\n",
    "group1 = [5.1, 5.3, 5.2, 5.4, 5.5]\n",
    "group2 = [5.7, 5.8, 5.6, 5.9, 5.8]\n",
    "group3 = [6.0, 6.1, 6.2, 6.3, 6.4]\n",
    "\n",
    "f_stat, p_value = f_oneway(group1, group2, group3)\n",
    "\n",
    "print(f\"ANOVA F: {f_stat:.4f}, p: {p_value:.4f}\")"
   ]
  },
  {
   "cell_type": "code",
   "execution_count": 10,
   "metadata": {},
   "outputs": [
    {
     "name": "stdout",
     "output_type": "stream",
     "text": [
      "Wilcoxon Stat: 0.0000, p: 0.0625\n"
     ]
    }
   ],
   "source": [
    "from scipy.stats import wilcoxon\n",
    "# Wilcoxon 검정\n",
    "before = [5.1, 5.3, 5.2, 5.4, 5.5]\n",
    "after = [5.7, 5.8, 5.6, 5.9, 5.8]\n",
    "\n",
    "stat, p_value = wilcoxon(before, after)\n",
    "\n",
    "print(f\"Wilcoxon Stat: {stat:.4f}, p: {p_value:.4f}\")\n"
   ]
  }
 ],
 "metadata": {
  "kernelspec": {
   "display_name": "ohio",
   "language": "python",
   "name": "python3"
  },
  "language_info": {
   "codemirror_mode": {
    "name": "ipython",
    "version": 3
   },
   "file_extension": ".py",
   "mimetype": "text/x-python",
   "name": "python",
   "nbconvert_exporter": "python",
   "pygments_lexer": "ipython3",
   "version": "3.12.7"
  }
 },
 "nbformat": 4,
 "nbformat_minor": 2
}
