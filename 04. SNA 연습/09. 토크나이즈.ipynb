{
 "cells": [
  {
   "cell_type": "code",
   "execution_count": 1,
   "id": "69d7b7ca-4cc7-4837-8150-d07bf23bd652",
   "metadata": {},
   "outputs": [],
   "source": [
    "import nltk\n",
    "from nltk.stem.porter import PorterStemmer\n",
    "from nltk.tokenize import RegexpTokenizer\n",
    "from nltk.corpus import stopwords\n",
    "import pandas as pd\n",
    "from konlpy.tag import Hannanum\n",
    "hannanum = Hannanum()\n",
    "from wordcloud import WordCloud\n",
    "from collections import Counter"
   ]
  },
  {
   "cell_type": "code",
   "execution_count": 9,
   "id": "24ee7060-4198-449f-93b8-59186ffc3937",
   "metadata": {},
   "outputs": [],
   "source": [
    "f = open(\"minwon.txt\", \"r\", encoding = \"cp949\")\n",
    "lines = f.readlines()\n",
    "f.close()"
   ]
  },
  {
   "cell_type": "code",
   "execution_count": 8,
   "id": "ed521807-580e-4cae-9306-c45637b57dda",
   "metadata": {},
   "outputs": [],
   "source": [
    "m = open(\"연설문.txt\", \"r\", encoding = \"utf-8\")\n",
    "lines = m.readlines()\n",
    "m.close()"
   ]
  },
  {
   "cell_type": "code",
   "execution_count": 18,
   "id": "70979a0b-ea13-4de1-b245-33e73ebb23de",
   "metadata": {},
   "outputs": [
    {
     "data": {
      "text/plain": [
       "_io.TextIOWrapper"
      ]
     },
     "execution_count": 18,
     "metadata": {},
     "output_type": "execute_result"
    }
   ],
   "source": [
    "type(f)"
   ]
  },
  {
   "cell_type": "code",
   "execution_count": 19,
   "id": "a4942d6c-464b-4287-8f8f-c34f64dcc6ef",
   "metadata": {},
   "outputs": [
    {
     "data": {
      "text/plain": [
       "_io.TextIOWrapper"
      ]
     },
     "execution_count": 19,
     "metadata": {},
     "output_type": "execute_result"
    }
   ],
   "source": [
    "type(m)"
   ]
  },
  {
   "cell_type": "code",
   "execution_count": 7,
   "id": "bc58049d-5ab9-4461-b5ba-76de3b70131d",
   "metadata": {},
   "outputs": [
    {
     "ename": "AttributeError",
     "evalue": "'list' object has no attribute 'lower'",
     "output_type": "error",
     "traceback": [
      "\u001b[1;31m---------------------------------------------------------------------------\u001b[0m",
      "\u001b[1;31mAttributeError\u001b[0m                            Traceback (most recent call last)",
      "Input \u001b[1;32mIn [7]\u001b[0m, in \u001b[0;36m<cell line: 3>\u001b[1;34m()\u001b[0m\n\u001b[0;32m      1\u001b[0m tokennizer \u001b[38;5;241m=\u001b[39m RegexpTokenizer(\u001b[38;5;124m'\u001b[39m\u001b[38;5;124m[\u001b[39m\u001b[38;5;124m\\\u001b[39m\u001b[38;5;124mw]+\u001b[39m\u001b[38;5;124m'\u001b[39m)\n\u001b[0;32m      2\u001b[0m \u001b[38;5;66;03m# stop_words = stopwords.words(\"korean\")\u001b[39;00m\n\u001b[1;32m----> 3\u001b[0m words \u001b[38;5;241m=\u001b[39m \u001b[43mlines\u001b[49m\u001b[38;5;241;43m.\u001b[39;49m\u001b[43mlower\u001b[49m()\n",
      "\u001b[1;31mAttributeError\u001b[0m: 'list' object has no attribute 'lower'"
     ]
    }
   ],
   "source": [
    "tokennizer = RegexpTokenizer('[\\w]+')\n",
    "# stop_words = stopwords.words(\"korean\")\n",
    "words = lines"
   ]
  },
  {
   "cell_type": "code",
   "execution_count": null,
   "id": "f28bf857-581d-438a-ad2b-1f14c2776879",
   "metadata": {
    "tags": []
   },
   "outputs": [],
   "source": [
    "tokens = tokennizer.tokenize(words)"
   ]
  }
 ],
 "metadata": {
  "kernelspec": {
   "display_name": "Python 3 (ipykernel)",
   "language": "python",
   "name": "python3"
  },
  "language_info": {
   "codemirror_mode": {
    "name": "ipython",
    "version": 3
   },
   "file_extension": ".py",
   "mimetype": "text/x-python",
   "name": "python",
   "nbconvert_exporter": "python",
   "pygments_lexer": "ipython3",
   "version": "3.9.12"
  }
 },
 "nbformat": 4,
 "nbformat_minor": 5
}
