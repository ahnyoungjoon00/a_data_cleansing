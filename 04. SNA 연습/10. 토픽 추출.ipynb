{
 "cells": [
  {
   "cell_type": "code",
   "execution_count": 3,
   "id": "8d390b35-1f19-4574-baf7-55e724b2e7f1",
   "metadata": {},
   "outputs": [],
   "source": [
    "from gensim import corpora\n",
    "from gensim.models import LsiModel\n",
    "from gensim.parsing.preprocessing import preprocess_string\n",
    "import pandas as pd\n",
    "import re"
   ]
  },
  {
   "cell_type": "code",
   "execution_count": 4,
   "id": "a4d23e6d-ed97-4356-b50f-fcd5304f8ad5",
   "metadata": {},
   "outputs": [],
   "source": [
    "x = pd.read_csv(\"Pokemon.csv\", sep = \",\")\n",
    "x.head()\n",
    "x.tail()\n",
    "x = str(x)"
   ]
  },
  {
   "cell_type": "code",
   "execution_count": 5,
   "id": "a36fe2e2-560f-4e60-af06-789b85e80ef7",
   "metadata": {},
   "outputs": [],
   "source": [
    "def clean_text(x) :\n",
    "    pattern = r'[^a-zA-Z0-9\\s]'\n",
    "    text = re.sub(pattern, '', x)\n",
    "    return x"
   ]
  },
  {
   "cell_type": "code",
   "execution_count": 6,
   "id": "70ef4675-f757-41f7-9045-9032391cc469",
   "metadata": {},
   "outputs": [],
   "source": [
    "def clean_numbers(x) : \n",
    "    if bool(re.search(r'\\d', x)) :\n",
    "        x = re.sub('[0-9]{5, }', \"#####\", x)\n",
    "        x = re.sub('[0-9]{4, }', \"####\", x)\n",
    "        x = re.sub('[0-9]{3, }', \"###\", x)\n",
    "        x = re.sub('[0-9]{2, }', \"##\", x)\n",
    "        return x"
   ]
  },
  {
   "cell_type": "code",
   "execution_count": 11,
   "id": "68873b23-06c6-4ce2-89e8-e2c0ee7c216b",
   "metadata": {},
   "outputs": [],
   "source": [
    "def clean(x) :\n",
    "    x = clean_text(x)\n",
    "    x = clean_numbers(x)\n",
    "    return x"
   ]
  },
  {
   "cell_type": "code",
   "execution_count": 12,
   "id": "f4708e25-aa46-440b-8649-0d6d1b7bacd2",
   "metadata": {},
   "outputs": [
    {
     "data": {
      "text/plain": [
       "'       #                   Name   Type 1  Type 2  Total  HP  Attack  Defense  \\\\\\n0      1              Bulbasaur    Grass  Poison    318  45      49       49   \\n1      2                Ivysaur    Grass  Poison    405  60      62       63   \\n2      3               Venusaur    Grass  Poison    525  80      82       83   \\n3      3  VenusaurMega Venusaur    Grass  Poison    625  80     100      123   \\n4      4             Charmander     Fire     NaN    309  39      52       43   \\n..   ...                    ...      ...     ...    ...  ..     ...      ...   \\n795  719                Diancie     Rock   Fairy    600  50     100      150   \\n796  719    DiancieMega Diancie     Rock   Fairy    700  50     160      110   \\n797  720    HoopaHoopa Confined  Psychic   Ghost    600  80     110       60   \\n798  720     HoopaHoopa Unbound  Psychic    Dark    680  80     160       60   \\n799  721              Volcanion     Fire   Water    600  80     110      120   \\n\\n     Sp. Atk  Sp. Def  Speed  Generation  Legendary  \\n0         65       65     45           1      False  \\n1         80       80     60           1      False  \\n2        100      100     80           1      False  \\n3        122      120     80           1      False  \\n4         60       50     65           1      False  \\n..       ...      ...    ...         ...        ...  \\n795      100      150     50           6       True  \\n796      160      110    110           6       True  \\n797      150      130     70           6       True  \\n798      170      130     80           6       True  \\n799      130       90     70           6       True  \\n\\n[800 rows x 13 columns]'"
      ]
     },
     "execution_count": 12,
     "metadata": {},
     "output_type": "execute_result"
    }
   ],
   "source": [
    "clean_text(x)"
   ]
  },
  {
   "cell_type": "code",
   "execution_count": 13,
   "id": "ac6c3bd7-a34c-4232-abed-c05e6774bc16",
   "metadata": {},
   "outputs": [
    {
     "data": {
      "text/plain": [
       "'       #                   Name   Type 1  Type 2  Total  HP  Attack  Defense  \\\\\\n0      1              Bulbasaur    Grass  Poison    318  45      49       49   \\n1      2                Ivysaur    Grass  Poison    405  60      62       63   \\n2      3               Venusaur    Grass  Poison    525  80      82       83   \\n3      3  VenusaurMega Venusaur    Grass  Poison    625  80     100      123   \\n4      4             Charmander     Fire     NaN    309  39      52       43   \\n..   ...                    ...      ...     ...    ...  ..     ...      ...   \\n795  719                Diancie     Rock   Fairy    600  50     100      150   \\n796  719    DiancieMega Diancie     Rock   Fairy    700  50     160      110   \\n797  720    HoopaHoopa Confined  Psychic   Ghost    600  80     110       60   \\n798  720     HoopaHoopa Unbound  Psychic    Dark    680  80     160       60   \\n799  721              Volcanion     Fire   Water    600  80     110      120   \\n\\n     Sp. Atk  Sp. Def  Speed  Generation  Legendary  \\n0         65       65     45           1      False  \\n1         80       80     60           1      False  \\n2        100      100     80           1      False  \\n3        122      120     80           1      False  \\n4         60       50     65           1      False  \\n..       ...      ...    ...         ...        ...  \\n795      100      150     50           6       True  \\n796      160      110    110           6       True  \\n797      150      130     70           6       True  \\n798      170      130     80           6       True  \\n799      130       90     70           6       True  \\n\\n[800 rows x 13 columns]'"
      ]
     },
     "execution_count": 13,
     "metadata": {},
     "output_type": "execute_result"
    }
   ],
   "source": [
    "clean_numbers(x)"
   ]
  },
  {
   "cell_type": "code",
   "execution_count": 14,
   "id": "5b327360-c12f-4c45-a286-1c75f96f3960",
   "metadata": {},
   "outputs": [
    {
     "data": {
      "text/plain": [
       "'       #                   Name   Type 1  Type 2  Total  HP  Attack  Defense  \\\\\\n0      1              Bulbasaur    Grass  Poison    318  45      49       49   \\n1      2                Ivysaur    Grass  Poison    405  60      62       63   \\n2      3               Venusaur    Grass  Poison    525  80      82       83   \\n3      3  VenusaurMega Venusaur    Grass  Poison    625  80     100      123   \\n4      4             Charmander     Fire     NaN    309  39      52       43   \\n..   ...                    ...      ...     ...    ...  ..     ...      ...   \\n795  719                Diancie     Rock   Fairy    600  50     100      150   \\n796  719    DiancieMega Diancie     Rock   Fairy    700  50     160      110   \\n797  720    HoopaHoopa Confined  Psychic   Ghost    600  80     110       60   \\n798  720     HoopaHoopa Unbound  Psychic    Dark    680  80     160       60   \\n799  721              Volcanion     Fire   Water    600  80     110      120   \\n\\n     Sp. Atk  Sp. Def  Speed  Generation  Legendary  \\n0         65       65     45           1      False  \\n1         80       80     60           1      False  \\n2        100      100     80           1      False  \\n3        122      120     80           1      False  \\n4         60       50     65           1      False  \\n..       ...      ...    ...         ...        ...  \\n795      100      150     50           6       True  \\n796      160      110    110           6       True  \\n797      150      130     70           6       True  \\n798      170      130     80           6       True  \\n799      130       90     70           6       True  \\n\\n[800 rows x 13 columns]'"
      ]
     },
     "execution_count": 14,
     "metadata": {},
     "output_type": "execute_result"
    }
   ],
   "source": [
    "clean(x)"
   ]
  },
  {
   "cell_type": "code",
   "execution_count": null,
   "id": "c51cca97-b660-43d8-aba6-0a067053a00e",
   "metadata": {},
   "outputs": [],
   "source": []
  }
 ],
 "metadata": {
  "kernelspec": {
   "display_name": "Python 3 (ipykernel)",
   "language": "python",
   "name": "python3"
  },
  "language_info": {
   "codemirror_mode": {
    "name": "ipython",
    "version": 3
   },
   "file_extension": ".py",
   "mimetype": "text/x-python",
   "name": "python",
   "nbconvert_exporter": "python",
   "pygments_lexer": "ipython3",
   "version": "3.9.12"
  }
 },
 "nbformat": 4,
 "nbformat_minor": 5
}
