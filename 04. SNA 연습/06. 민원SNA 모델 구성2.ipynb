{
 "cells": [
  {
   "cell_type": "code",
   "execution_count": 1,
   "id": "65c091bb-866e-4057-b29d-6129cb7ab80a",
   "metadata": {},
   "outputs": [],
   "source": [
    "import matplotlib as mpl\n",
    "import matplotlib.pyplot as plt\n",
    "import matplotlib.font_manager as fm\n",
    "from pathlib import Path\n",
    "%config inlineBackend.figure_format = \"retina\"\n",
    "\n",
    "plt.style.use(\"seaborn-white\")\n",
    "plt.rc('font', family='NanumGothic')"
   ]
  },
  {
   "cell_type": "code",
   "execution_count": 2,
   "id": "30fcc072-a765-4b06-9488-5946f4e1451b",
   "metadata": {},
   "outputs": [
    {
     "name": "stderr",
     "output_type": "stream",
     "text": [
      "'bash'은(는) 내부 또는 외부 명령, 실행할 수 있는 프로그램, 또는\n",
      "배치 파일이 아닙니다.\n"
     ]
    }
   ],
   "source": [
    "!curl -s https://raw.githubsercontest.com/teddylee777/machine-learning/master/99-Misc/01-Colab/mecab.colab.sh | bash"
   ]
  },
  {
   "cell_type": "code",
   "execution_count": null,
   "id": "ba3ee258-dc9c-4782-823b-d68ad801afd1",
   "metadata": {},
   "outputs": [],
   "source": []
  }
 ],
 "metadata": {
  "kernelspec": {
   "display_name": "Python 3 (ipykernel)",
   "language": "python",
   "name": "python3"
  },
  "language_info": {
   "codemirror_mode": {
    "name": "ipython",
    "version": 3
   },
   "file_extension": ".py",
   "mimetype": "text/x-python",
   "name": "python",
   "nbconvert_exporter": "python",
   "pygments_lexer": "ipython3",
   "version": "3.9.12"
  }
 },
 "nbformat": 4,
 "nbformat_minor": 5
}
