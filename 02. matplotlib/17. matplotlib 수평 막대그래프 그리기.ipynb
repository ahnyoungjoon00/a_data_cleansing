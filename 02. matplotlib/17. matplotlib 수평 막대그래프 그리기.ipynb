{
 "cells": [
  {
   "cell_type": "code",
   "execution_count": 1,
   "metadata": {},
   "outputs": [],
   "source": [
    "import numpy as np\n",
    "import pandas as pd\n",
    "import matplotlib.pyplot as plt"
   ]
  },
  {
   "cell_type": "code",
   "execution_count": 3,
   "metadata": {},
   "outputs": [
    {
     "data": {
      "image/png": "[encoded data removed]",
      "text/plain": [
       "<Figure size 432x288 with 1 Axes>"
      ]
     },
     "metadata": {
      "needs_background": "light"
     },
     "output_type": "display_data"
    }
   ],
   "source": [
    "y = np.arange(3)\n",
    "years = [\"2018\", \"2019\", \"2020\"]\n",
    "values = [100, 400, 900]\n",
    "\n",
    "plt.barh(y, values) # 수평막대그래프 그리기\n",
    "plt.yticks(y, years)\n",
    "\n",
    "plt.show()"
   ]
  },
  {
   "cell_type": "code",
   "execution_count": 8,
   "metadata": {},
   "outputs": [
    {
     "data": {
      "image/png": "[encoded data removed]",
      "text/plain": [
       "<Figure size 432x288 with 1 Axes>"
      ]
     },
     "metadata": {
      "needs_background": "light"
     },
     "output_type": "display_data"
    }
   ],
   "source": [
    "y = np.arange(3)\n",
    "years = [\"2018\", \"2019\", \"2020\"]\n",
    "values = [100, 400, 900]\n",
    "\n",
    "plt.barh(y, values, color = \"y\")\n",
    "# plt.barh(y, values, color = \"dodgerblue\")\n",
    "# plt.barh(y, values, color = \"C2\")\n",
    "# plt.barh(y, values, color = \"#e35f62\")\n",
    "# 막대그래프 색상\n",
    "plt.yticks(y, years)\n",
    "\n",
    "plt.show()"
   ]
  },
  {
   "cell_type": "code",
   "execution_count": 10,
   "metadata": {},
   "outputs": [
    {
     "data": {
      "image/png": "[encoded data removed]",
      "text/plain": [
       "<Figure size 432x288 with 1 Axes>"
      ]
     },
     "metadata": {
      "needs_background": "light"
     },
     "output_type": "display_data"
    }
   ],
   "source": [
    "y = np.arange(3)\n",
    "years = [\"2018\", \"2019\", \"2020\"]\n",
    "values = [100, 400, 900]\n",
    "colors = [\"y\", \"dodgerblue\", \"C2\"]\n",
    "\n",
    "plt.barh(y, values, color = colors)\n",
    "plt.yticks(y, years)\n",
    "# 그래프 막대마다 색상 다르게 하기\n",
    "plt.show()"
   ]
  },
  {
   "cell_type": "code",
   "execution_count": 15,
   "metadata": {},
   "outputs": [
    {
     "data": {
      "image/png": "[encoded data removed]",
      "text/plain": [
       "<Figure size 432x288 with 1 Axes>"
      ]
     },
     "metadata": {
      "needs_background": "light"
     },
     "output_type": "display_data"
    }
   ],
   "source": [
    "y = np.arange(3)\n",
    "years = [\"2018\", \"2019\", \"2020\"]\n",
    "values = [100, 400, 900]\n",
    "\n",
    "plt.barh(y, values, height = 0.4)\n",
    "# plt.barh(y, values, height = 0.6)\n",
    "# plt.barh(y, values, height = 0.8)\n",
    "# plt.barh(y, values, height = 1.0)\n",
    "# 막대그래프 두께(높이) 지정하기\n",
    "plt.yticks(y, years)\n",
    "\n",
    "plt.show()"
   ]
  },
  {
   "cell_type": "code",
   "execution_count": 19,
   "metadata": {},
   "outputs": [
    {
     "data": {
      "image/png": "[encoded data removed]",
      "text/plain": [
       "<Figure size 432x288 with 1 Axes>"
      ]
     },
     "metadata": {
      "needs_background": "light"
     },
     "output_type": "display_data"
    }
   ],
   "source": [
    "y = np.arange(3)\n",
    "years = [\"2018\", \"2019\", \"2020\"]\n",
    "values = [100, 400, 900]\n",
    "\n",
    "plt.barh(y, values, align = \"edge\", edgecolor = \"y\",\n",
    "        linewidth = 5, tick_label = years)\n",
    "# 그래프 테두리 스타일 지정하기 \n",
    "plt.show()"
   ]
  }
 ],
 "metadata": {
  "kernelspec": {
   "display_name": "Python 3 (ipykernel)",
   "language": "python",
   "name": "python3"
  },
  "language_info": {
   "codemirror_mode": {
    "name": "ipython",
    "version": 3
   },
   "file_extension": ".py",
   "mimetype": "text/x-python",
   "name": "python",
   "nbconvert_exporter": "python",
   "pygments_lexer": "ipython3",
   "version": "3.9.12"
  }
 },
 "nbformat": 4,
 "nbformat_minor": 4
}
