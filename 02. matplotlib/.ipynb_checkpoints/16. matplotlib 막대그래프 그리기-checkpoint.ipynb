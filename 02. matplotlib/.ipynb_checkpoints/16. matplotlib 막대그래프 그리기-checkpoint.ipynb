{
 "cells": [
  {
   "cell_type": "code",
   "execution_count": 1,
   "metadata": {},
   "outputs": [],
   "source": [
    "import numpy as np\n",
    "import pandas as pd\n",
    "import matplotlib.pyplot as plt"
   ]
  },
  {
   "cell_type": "code",
   "execution_count": 5,
   "metadata": {},
   "outputs": [
    {
     "data": {
      "image/png": "[encoded data removed]",
      "text/plain": [
       "<Figure size 432x288 with 1 Axes>"
      ]
     },
     "metadata": {
      "needs_background": "light"
     },
     "output_type": "display_data"
    }
   ],
   "source": [
    "x = np.arange(3)\n",
    "years = [\"2018\", \"2019\", \"2020\"]\n",
    "values = [100, 400, 900]\n",
    "\n",
    "plt.bar(x, values) # value값을 막대그래프로 그리기\n",
    "plt.xticks(x, years) # x축 눈금 레이블 이름 설정\n",
    "\n",
    "plt.show()"
   ]
  },
  {
   "cell_type": "code",
   "execution_count": 10,
   "metadata": {},
   "outputs": [
    {
     "data": {
      "image/png": "[encoded data removed]",
      "text/plain": [
       "<Figure size 432x288 with 1 Axes>"
      ]
     },
     "metadata": {
      "needs_background": "light"
     },
     "output_type": "display_data"
    }
   ],
   "source": [
    "x = np.arange(3)\n",
    "years = [\"2018\", \"2019\", \"2020\"]\n",
    "values = [100, 400, 900]\n",
    "\n",
    "# plt.bar(x, values, color = \"y\")\n",
    "# plt.bar(x, values, color = \"dodgerblue\")\n",
    "# plt.bar(x, values, color = \"C2\")\n",
    "plt.bar(x, values, color = \"#e53f62\")\n",
    "# 막대그리프 색 일괄지정\n",
    "plt.xticks(x, years)\n",
    "\n",
    "plt.show()"
   ]
  },
  {
   "cell_type": "code",
   "execution_count": 16,
   "metadata": {},
   "outputs": [
    {
     "data": {
      "image/png": "[encoded data removed]",
      "text/plain": [
       "<Figure size 432x288 with 1 Axes>"
      ]
     },
     "metadata": {
      "needs_background": "light"
     },
     "output_type": "display_data"
    }
   ],
   "source": [
    "x = np.arange(3)\n",
    "years = [\"2018\", \"2019\", \"2020\"]\n",
    "values = [100, 400, 900]\n",
    "colors = [\"y\", \"dodgerblue\", \"C2\"]\n",
    "# 막대그래프마다 다른 색을 지정할때\n",
    "plt.bar(x, values, color = colors)\n",
    "plt.xticks(x, years)\n",
    "\n",
    "plt.show()"
   ]
  },
  {
   "cell_type": "code",
   "execution_count": 21,
   "metadata": {},
   "outputs": [
    {
     "data": {
      "image/png": "[encoded data removed]",
      "text/plain": [
       "<Figure size 432x288 with 1 Axes>"
      ]
     },
     "metadata": {
      "needs_background": "light"
     },
     "output_type": "display_data"
    }
   ],
   "source": [
    "x = np.arange(3)\n",
    "years = [\"2018\", \"2019\", \"2020\"]\n",
    "values = [100, 400, 900]\n",
    "\n",
    "plt.bar(x, values, width = 0.4)\n",
    "# plt.bar(x, values, width = 0.6)\n",
    "# plt.bar(x, values, width = 0.8)\n",
    "# plt.bar(x, values, width = 1.0)\n",
    "# 막대그래프의 폭 설정하기\n",
    "plt.xticks(x, years)\n",
    "\n",
    "plt.show()"
   ]
  },
  {
   "cell_type": "code",
   "execution_count": 22,
   "metadata": {},
   "outputs": [
    {
     "data": {
      "image/png": "[encoded data removed]",
      "text/plain": [
       "<Figure size 432x288 with 1 Axes>"
      ]
     },
     "metadata": {
      "needs_background": "light"
     },
     "output_type": "display_data"
    }
   ],
   "source": [
    "x = np.arange(3)\n",
    "years = [\"2018\", \"2019\", \"2020\"]\n",
    "values = [100, 400, 900]\n",
    "\n",
    "plt.bar(x, values, align = \"edge\", edgecolor = \"lightgray\",\n",
    "       linewidth = 5, tick_label = years)\n",
    "# 막대 그래프의 테두리 색 두께 스타일\n",
    "# align 은 눈금과 막대의 위치 조정 / edgecolor는 테두리 색 / linewidth는 테두리 두께 \n",
    "# tick_label은 리스트 어레이 형태로 지정하면 틱에 문자열을 순서로 나테낼 수 있음\n",
    "plt.show()"
   ]
  },
  {
   "cell_type": "code",
   "execution_count": null,
   "metadata": {},
   "outputs": [],
   "source": []
  }
 ],
 "metadata": {
  "kernelspec": {
   "display_name": "Python 3 (ipykernel)",
   "language": "python",
   "name": "python3"
  },
  "language_info": {
   "codemirror_mode": {
    "name": "ipython",
    "version": 3
   },
   "file_extension": ".py",
   "mimetype": "text/x-python",
   "name": "python",
   "nbconvert_exporter": "python",
   "pygments_lexer": "ipython3",
   "version": "3.9.12"
  }
 },
 "nbformat": 4,
 "nbformat_minor": 4
}
