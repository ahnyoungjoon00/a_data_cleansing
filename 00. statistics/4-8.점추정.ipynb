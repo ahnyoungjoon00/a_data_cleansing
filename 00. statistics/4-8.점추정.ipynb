{
 "cells": [
  {
   "cell_type": "code",
   "execution_count": 26,
   "id": "325eaa42-7c99-4c97-b970-62a4ce94ef32",
   "metadata": {},
   "outputs": [],
   "source": [
    "import numpy as np\n",
    "import pandas as pd\n",
    "import math\n",
    "import seaborn as sns\n",
    "\n",
    "import os\n",
    "import warnings\n",
    "warnings.simplefilter(action = \"ignore\", category = FutureWarning)\n",
    "\n",
    "from scipy import stats\n",
    "import matplotlib.pyplot as plt\n",
    "%matplotlib inline\n",
    "import os\n",
    "if os.name == \"nt\" :\n",
    "    font_family = \"Malgun Gothic\"\n",
    "else :\n",
    "    font_family = \"AppleGothic\"\n",
    "    \n",
    "sns.set(font = font_family, rc = {\"axes.unicode_minus\" : False})"
   ]
  },
  {
   "cell_type": "markdown",
   "id": "e79b41ab-7e42-4941-9497-64cf0e2e1dd2",
   "metadata": {},
   "source": [
    "## 데이터 생성"
   ]
  },
  {
   "cell_type": "code",
   "execution_count": 27,
   "id": "53f285e1-13e5-46e3-a1c9-320d4dc7a698",
   "metadata": {},
   "outputs": [],
   "source": [
    "np.random.seed(100)\n",
    "math_score = pd.DataFrame (np.random.randint(25, 101, size = 500), columns = [\"점수\"])"
   ]
  },
  {
   "cell_type": "markdown",
   "id": "592e6147-61d1-4847-9835-2a1fd32906cf",
   "metadata": {},
   "source": [
    "## 데이터 탐색"
   ]
  },
  {
   "cell_type": "code",
   "execution_count": 28,
   "id": "199cd4b0-2510-4c24-a008-885eae2bd64b",
   "metadata": {},
   "outputs": [
    {
     "data": {
      "text/html": [
       "<div>\n",
       "<style scoped>\n",
       "    .dataframe tbody tr th:only-of-type {\n",
       "        vertical-align: middle;\n",
       "    }\n",
       "\n",
       "    .dataframe tbody tr th {\n",
       "        vertical-align: top;\n",
       "    }\n",
       "\n",
       "    .dataframe thead th {\n",
       "        text-align: right;\n",
       "    }\n",
       "</style>\n",
       "<table border=\"1\" class=\"dataframe\">\n",
       "  <thead>\n",
       "    <tr style=\"text-align: right;\">\n",
       "      <th></th>\n",
       "      <th>점수</th>\n",
       "    </tr>\n",
       "  </thead>\n",
       "  <tbody>\n",
       "    <tr>\n",
       "      <th>count</th>\n",
       "      <td>500.000000</td>\n",
       "    </tr>\n",
       "    <tr>\n",
       "      <th>mean</th>\n",
       "      <td>61.580000</td>\n",
       "    </tr>\n",
       "    <tr>\n",
       "      <th>std</th>\n",
       "      <td>21.513374</td>\n",
       "    </tr>\n",
       "    <tr>\n",
       "      <th>min</th>\n",
       "      <td>25.000000</td>\n",
       "    </tr>\n",
       "    <tr>\n",
       "      <th>25%</th>\n",
       "      <td>42.000000</td>\n",
       "    </tr>\n",
       "    <tr>\n",
       "      <th>50%</th>\n",
       "      <td>62.500000</td>\n",
       "    </tr>\n",
       "    <tr>\n",
       "      <th>75%</th>\n",
       "      <td>79.000000</td>\n",
       "    </tr>\n",
       "    <tr>\n",
       "      <th>max</th>\n",
       "      <td>100.000000</td>\n",
       "    </tr>\n",
       "  </tbody>\n",
       "</table>\n",
       "</div>"
      ],
      "text/plain": [
       "               점수\n",
       "count  500.000000\n",
       "mean    61.580000\n",
       "std     21.513374\n",
       "min     25.000000\n",
       "25%     42.000000\n",
       "50%     62.500000\n",
       "75%     79.000000\n",
       "max    100.000000"
      ]
     },
     "execution_count": 28,
     "metadata": {},
     "output_type": "execute_result"
    }
   ],
   "source": [
    "math_score.describe()"
   ]
  },
  {
   "cell_type": "code",
   "execution_count": 29,
   "id": "98e45dcf-d65e-4c42-9a94-f49fcdeb237a",
   "metadata": {},
   "outputs": [
    {
     "data": {
      "text/plain": [
       "array([33, 49, 92, 73, 35])"
      ]
     },
     "execution_count": 29,
     "metadata": {},
     "output_type": "execute_result"
    }
   ],
   "source": [
    "scores = np.array(math_score[\"점수\"])\n",
    "scores[ :5]"
   ]
  },
  {
   "cell_type": "code",
   "execution_count": 30,
   "id": "885278ed-c41d-4a84-8989-c06c5ea46b28",
   "metadata": {},
   "outputs": [
    {
     "name": "stdout",
     "output_type": "stream",
     "text": [
      "[85 91 85 81 64 96 83 68 53 52 61 80 89 32 95 64 81 72 94 92]\n",
      "75.9\n",
      "282.29\n",
      "16.801488029338355\n"
     ]
    }
   ],
   "source": [
    "sample = np.random.choice(scores, 20)\n",
    "print(sample)\n",
    "print(sample.mean())\n",
    "print(sample.var())\n",
    "print(sample.std())"
   ]
  },
  {
   "cell_type": "code",
   "execution_count": 31,
   "id": "93fb2f5e-eae4-4924-8813-63e47afe8c65",
   "metadata": {},
   "outputs": [
    {
     "name": "stdout",
     "output_type": "stream",
     "text": [
      "1 표본평균 67.0\n",
      "2 표본평균 61.55\n",
      "3 표본평균 59.55\n",
      "4 표본평균 62.6\n",
      "5 표본평균 57.95\n",
      "6 표본평균 57.8\n",
      "7 표본평균 59.85\n",
      "8 표본평균 65.05\n",
      "9 표본평균 60.0\n",
      "10 표본평균 63.05\n"
     ]
    }
   ],
   "source": [
    "for i in range(10) :\n",
    "    sample1 = np.random.choice(scores, 20)\n",
    "    print(i +1, \"표본평균\", sample1.mean())"
   ]
  },
  {
   "cell_type": "code",
   "execution_count": 32,
   "id": "5e385e3f-7485-4f73-9a46-e941914a7226",
   "metadata": {},
   "outputs": [
    {
     "data": {
      "image/png": "[encoded data removed]",
      "text/plain": [
       "<Figure size 432x288 with 1 Axes>"
      ]
     },
     "metadata": {},
     "output_type": "display_data"
    }
   ],
   "source": [
    "plt.xlabel(\"score\")\n",
    "plt.ylabel(\"relative frequency\")\n",
    "plt.hist(scores, bins = 100, range = (0, 100), density = True)\n",
    "plt.xlim(20, 100)\n",
    "plt.show()"
   ]
  },
  {
   "cell_type": "code",
   "execution_count": 42,
   "id": "ce7a247e-de0c-4172-b8ea-306e9e6175f1",
   "metadata": {},
   "outputs": [
    {
     "data": {
      "image/png": "[encoded data removed]",
      "text/plain": [
       "<Figure size 432x288 with 1 Axes>"
      ]
     },
     "metadata": {},
     "output_type": "display_data"
    }
   ],
   "source": [
    "sample_score = np.random.choice(scores, 10000)\n",
    "plt.hist(sample_score, bins = 100, range = (0, 100), density = True)\n",
    "plt.xlim(20, 100)\n",
    "plt.show()"
   ]
  },
  {
   "cell_type": "markdown",
   "id": "7ef12245-f027-4f3a-b9dc-128e712eec5d",
   "metadata": {},
   "source": [
    "## 모평균 점 추정"
   ]
  },
  {
   "cell_type": "code",
   "execution_count": 43,
   "id": "d302540f-8cc9-41c3-9d4f-918a6ddbadec",
   "metadata": {},
   "outputs": [],
   "source": [
    "n = 20\n",
    "nSample = 100\n",
    "\n",
    "sample_mean = np.array([np.random.choice(scores, n, ).mean() for _ in range(nSample)])"
   ]
  },
  {
   "cell_type": "code",
   "execution_count": 46,
   "id": "6bf45013-2fd1-4009-8679-b3c7a643eb86",
   "metadata": {},
   "outputs": [
    {
     "data": {
      "text/plain": [
       "array([59.35, 54.  , 63.15, 60.5 , 54.3 , 60.75, 60.2 , 59.7 , 52.35,\n",
       "       58.95, 62.2 , 65.35, 57.25, 67.9 , 60.  , 57.5 , 59.55, 64.7 ,\n",
       "       61.3 , 63.95, 54.15, 57.65, 67.3 , 58.95, 60.  , 68.4 , 71.35,\n",
       "       65.3 , 56.5 , 60.05, 66.2 , 67.1 , 60.3 , 58.2 , 66.1 , 59.3 ,\n",
       "       64.  , 54.35, 61.  , 55.  , 63.4 , 62.1 , 58.8 , 70.25, 59.7 ,\n",
       "       66.05, 68.1 , 67.25, 56.7 , 64.7 , 61.4 , 60.85, 61.1 , 59.2 ,\n",
       "       59.4 , 66.75, 59.15, 71.  , 64.3 , 66.65, 66.25, 62.25, 60.1 ,\n",
       "       64.45, 64.25, 66.55, 62.9 , 64.8 , 68.3 , 56.65, 62.7 , 65.8 ,\n",
       "       60.15, 70.1 , 58.5 , 65.95, 64.2 , 56.9 , 63.4 , 59.2 , 67.8 ,\n",
       "       64.2 , 62.5 , 71.45, 67.15, 62.75, 59.5 , 59.3 , 59.95, 56.05,\n",
       "       54.  , 67.1 , 59.15, 63.8 , 66.9 , 59.7 , 53.45, 67.75, 63.95,\n",
       "       57.8 ])"
      ]
     },
     "execution_count": 46,
     "metadata": {},
     "output_type": "execute_result"
    }
   ],
   "source": [
    "sample_mean"
   ]
  },
  {
   "cell_type": "code",
   "execution_count": 47,
   "id": "bf3dbf21-b150-4585-97ad-45dab9d633c0",
   "metadata": {},
   "outputs": [
    {
     "name": "stdout",
     "output_type": "stream",
     "text": [
      "모평균 : 61.58\n",
      "표본평균의 평균 : 62.08650000000001\n",
      "모분산/n : 23.09498\n",
      "표본평균의 분산 : 19.56269275\n",
      "표본평균의 표준편차 : 4.42297329293316\n",
      "표준오차 : 4.805723670790903\n"
     ]
    }
   ],
   "source": [
    "print(\"모평균 :\", scores.mean())\n",
    "\n",
    "print(\"표본평균의 평균 :\", sample_mean.mean())\n",
    "print(\"모분산/n :\", scores.var()/n)\n",
    "print(\"표본평균의 분산 :\", sample_mean.var())\n",
    "print(\"표본평균의 표준편차 :\", sample_mean.std())\n",
    "print(\"표준오차 :\", scores.std()/math.sqrt(n))"
   ]
  },
  {
   "cell_type": "code",
   "execution_count": null,
   "id": "0aac2426-dddd-4ab4-bcf5-b5d6b321a40a",
   "metadata": {},
   "outputs": [],
   "source": []
  }
 ],
 "metadata": {
  "kernelspec": {
   "display_name": "Python 3 (ipykernel)",
   "language": "python",
   "name": "python3"
  },
  "language_info": {
   "codemirror_mode": {
    "name": "ipython",
    "version": 3
   },
   "file_extension": ".py",
   "mimetype": "text/x-python",
   "name": "python",
   "nbconvert_exporter": "python",
   "pygments_lexer": "ipython3",
   "version": "3.9.12"
  }
 },
 "nbformat": 4,
 "nbformat_minor": 5
}
