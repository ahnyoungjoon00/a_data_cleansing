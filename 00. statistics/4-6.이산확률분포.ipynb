{
 "cells": [
  {
   "cell_type": "code",
   "execution_count": 1,
   "id": "96c393fc-e37c-43de-a0c5-79de68e48461",
   "metadata": {},
   "outputs": [],
   "source": [
    "import os\n",
    "import warnings\n",
    "warnings.simplefilter(action = \"ignore\", category = FutureWarning)\n",
    "\n",
    "import pandas as pd\n",
    "import numpy as np\n",
    "from scipy import stats\n",
    "\n",
    "import matplotlib.pyplot as plt\n",
    "import seaborn as sns\n",
    "%matplotlib inline\n",
    "\n",
    "import os\n",
    "if os.name == \"nt\" :\n",
    "    font_family = \"Malgun Gothic\"\n",
    "else :\n",
    "    font_family = \"AppleGothic\"\n",
    "    \n",
    "sns.set(font = font_family, rc = {\"axes.unicode_minus\" : False})"
   ]
  },
  {
   "cell_type": "markdown",
   "id": "6510536a-f372-4fce-9e07-7a84a731e0d6",
   "metadata": {},
   "source": [
    "## 베르누이분포"
   ]
  },
  {
   "cell_type": "code",
   "execution_count": 2,
   "id": "a9fb0257-9cf4-4d3b-b791-b6816ddc9c36",
   "metadata": {},
   "outputs": [],
   "source": [
    "mu = 0.7\n",
    "bern = stats.bernoulli(mu)"
   ]
  },
  {
   "cell_type": "code",
   "execution_count": 3,
   "id": "6cdf5606-e6f3-4473-82dd-d5c08b5a1ebc",
   "metadata": {},
   "outputs": [],
   "source": [
    "b_x = [0, 1]\n",
    "bern_pmf = bern.pmf(b_x)"
   ]
  },
  {
   "cell_type": "code",
   "execution_count": 5,
   "id": "f4ce0a6e-2d2a-4546-a37c-84a0ec4bda99",
   "metadata": {},
   "outputs": [
    {
     "data": {
      "image/png": "[encoded data removed]",
      "text/plain": [
       "<Figure size 432x288 with 1 Axes>"
      ]
     },
     "metadata": {},
     "output_type": "display_data"
    }
   ],
   "source": [
    "plt.bar(b_x, bern_pmf)\n",
    "plt.xlim(-1, 2)\n",
    "plt.ylim(0, 1)\n",
    "plt.xticks([0, 1], [\"x = 0\", \"x = 1\"])\n",
    "plt.xlabel(\"표본값\")\n",
    "plt.ylabel(\"P(x)\")\n",
    "plt.title(\"베르누이 확률변수의 확률질량함수\")\n",
    "plt.show()"
   ]
  },
  {
   "cell_type": "code",
   "execution_count": 8,
   "id": "ce9c9361-39c0-4593-94ed-e9ecddeed29e",
   "metadata": {},
   "outputs": [
    {
     "data": {
      "text/plain": [
       "array([1, 0, 1, 1, 1, 1, 1, 0, 0, 1, 0, 1, 1, 0, 1, 1, 1, 0, 0, 0, 0, 0,\n",
       "       1, 0, 1, 1, 1, 0, 1, 1, 1, 0, 1, 1, 1, 1, 1, 1, 0, 1, 1, 1, 1, 1,\n",
       "       1, 1, 1, 1, 1, 1, 1, 1, 0, 1, 1, 1, 1, 1, 1, 1, 1, 1, 1, 1, 1, 1,\n",
       "       0, 1, 0, 1, 0, 1, 0, 1, 0, 1, 1, 1, 1, 1, 1, 1, 1, 1, 1, 1, 1, 1,\n",
       "       1, 0, 1, 1, 1, 0, 1, 1, 1, 1, 0, 1])"
      ]
     },
     "execution_count": 8,
     "metadata": {},
     "output_type": "execute_result"
    }
   ],
   "source": [
    "x_sample_bern = bern.rvs(100, random_state = 0)\n",
    "x_sample_bern"
   ]
  },
  {
   "cell_type": "code",
   "execution_count": 10,
   "id": "0c361ac6-d584-4493-9a95-5390cf2a02e5",
   "metadata": {},
   "outputs": [
    {
     "data": {
      "text/plain": [
       "100"
      ]
     },
     "execution_count": 10,
     "metadata": {},
     "output_type": "execute_result"
    }
   ],
   "source": [
    "type(x_sample_bern)\n",
    "len(x_sample_bern)"
   ]
  },
  {
   "cell_type": "code",
   "execution_count": 14,
   "id": "75fc06f8-a7a2-4098-be67-1da0bcfe920c",
   "metadata": {},
   "outputs": [
    {
     "data": {
      "text/html": [
       "<div>\n",
       "<style scoped>\n",
       "    .dataframe tbody tr th:only-of-type {\n",
       "        vertical-align: middle;\n",
       "    }\n",
       "\n",
       "    .dataframe tbody tr th {\n",
       "        vertical-align: top;\n",
       "    }\n",
       "\n",
       "    .dataframe thead th {\n",
       "        text-align: right;\n",
       "    }\n",
       "</style>\n",
       "<table border=\"1\" class=\"dataframe\">\n",
       "  <thead>\n",
       "    <tr style=\"text-align: right;\">\n",
       "      <th></th>\n",
       "      <th>결과</th>\n",
       "      <th>검증(시뮬레이션)</th>\n",
       "    </tr>\n",
       "  </thead>\n",
       "  <tbody>\n",
       "    <tr>\n",
       "      <th>0</th>\n",
       "      <td>0.3</td>\n",
       "      <td>0.23</td>\n",
       "    </tr>\n",
       "    <tr>\n",
       "      <th>1</th>\n",
       "      <td>0.7</td>\n",
       "      <td>0.77</td>\n",
       "    </tr>\n",
       "  </tbody>\n",
       "</table>\n",
       "</div>"
      ],
      "text/plain": [
       "    결과  검증(시뮬레이션)\n",
       "0  0.3       0.23\n",
       "1  0.7       0.77"
      ]
     },
     "execution_count": 14,
     "metadata": {},
     "output_type": "execute_result"
    }
   ],
   "source": [
    "y_bern = np.bincount(x_sample_bern, minlength = 2) / float(len(x_sample_bern))\n",
    "\n",
    "df_bern = pd.DataFrame({\"결과\" : bern_pmf, \"검증(시뮬레이션)\" : y_bern})\n",
    "df_bern.index = [0, 1]\n",
    "df_bern"
   ]
  },
  {
   "cell_type": "markdown",
   "id": "0b36ffc4-f5f5-4914-8470-dde28dc81537",
   "metadata": {},
   "source": [
    "## 이항분포"
   ]
  },
  {
   "cell_type": "code",
   "execution_count": 15,
   "id": "f41978c5-cfaa-48a5-87d3-20afe3311aba",
   "metadata": {},
   "outputs": [
    {
     "name": "stdout",
     "output_type": "stream",
     "text": [
      "k = 3, n = 15, p = 0.3의 PMF : 0.17004021326428484\n",
      "k = 0~4, n = 15, p = 0.3의 PMF : 0.5154910592268434\n"
     ]
    }
   ],
   "source": [
    "print(\"k = 3, n = 15, p = 0.3의 PMF :\" ,stats.binom.pmf(3, n = 15, p = 0.3))\n",
    "\n",
    "print(\"k = 0~4, n = 15, p = 0.3의 PMF :\" ,stats.binom.cdf(4, n = 15, p = 0.3))"
   ]
  },
  {
   "cell_type": "code",
   "execution_count": 16,
   "id": "ee396f7d-d31a-48d0-8d60-ae9a78a1b044",
   "metadata": {},
   "outputs": [],
   "source": [
    "def bion_dist(k, n, p) :\n",
    "    pmf_bion = stats.binom.pmf(k, n = n, p = p)\n",
    "    return pmf_bion"
   ]
  },
  {
   "cell_type": "code",
   "execution_count": 20,
   "id": "830352fe-bef9-4623-b872-941b22fc9ab4",
   "metadata": {},
   "outputs": [
    {
     "data": {
      "image/png": "[encoded data removed]",
      "text/plain": [
       "<Figure size 432x288 with 1 Axes>"
      ]
     },
     "metadata": {},
     "output_type": "display_data"
    }
   ],
   "source": [
    "x = np.arange(0, 16)\n",
    "pdf_result = [bion_dist(k, 15, 0.3) for k in range(0, 16)]\n",
    "\n",
    "plt.title(\"확률질량함수\")\n",
    "plt.ylim(0, 0.3)\n",
    "plt.text(12.5, 0.28, \"n, p =15, 0.3\")\n",
    "plt.bar(x, pdf_result, color = \"red\")\n",
    "plt.show()"
   ]
  },
  {
   "cell_type": "markdown",
   "id": "079bc7d3-9f0e-4b1d-ab9a-c1fc3b9cba7e",
   "metadata": {},
   "source": [
    "##  포아송분포"
   ]
  },
  {
   "cell_type": "code",
   "execution_count": 26,
   "id": "22ce31fb-9df8-4d8a-bc38-6a7738d938ea",
   "metadata": {},
   "outputs": [
    {
     "data": {
      "text/plain": [
       "0.18044704431548356"
      ]
     },
     "execution_count": 26,
     "metadata": {},
     "output_type": "execute_result"
    }
   ],
   "source": [
    "stats.poisson.pmf(3, 2, loc = 0)"
   ]
  },
  {
   "cell_type": "code",
   "execution_count": 27,
   "id": "a06aba88-bd73-4734-8499-ee4b02dc4d06",
   "metadata": {},
   "outputs": [],
   "source": [
    "def pois_dist(n, lamb) :\n",
    "    pmf_poi = stats.poisson.pmf(n, lamb, loc = 0)\n",
    "    return pmf_poi"
   ]
  },
  {
   "cell_type": "code",
   "execution_count": 28,
   "id": "09dd1f46-bd80-4297-a785-d7103163cdb9",
   "metadata": {},
   "outputs": [],
   "source": [
    "x = np.arange(0, 41)\n",
    "poi_pdf_result = [pois_dist(n, 10) for n in range(0, 41)]"
   ]
  },
  {
   "cell_type": "code",
   "execution_count": 31,
   "id": "20ded05a-1e90-4e67-8c4f-f6cdd23f5950",
   "metadata": {},
   "outputs": [
    {
     "data": {
      "image/png": "[encoded data removed]",
      "text/plain": [
       "<Figure size 432x288 with 1 Axes>"
      ]
     },
     "metadata": {},
     "output_type": "display_data"
    }
   ],
   "source": [
    "plt.ylim(0, 0.15)\n",
    "plt.text(33.5, 0.14, \"람다 = 10\" )\n",
    "plt.bar(x, poi_pdf_result, color = \"skyblue\")\n",
    "plt.show()"
   ]
  },
  {
   "cell_type": "code",
   "execution_count": 32,
   "id": "ef20dce4-0e3c-49e4-b21a-406e40e1b7f0",
   "metadata": {},
   "outputs": [
    {
     "data": {
      "image/png": "[encoded data removed]",
      "text/plain": [
       "<Figure size 720x720 with 3 Axes>"
      ]
     },
     "metadata": {},
     "output_type": "display_data"
    }
   ],
   "source": [
    "x = np.arange(0, 41)\n",
    "\n",
    "fig = plt.figure(figsize = (10, 10))\n",
    "\n",
    "fig.add_subplot(3, 1, 1)\n",
    "pmf_poin1 = np.array([pois_dist(n ,10) for n in range(0, 41)])\n",
    "plt.ylim(0, 0.15)\n",
    "plt.text(33.5, 0.12, \"람다 = 10\")\n",
    "plt.bar(x, pmf_poin1, color = \"lightcoral\")\n",
    "\n",
    "fig.add_subplot(3, 1, 2)\n",
    "pmf_poin2 = np.array([pois_dist(n, 15) for n in range(0, 41)])\n",
    "plt.ylim(0, 0.15)\n",
    "plt.text(33.5, 0.12, \"람다 = 15\")\n",
    "plt.bar(x, pmf_poin2, color = \"mediumaquamarine\")\n",
    "\n",
    "fig.add_subplot(3, 1, 3)\n",
    "pmf_poin3 = np.array([pois_dist(n, 20) for n in range(0, 41)])\n",
    "plt.ylim(0, 0.15)\n",
    "plt.text(33.5, 0.12, \"람다 = 20\")\n",
    "plt.bar(x, pmf_poin3, color = \"royalblue\")\n",
    "\n",
    "plt.show()"
   ]
  },
  {
   "cell_type": "code",
   "execution_count": null,
   "id": "359e28ee-4a8f-4f0b-ab08-0d2c9c2ddec9",
   "metadata": {},
   "outputs": [],
   "source": []
  }
 ],
 "metadata": {
  "kernelspec": {
   "display_name": "Python 3 (ipykernel)",
   "language": "python",
   "name": "python3"
  },
  "language_info": {
   "codemirror_mode": {
    "name": "ipython",
    "version": 3
   },
   "file_extension": ".py",
   "mimetype": "text/x-python",
   "name": "python",
   "nbconvert_exporter": "python",
   "pygments_lexer": "ipython3",
   "version": "3.9.12"
  }
 },
 "nbformat": 4,
 "nbformat_minor": 5
}
