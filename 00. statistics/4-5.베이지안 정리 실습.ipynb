{
 "cells": [
  {
   "cell_type": "code",
   "execution_count": 1,
   "id": "cdf35306-2921-4371-8108-98da39eae281",
   "metadata": {},
   "outputs": [],
   "source": [
    "import pandas as pd\n",
    "import numpy as np"
   ]
  },
  {
   "cell_type": "code",
   "execution_count": 2,
   "id": "54d9b26c-b835-4757-bb81-b029f9558857",
   "metadata": {},
   "outputs": [
    {
     "data": {
      "text/html": [
       "<div>\n",
       "<style scoped>\n",
       "    .dataframe tbody tr th:only-of-type {\n",
       "        vertical-align: middle;\n",
       "    }\n",
       "\n",
       "    .dataframe tbody tr th {\n",
       "        vertical-align: top;\n",
       "    }\n",
       "\n",
       "    .dataframe thead th {\n",
       "        text-align: right;\n",
       "    }\n",
       "</style>\n",
       "<table border=\"1\" class=\"dataframe\">\n",
       "  <thead>\n",
       "    <tr style=\"text-align: right;\">\n",
       "      <th></th>\n",
       "      <th>나이그룹</th>\n",
       "      <th>흡연여부</th>\n",
       "    </tr>\n",
       "  </thead>\n",
       "  <tbody>\n",
       "    <tr>\n",
       "      <th>0</th>\n",
       "      <td>10</td>\n",
       "      <td>유</td>\n",
       "    </tr>\n",
       "    <tr>\n",
       "      <th>1</th>\n",
       "      <td>10</td>\n",
       "      <td>유</td>\n",
       "    </tr>\n",
       "    <tr>\n",
       "      <th>2</th>\n",
       "      <td>10</td>\n",
       "      <td>무</td>\n",
       "    </tr>\n",
       "    <tr>\n",
       "      <th>3</th>\n",
       "      <td>10</td>\n",
       "      <td>무</td>\n",
       "    </tr>\n",
       "    <tr>\n",
       "      <th>4</th>\n",
       "      <td>10</td>\n",
       "      <td>무</td>\n",
       "    </tr>\n",
       "    <tr>\n",
       "      <th>5</th>\n",
       "      <td>10</td>\n",
       "      <td>무</td>\n",
       "    </tr>\n",
       "    <tr>\n",
       "      <th>6</th>\n",
       "      <td>10</td>\n",
       "      <td>무</td>\n",
       "    </tr>\n",
       "    <tr>\n",
       "      <th>7</th>\n",
       "      <td>10</td>\n",
       "      <td>무</td>\n",
       "    </tr>\n",
       "    <tr>\n",
       "      <th>8</th>\n",
       "      <td>10</td>\n",
       "      <td>무</td>\n",
       "    </tr>\n",
       "    <tr>\n",
       "      <th>9</th>\n",
       "      <td>10</td>\n",
       "      <td>무</td>\n",
       "    </tr>\n",
       "    <tr>\n",
       "      <th>10</th>\n",
       "      <td>20</td>\n",
       "      <td>유</td>\n",
       "    </tr>\n",
       "    <tr>\n",
       "      <th>11</th>\n",
       "      <td>20</td>\n",
       "      <td>유</td>\n",
       "    </tr>\n",
       "    <tr>\n",
       "      <th>12</th>\n",
       "      <td>20</td>\n",
       "      <td>유</td>\n",
       "    </tr>\n",
       "    <tr>\n",
       "      <th>13</th>\n",
       "      <td>20</td>\n",
       "      <td>유</td>\n",
       "    </tr>\n",
       "    <tr>\n",
       "      <th>14</th>\n",
       "      <td>20</td>\n",
       "      <td>유</td>\n",
       "    </tr>\n",
       "    <tr>\n",
       "      <th>15</th>\n",
       "      <td>20</td>\n",
       "      <td>무</td>\n",
       "    </tr>\n",
       "    <tr>\n",
       "      <th>16</th>\n",
       "      <td>20</td>\n",
       "      <td>무</td>\n",
       "    </tr>\n",
       "    <tr>\n",
       "      <th>17</th>\n",
       "      <td>20</td>\n",
       "      <td>무</td>\n",
       "    </tr>\n",
       "    <tr>\n",
       "      <th>18</th>\n",
       "      <td>20</td>\n",
       "      <td>무</td>\n",
       "    </tr>\n",
       "    <tr>\n",
       "      <th>19</th>\n",
       "      <td>20</td>\n",
       "      <td>무</td>\n",
       "    </tr>\n",
       "    <tr>\n",
       "      <th>20</th>\n",
       "      <td>30</td>\n",
       "      <td>유</td>\n",
       "    </tr>\n",
       "    <tr>\n",
       "      <th>21</th>\n",
       "      <td>30</td>\n",
       "      <td>유</td>\n",
       "    </tr>\n",
       "    <tr>\n",
       "      <th>22</th>\n",
       "      <td>30</td>\n",
       "      <td>유</td>\n",
       "    </tr>\n",
       "    <tr>\n",
       "      <th>23</th>\n",
       "      <td>30</td>\n",
       "      <td>유</td>\n",
       "    </tr>\n",
       "    <tr>\n",
       "      <th>24</th>\n",
       "      <td>30</td>\n",
       "      <td>유</td>\n",
       "    </tr>\n",
       "    <tr>\n",
       "      <th>25</th>\n",
       "      <td>30</td>\n",
       "      <td>유</td>\n",
       "    </tr>\n",
       "    <tr>\n",
       "      <th>26</th>\n",
       "      <td>30</td>\n",
       "      <td>유</td>\n",
       "    </tr>\n",
       "    <tr>\n",
       "      <th>27</th>\n",
       "      <td>30</td>\n",
       "      <td>무</td>\n",
       "    </tr>\n",
       "    <tr>\n",
       "      <th>28</th>\n",
       "      <td>30</td>\n",
       "      <td>무</td>\n",
       "    </tr>\n",
       "    <tr>\n",
       "      <th>29</th>\n",
       "      <td>30</td>\n",
       "      <td>무</td>\n",
       "    </tr>\n",
       "  </tbody>\n",
       "</table>\n",
       "</div>"
      ],
      "text/plain": [
       "    나이그룹 흡연여부\n",
       "0     10    유\n",
       "1     10    유\n",
       "2     10    무\n",
       "3     10    무\n",
       "4     10    무\n",
       "5     10    무\n",
       "6     10    무\n",
       "7     10    무\n",
       "8     10    무\n",
       "9     10    무\n",
       "10    20    유\n",
       "11    20    유\n",
       "12    20    유\n",
       "13    20    유\n",
       "14    20    유\n",
       "15    20    무\n",
       "16    20    무\n",
       "17    20    무\n",
       "18    20    무\n",
       "19    20    무\n",
       "20    30    유\n",
       "21    30    유\n",
       "22    30    유\n",
       "23    30    유\n",
       "24    30    유\n",
       "25    30    유\n",
       "26    30    유\n",
       "27    30    무\n",
       "28    30    무\n",
       "29    30    무"
      ]
     },
     "execution_count": 2,
     "metadata": {},
     "output_type": "execute_result"
    }
   ],
   "source": [
    "smoke_data = pd.DataFrame(\n",
    "    {\"나이그룹\" : [10, 10, 10, 10, 10, 10, 10, 10, 10, 10,\n",
    "               20, 20, 20, 20, 20, 20, 20, 20, 20, 20,\n",
    "               30, 30, 30, 30, 30, 30, 30, 30, 30, 30],\n",
    "     \"흡연여부\" : [\"유\", \"유\", \"무\", \"무\", \"무\", \"무\", \"무\", \"무\", \"무\", \"무\",\n",
    "               \"유\", \"유\", \"유\", \"유\", \"유\", \"무\", \"무\", \"무\", \"무\", \"무\",\n",
    "               \"유\", \"유\", \"유\", \"유\", \"유\", \"유\", \"유\", \"무\", \"무\", \"무\"]\n",
    "    }\n",
    ")\n",
    "smoke_data"
   ]
  },
  {
   "cell_type": "code",
   "execution_count": 3,
   "id": "afd67298-252a-4b26-ab5a-d5de633859fd",
   "metadata": {},
   "outputs": [
    {
     "data": {
      "text/html": [
       "<div>\n",
       "<style scoped>\n",
       "    .dataframe tbody tr th:only-of-type {\n",
       "        vertical-align: middle;\n",
       "    }\n",
       "\n",
       "    .dataframe tbody tr th {\n",
       "        vertical-align: top;\n",
       "    }\n",
       "\n",
       "    .dataframe thead th {\n",
       "        text-align: right;\n",
       "    }\n",
       "</style>\n",
       "<table border=\"1\" class=\"dataframe\">\n",
       "  <thead>\n",
       "    <tr style=\"text-align: right;\">\n",
       "      <th>흡연여부</th>\n",
       "      <th>무</th>\n",
       "      <th>유</th>\n",
       "    </tr>\n",
       "    <tr>\n",
       "      <th>나이그룹</th>\n",
       "      <th></th>\n",
       "      <th></th>\n",
       "    </tr>\n",
       "  </thead>\n",
       "  <tbody>\n",
       "    <tr>\n",
       "      <th>10</th>\n",
       "      <td>8</td>\n",
       "      <td>2</td>\n",
       "    </tr>\n",
       "    <tr>\n",
       "      <th>20</th>\n",
       "      <td>5</td>\n",
       "      <td>5</td>\n",
       "    </tr>\n",
       "    <tr>\n",
       "      <th>30</th>\n",
       "      <td>3</td>\n",
       "      <td>7</td>\n",
       "    </tr>\n",
       "  </tbody>\n",
       "</table>\n",
       "</div>"
      ],
      "text/plain": [
       "흡연여부  무  유\n",
       "나이그룹      \n",
       "10    8  2\n",
       "20    5  5\n",
       "30    3  7"
      ]
     },
     "execution_count": 3,
     "metadata": {},
     "output_type": "execute_result"
    }
   ],
   "source": [
    "data_crosstab = pd.crosstab(smoke_data[\"나이그룹\"],\n",
    "                            smoke_data[\"흡연여부\"], margins = False)\n",
    "data_crosstab"
   ]
  },
  {
   "cell_type": "code",
   "execution_count": 4,
   "id": "3e01e723-4747-42f7-ba6d-6ead78f119b1",
   "metadata": {},
   "outputs": [
    {
     "name": "stdout",
     "output_type": "stream",
     "text": [
      "10대 확률 : 0.3333333333333333\n",
      "20대 확률 : 0.3333333333333333\n",
      "30대 확률 : 0.3333333333333333\n",
      "전체 흡연 확률 : 0.4666666666666667\n",
      "전체 비흡연 확률 : 0.5333333333333333\n"
     ]
    }
   ],
   "source": [
    "p_10 = data_crosstab.loc[10].sum() / data_crosstab.values.sum()\n",
    "print(\"10대 확률 :\", p_10)\n",
    "p_20 = data_crosstab.loc[20].sum() / data_crosstab.values.sum()\n",
    "print(\"20대 확률 :\", p_20)\n",
    "p_30 = data_crosstab.loc[30].sum() / data_crosstab.values.sum()\n",
    "print(\"30대 확률 :\", p_30)\n",
    "\n",
    "p_smok = data_crosstab[\"유\"].sum() / data_crosstab.values.sum()\n",
    "print(\"전체 흡연 확률 :\", p_smok)\n",
    "p_smok_non = data_crosstab[\"무\"].sum() / data_crosstab.values.sum()\n",
    "print(\"전체 비흡연 확률 :\", p_smok_non)"
   ]
  },
  {
   "cell_type": "code",
   "execution_count": 8,
   "id": "a99dd66a-d6ab-4336-b1d8-bf0c6096ab1e",
   "metadata": {},
   "outputs": [
    {
     "name": "stdout",
     "output_type": "stream",
     "text": [
      "P(흡연|10대) : 0.2\n",
      "P(흡연|20대) : 0.5\n",
      "P(흡연|30대) : 0.7\n"
     ]
    }
   ],
   "source": [
    "p_smok_given_10 = data_crosstab.loc[10][\"유\"] / data_crosstab.loc[10].sum()\n",
    "print(\"P(흡연|10대) :\", p_smok_given_10 )\n",
    "\n",
    "p_smok_given_20 = data_crosstab.loc[20][\"유\"] / data_crosstab.loc[20].sum()\n",
    "print(\"P(흡연|20대) :\", p_smok_given_20 )\n",
    "\n",
    "p_smok_given_30 = data_crosstab.loc[30][\"유\"] / data_crosstab.loc[30].sum()\n",
    "print(\"P(흡연|30대) :\", p_smok_given_30 )"
   ]
  },
  {
   "cell_type": "code",
   "execution_count": 11,
   "id": "f52c351f-7b29-4d4c-a55b-9b642a7fac64",
   "metadata": {},
   "outputs": [
    {
     "name": "stdout",
     "output_type": "stream",
     "text": [
      "전확률 : 0.4666666666666667\n",
      "P(30대) *P(흡연|30대) : 0.2333333333333333\n",
      "담배피는 사람일 때 30대일 확률 : 0.5\n"
     ]
    }
   ],
   "source": [
    "total_p = (p_10 * p_smok_given_10) + (p_20 * p_smok_given_20) + (p_30 * p_smok_given_30)\n",
    "print(\"전확률 :\", total_p)\n",
    "\n",
    "p_30_smoke_given_30 = (p_30 * p_smok_given_30)\n",
    "print(\"P(30대) *P(흡연|30대) :\", p_30_smoke_given_30)\n",
    "\n",
    "p_30_given_smok = p_30_smoke_given_30 / total_p\n",
    "print(\"담배피는 사람일 때 30대일 확률 : {}\".format(round(p_30_given_smok, 3)))"
   ]
  },
  {
   "cell_type": "code",
   "execution_count": 12,
   "id": "d78c4424-7390-4fae-a4bc-c7fec1f31ca9",
   "metadata": {},
   "outputs": [],
   "source": [
    "from sklearn.datasets import load_iris\n",
    "from sklearn.model_selection import train_test_split\n",
    "from sklearn.naive_bayes import GaussianNB"
   ]
  },
  {
   "cell_type": "code",
   "execution_count": 28,
   "id": "931ec361-8485-41ff-b32d-b8c237c4f2e8",
   "metadata": {},
   "outputs": [
    {
     "name": "stdout",
     "output_type": "stream",
     "text": [
      "[2 1 0 2 0 2 0 1 1 1 1 1 1 1 1 0 1 1 0 0 2 1 0 0 2 0 0 1 1 0 2 1 0 2 2 1 0\n",
      " 1 1 1 2 0 2 0 0 1 2 2 1 2 1 2 1 1 2 1 1 2 1 2 1 0 2 1 1 1 1 2 0 0 2 1 0 0\n",
      " 1]\n"
     ]
    }
   ],
   "source": [
    "X, y = load_iris(return_X_y = True)\n",
    "X_train, X_test, y_train, y_test = train_test_split(X, y, test_size = 0.5, random_state = 0)\n",
    "nb = GaussianNB()\n",
    "y_pred = nb.fit(X_train, y_train).predict(X_test)\n",
    "print(y_pred)"
   ]
  },
  {
   "cell_type": "code",
   "execution_count": 31,
   "id": "ba200401-5117-49bf-bc51-d374e948179c",
   "metadata": {},
   "outputs": [
    {
     "name": "stdout",
     "output_type": "stream",
     "text": [
      "Number of mislabeled points out of a total 75 proints : 4\n"
     ]
    }
   ],
   "source": [
    "print(\"Number of mislabeled points out of a total %d proints : %d\" % (X_test.shape[0], (y_test != Y_pred).sum()))"
   ]
  }
 ],
 "metadata": {
  "kernelspec": {
   "display_name": "Python 3 (ipykernel)",
   "language": "python",
   "name": "python3"
  },
  "language_info": {
   "codemirror_mode": {
    "name": "ipython",
    "version": 3
   },
   "file_extension": ".py",
   "mimetype": "text/x-python",
   "name": "python",
   "nbconvert_exporter": "python",
   "pygments_lexer": "ipython3",
   "version": "3.9.12"
  }
 },
 "nbformat": 4,
 "nbformat_minor": 5
}
