{
 "cells": [
  {
   "cell_type": "code",
   "execution_count": 1,
   "id": "e8dc1788-5177-415f-809f-adb006fc0ac5",
   "metadata": {},
   "outputs": [],
   "source": [
    "from openpyxl import load_workbook"
   ]
  },
  {
   "cell_type": "code",
   "execution_count": 2,
   "id": "fa609454-d92d-4284-8d81-15e746e43dda",
   "metadata": {},
   "outputs": [],
   "source": [
    "wb = load_workbook(\"sample.xlsx\")"
   ]
  },
  {
   "cell_type": "code",
   "execution_count": 3,
   "id": "ae4096d3-39d0-4509-bde7-6a90a9b7b41d",
   "metadata": {},
   "outputs": [],
   "source": [
    "ws = wb.active"
   ]
  },
  {
   "cell_type": "code",
   "execution_count": 8,
   "id": "86654a90-8bf0-4540-b9a1-c7fb1cbc7c5e",
   "metadata": {},
   "outputs": [
    {
     "name": "stdout",
     "output_type": "stream",
     "text": [
      "1 2 3 4 5 6 7 8 9 10 \n",
      "11 12 13 14 15 16 17 18 19 20 \n",
      "21 22 23 24 25 26 27 28 29 30 \n",
      "31 32 33 34 35 36 37 38 39 40 \n",
      "41 42 43 44 45 46 47 48 49 50 \n",
      "51 52 53 54 55 56 57 58 59 60 \n",
      "61 62 63 64 65 66 67 68 69 70 \n",
      "71 72 73 74 75 76 77 78 79 80 \n",
      "81 82 83 84 85 86 87 88 89 90 \n",
      "91 92 93 94 95 96 97 98 99 100 \n"
     ]
    }
   ],
   "source": [
    "for x in range(1, 11) :\n",
    "    for y in range(1, 11) :\n",
    "        print(ws.cell(row = x, column = y).value, end = \" \")\n",
    "    print()\n",
    "    #셀 개수를 알 때"
   ]
  },
  {
   "cell_type": "code",
   "execution_count": 9,
   "id": "9bed6a67-e64c-4367-9a91-f8e79c04873f",
   "metadata": {},
   "outputs": [
    {
     "name": "stdout",
     "output_type": "stream",
     "text": [
      "1 2 3 4 5 6 7 8 9 10 \n",
      "11 12 13 14 15 16 17 18 19 20 \n",
      "21 22 23 24 25 26 27 28 29 30 \n",
      "31 32 33 34 35 36 37 38 39 40 \n",
      "41 42 43 44 45 46 47 48 49 50 \n",
      "51 52 53 54 55 56 57 58 59 60 \n",
      "61 62 63 64 65 66 67 68 69 70 \n",
      "71 72 73 74 75 76 77 78 79 80 \n",
      "81 82 83 84 85 86 87 88 89 90 \n",
      "91 92 93 94 95 96 97 98 99 100 \n"
     ]
    }
   ],
   "source": [
    "for x in range(1, ws.max_row + 1) :\n",
    "    for y in range(1, ws.max_column + 1) :\n",
    "        print(ws.cell(row = x, column = y).value, end = \" \")\n",
    "    print()\n",
    "    # 셀 개수를 모를 때"
   ]
  },
  {
   "cell_type": "code",
   "execution_count": null,
   "id": "146ce5ef-2c65-4cf7-978a-8a84e8e12494",
   "metadata": {},
   "outputs": [],
   "source": []
  }
 ],
 "metadata": {
  "kernelspec": {
   "display_name": "Python 3 (ipykernel)",
   "language": "python",
   "name": "python3"
  },
  "language_info": {
   "codemirror_mode": {
    "name": "ipython",
    "version": 3
   },
   "file_extension": ".py",
   "mimetype": "text/x-python",
   "name": "python",
   "nbconvert_exporter": "python",
   "pygments_lexer": "ipython3",
   "version": "3.9.12"
  }
 },
 "nbformat": 4,
 "nbformat_minor": 5
}
