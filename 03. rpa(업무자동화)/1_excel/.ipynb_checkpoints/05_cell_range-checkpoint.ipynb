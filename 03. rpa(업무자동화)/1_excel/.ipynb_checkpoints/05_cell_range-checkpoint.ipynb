{
 "cells": [
  {
   "cell_type": "markdown",
   "id": "88349de0-e9e6-4734-b25d-d9e7dcb6faa4",
   "metadata": {},
   "source": [
    "## 7. 셀 영역 1"
   ]
  },
  {
   "cell_type": "code",
   "execution_count": 1,
   "id": "50123448-f8f7-49a3-8cc0-56e796ed866e",
   "metadata": {},
   "outputs": [],
   "source": [
    "from openpyxl import Workbook\n",
    "from openpyxl.utils.cell import coordinate_from_string\n",
    "import numpy\n",
    "import pandas\n",
    "from random import randint"
   ]
  },
  {
   "cell_type": "code",
   "execution_count": 2,
   "id": "d9dda89b-5cda-4c02-8246-d875283c421a",
   "metadata": {},
   "outputs": [],
   "source": [
    "wb = Workbook()"
   ]
  },
  {
   "cell_type": "code",
   "execution_count": 3,
   "id": "d07b35e6-98fa-4583-afa9-9ec14303d57d",
   "metadata": {},
   "outputs": [],
   "source": [
    "ws = wb.active"
   ]
  },
  {
   "cell_type": "code",
   "execution_count": 4,
   "id": "8991c0ed-7cd2-43e8-b75c-1d1771c88df3",
   "metadata": {},
   "outputs": [],
   "source": [
    "ws.append([\"번호\", \"영어\", \"수학\"])\n",
    "for i in range(1, 11) :\n",
    "    ws.append([i, randint(0, 100), randint(0, 100)])"
   ]
  },
  {
   "cell_type": "code",
   "execution_count": 5,
   "id": "10f2769e-7fb5-4ab4-abd9-faf15abdbd81",
   "metadata": {},
   "outputs": [
    {
     "name": "stdout",
     "output_type": "stream",
     "text": [
      "(<Cell 'Sheet'.B1>, <Cell 'Sheet'.B2>, <Cell 'Sheet'.B3>, <Cell 'Sheet'.B4>, <Cell 'Sheet'.B5>, <Cell 'Sheet'.B6>, <Cell 'Sheet'.B7>, <Cell 'Sheet'.B8>, <Cell 'Sheet'.B9>, <Cell 'Sheet'.B10>, <Cell 'Sheet'.B11>)\n",
      "영어 16 27 73 82 5 76 23 7 44 42 "
     ]
    }
   ],
   "source": [
    "col_B =ws[\"B\"]\n",
    "print(col_B)\n",
    "for cell in col_B :\n",
    "    print(cell.value, end = \" \")"
   ]
  },
  {
   "cell_type": "code",
   "execution_count": 6,
   "id": "d65150ef-e21e-44b0-821e-3e230e782033",
   "metadata": {},
   "outputs": [
    {
     "name": "stdout",
     "output_type": "stream",
     "text": [
      "((<Cell 'Sheet'.B1>, <Cell 'Sheet'.B2>, <Cell 'Sheet'.B3>, <Cell 'Sheet'.B4>, <Cell 'Sheet'.B5>, <Cell 'Sheet'.B6>, <Cell 'Sheet'.B7>, <Cell 'Sheet'.B8>, <Cell 'Sheet'.B9>, <Cell 'Sheet'.B10>, <Cell 'Sheet'.B11>), (<Cell 'Sheet'.C1>, <Cell 'Sheet'.C2>, <Cell 'Sheet'.C3>, <Cell 'Sheet'.C4>, <Cell 'Sheet'.C5>, <Cell 'Sheet'.C6>, <Cell 'Sheet'.C7>, <Cell 'Sheet'.C8>, <Cell 'Sheet'.C9>, <Cell 'Sheet'.C10>, <Cell 'Sheet'.C11>))\n",
      "영어\n",
      "16\n",
      "27\n",
      "73\n",
      "82\n",
      "5\n",
      "76\n",
      "23\n",
      "7\n",
      "44\n",
      "42\n",
      "수학\n",
      "25\n",
      "50\n",
      "97\n",
      "31\n",
      "13\n",
      "37\n",
      "7\n",
      "16\n",
      "99\n",
      "79\n"
     ]
    }
   ],
   "source": [
    "col_range =ws[\"B:C\"]\n",
    "print(col_range)\n",
    "for cols in col_range :\n",
    "    for cell in cols :\n",
    "        print(cell.value)"
   ]
  },
  {
   "cell_type": "code",
   "execution_count": 7,
   "id": "01e1f18c-280d-49e7-bc3b-b3ed8905dae3",
   "metadata": {},
   "outputs": [
    {
     "name": "stdout",
     "output_type": "stream",
     "text": [
      "(<Cell 'Sheet'.A1>, <Cell 'Sheet'.B1>, <Cell 'Sheet'.C1>)\n",
      "번호 영어 수학 "
     ]
    }
   ],
   "source": [
    "row_title = ws[\"1\"]\n",
    "print(row_title)\n",
    "for cell in row_title :\n",
    "    print(cell.value, end = \" \")"
   ]
  },
  {
   "cell_type": "code",
   "execution_count": 8,
   "id": "9b5bc612-be27-4923-ac20-d624b9c8e0dd",
   "metadata": {},
   "outputs": [
    {
     "name": "stdout",
     "output_type": "stream",
     "text": [
      "((<Cell 'Sheet'.A2>, <Cell 'Sheet'.B2>, <Cell 'Sheet'.C2>), (<Cell 'Sheet'.A3>, <Cell 'Sheet'.B3>, <Cell 'Sheet'.C3>), (<Cell 'Sheet'.A4>, <Cell 'Sheet'.B4>, <Cell 'Sheet'.C4>), (<Cell 'Sheet'.A5>, <Cell 'Sheet'.B5>, <Cell 'Sheet'.C5>), (<Cell 'Sheet'.A6>, <Cell 'Sheet'.B6>, <Cell 'Sheet'.C6>))\n"
     ]
    }
   ],
   "source": [
    "row_range =ws[\"2:6\"]\n",
    "print(row_range)"
   ]
  },
  {
   "cell_type": "code",
   "execution_count": 9,
   "id": "829161b7-a33a-406f-977a-e3a1d285cb58",
   "metadata": {},
   "outputs": [
    {
     "name": "stdout",
     "output_type": "stream",
     "text": [
      "1 16 25 \n",
      "2 27 50 \n",
      "3 73 97 \n",
      "4 82 31 \n",
      "5 5 13 \n"
     ]
    }
   ],
   "source": [
    "for rows in row_range :\n",
    "    for cell in rows :\n",
    "        print(cell.value, end = \" \")\n",
    "    print()"
   ]
  },
  {
   "cell_type": "code",
   "execution_count": 10,
   "id": "da7541b0-ec65-4c64-93b1-ccec4943a58b",
   "metadata": {},
   "outputs": [
    {
     "name": "stdout",
     "output_type": "stream",
     "text": [
      "1 16 25 \n",
      "2 27 50 \n",
      "3 73 97 \n",
      "4 82 31 \n",
      "5 5 13 \n",
      "6 76 37 \n",
      "7 23 7 \n",
      "8 7 16 \n",
      "9 44 99 \n",
      "10 42 79 \n"
     ]
    }
   ],
   "source": [
    "row_range =ws[2:ws.max_row]\n",
    "for rows in row_range :\n",
    "    for cell in rows :\n",
    "        print(cell.value, end = \" \")\n",
    "    print()"
   ]
  },
  {
   "cell_type": "code",
   "execution_count": 11,
   "id": "d02ea90a-e0a6-4062-97ff-57b2731fe679",
   "metadata": {},
   "outputs": [
    {
     "name": "stdout",
     "output_type": "stream",
     "text": [
      "A2 B2 C2 \n",
      "A3 B3 C3 \n",
      "A4 B4 C4 \n",
      "A5 B5 C5 \n",
      "A6 B6 C6 \n",
      "A7 B7 C7 \n",
      "A8 B8 C8 \n",
      "A9 B9 C9 \n",
      "A10 B10 C10 \n",
      "A11 B11 C11 \n"
     ]
    }
   ],
   "source": [
    "for rows in row_range :\n",
    "    for cell in rows :\n",
    "        print(cell.coordinate, end = \" \")\n",
    "    print()"
   ]
  },
  {
   "cell_type": "code",
   "execution_count": 12,
   "id": "645cbc3a-04cd-45c5-802a-73ea09b2931a",
   "metadata": {},
   "outputs": [
    {
     "name": "stdout",
     "output_type": "stream",
     "text": [
      "('A', 2) A 2 ('B', 2) B 2 ('C', 2) C 2 \n",
      "('A', 3) A 3 ('B', 3) B 3 ('C', 3) C 3 \n",
      "('A', 4) A 4 ('B', 4) B 4 ('C', 4) C 4 \n",
      "('A', 5) A 5 ('B', 5) B 5 ('C', 5) C 5 \n",
      "('A', 6) A 6 ('B', 6) B 6 ('C', 6) C 6 \n",
      "('A', 7) A 7 ('B', 7) B 7 ('C', 7) C 7 \n",
      "('A', 8) A 8 ('B', 8) B 8 ('C', 8) C 8 \n",
      "('A', 9) A 9 ('B', 9) B 9 ('C', 9) C 9 \n",
      "('A', 10) A 10 ('B', 10) B 10 ('C', 10) C 10 \n",
      "('A', 11) A 11 ('B', 11) B 11 ('C', 11) C 11 \n"
     ]
    }
   ],
   "source": [
    "for rows in row_range :\n",
    "    for cell in rows :\n",
    "        xy = coordinate_from_string(cell.coordinate)\n",
    "        print(xy, end = \" \")\n",
    "        print(xy[0], end = \" \")\n",
    "        print(xy[1], end = \" \")\n",
    "    print()"
   ]
  },
  {
   "cell_type": "code",
   "execution_count": 13,
   "id": "618d077d-e608-4395-8cf2-46b1df19f074",
   "metadata": {},
   "outputs": [
    {
     "name": "stdout",
     "output_type": "stream",
     "text": [
      "A2 B2 C2 \n",
      "A3 B3 C3 \n",
      "A4 B4 C4 \n",
      "A5 B5 C5 \n",
      "A6 B6 C6 \n",
      "A7 B7 C7 \n",
      "A8 B8 C8 \n",
      "A9 B9 C9 \n",
      "A10 B10 C10 \n",
      "A11 B11 C11 \n"
     ]
    }
   ],
   "source": [
    "for rows in row_range :\n",
    "    for cell in rows :\n",
    "        xy = coordinate_from_string(cell.coordinate)\n",
    "        print(xy[0], end = \"\")\n",
    "        print(xy[1], end = \" \")\n",
    "    print()"
   ]
  },
  {
   "cell_type": "markdown",
   "id": "a487bd72-2177-4460-a7e0-2777a404cecd",
   "metadata": {},
   "source": [
    "## 8. 셀 영역 2"
   ]
  },
  {
   "cell_type": "code",
   "execution_count": 14,
   "id": "0cf065f3-1a66-485a-9de1-b7a21fb5563b",
   "metadata": {},
   "outputs": [
    {
     "name": "stdout",
     "output_type": "stream",
     "text": [
      "<generator object Worksheet._cells_by_row at 0x00000206AF39AB30>\n",
      "((<Cell 'Sheet'.A1>, <Cell 'Sheet'.B1>, <Cell 'Sheet'.C1>), (<Cell 'Sheet'.A2>, <Cell 'Sheet'.B2>, <Cell 'Sheet'.C2>), (<Cell 'Sheet'.A3>, <Cell 'Sheet'.B3>, <Cell 'Sheet'.C3>), (<Cell 'Sheet'.A4>, <Cell 'Sheet'.B4>, <Cell 'Sheet'.C4>), (<Cell 'Sheet'.A5>, <Cell 'Sheet'.B5>, <Cell 'Sheet'.C5>), (<Cell 'Sheet'.A6>, <Cell 'Sheet'.B6>, <Cell 'Sheet'.C6>), (<Cell 'Sheet'.A7>, <Cell 'Sheet'.B7>, <Cell 'Sheet'.C7>), (<Cell 'Sheet'.A8>, <Cell 'Sheet'.B8>, <Cell 'Sheet'.C8>), (<Cell 'Sheet'.A9>, <Cell 'Sheet'.B9>, <Cell 'Sheet'.C9>), (<Cell 'Sheet'.A10>, <Cell 'Sheet'.B10>, <Cell 'Sheet'.C10>), (<Cell 'Sheet'.A11>, <Cell 'Sheet'.B11>, <Cell 'Sheet'.C11>))\n"
     ]
    }
   ],
   "source": [
    "print(ws.rows)\n",
    "print(tuple(ws.rows))"
   ]
  },
  {
   "cell_type": "code",
   "execution_count": 15,
   "id": "d0d8b212-3ca2-484d-a22c-c39bef6c94f8",
   "metadata": {},
   "outputs": [
    {
     "name": "stdout",
     "output_type": "stream",
     "text": [
      "((<Cell 'Sheet'.A1>, <Cell 'Sheet'.A2>, <Cell 'Sheet'.A3>, <Cell 'Sheet'.A4>, <Cell 'Sheet'.A5>, <Cell 'Sheet'.A6>, <Cell 'Sheet'.A7>, <Cell 'Sheet'.A8>, <Cell 'Sheet'.A9>, <Cell 'Sheet'.A10>, <Cell 'Sheet'.A11>), (<Cell 'Sheet'.B1>, <Cell 'Sheet'.B2>, <Cell 'Sheet'.B3>, <Cell 'Sheet'.B4>, <Cell 'Sheet'.B5>, <Cell 'Sheet'.B6>, <Cell 'Sheet'.B7>, <Cell 'Sheet'.B8>, <Cell 'Sheet'.B9>, <Cell 'Sheet'.B10>, <Cell 'Sheet'.B11>), (<Cell 'Sheet'.C1>, <Cell 'Sheet'.C2>, <Cell 'Sheet'.C3>, <Cell 'Sheet'.C4>, <Cell 'Sheet'.C5>, <Cell 'Sheet'.C6>, <Cell 'Sheet'.C7>, <Cell 'Sheet'.C8>, <Cell 'Sheet'.C9>, <Cell 'Sheet'.C10>, <Cell 'Sheet'.C11>))\n"
     ]
    }
   ],
   "source": [
    "print(tuple(ws.columns))"
   ]
  },
  {
   "cell_type": "code",
   "execution_count": 16,
   "id": "66ae681f-68b9-4677-83ed-97ab4a91152b",
   "metadata": {},
   "outputs": [
    {
     "name": "stdout",
     "output_type": "stream",
     "text": [
      "수학\n",
      "25\n",
      "50\n",
      "97\n",
      "31\n",
      "13\n",
      "37\n",
      "7\n",
      "16\n",
      "99\n",
      "79\n"
     ]
    }
   ],
   "source": [
    "for row in tuple(ws.rows) :\n",
    "    print(row[2].value)"
   ]
  },
  {
   "cell_type": "code",
   "execution_count": 17,
   "id": "897839e0-4804-40b5-bed0-32e1a0073cae",
   "metadata": {},
   "outputs": [
    {
     "name": "stdout",
     "output_type": "stream",
     "text": [
      "번호\n",
      "영어\n",
      "수학\n"
     ]
    }
   ],
   "source": [
    "for column in tuple(ws.columns) :\n",
    "    print(column[0].value)"
   ]
  },
  {
   "cell_type": "code",
   "execution_count": 18,
   "id": "8448c1a4-0299-4a3e-a2d8-8f21c78ab037",
   "metadata": {},
   "outputs": [
    {
     "name": "stdout",
     "output_type": "stream",
     "text": [
      "수학\n",
      "25\n",
      "50\n",
      "97\n",
      "31\n",
      "13\n",
      "37\n",
      "7\n",
      "16\n",
      "99\n",
      "79\n"
     ]
    }
   ],
   "source": [
    "for row in ws.iter_rows() :\n",
    "    print(row[2].value)"
   ]
  },
  {
   "cell_type": "code",
   "execution_count": 19,
   "id": "64fc7fc3-05ee-41f1-915a-2c8f113d326f",
   "metadata": {},
   "outputs": [
    {
     "name": "stdout",
     "output_type": "stream",
     "text": [
      "번호\n",
      "영어\n",
      "수학\n"
     ]
    }
   ],
   "source": [
    "for column in ws.iter_cols() :\n",
    "    print(column[0].value)"
   ]
  },
  {
   "cell_type": "code",
   "execution_count": 20,
   "id": "ca74f5b0-7209-467a-ad8f-0c2c104dd7ff",
   "metadata": {},
   "outputs": [
    {
     "name": "stdout",
     "output_type": "stream",
     "text": [
      "16 25\n",
      "27 50\n",
      "73 97\n",
      "82 31\n",
      "5 13\n",
      "76 37\n",
      "23 7\n",
      "7 16\n",
      "44 99\n",
      "42 79\n"
     ]
    }
   ],
   "source": [
    "for row in ws.iter_rows(min_row = 2, max_row = 11, min_col = 2, max_col = 3) :\n",
    "    print(row[0].value, row[1].value)"
   ]
  },
  {
   "cell_type": "code",
   "execution_count": 21,
   "id": "5dcdbde6-9029-4b44-84b3-65126959f3b2",
   "metadata": {},
   "outputs": [
    {
     "name": "stdout",
     "output_type": "stream",
     "text": [
      "(<Cell 'Sheet'.B2>, <Cell 'Sheet'.C2>)\n",
      "(<Cell 'Sheet'.B3>, <Cell 'Sheet'.C3>)\n",
      "(<Cell 'Sheet'.B4>, <Cell 'Sheet'.C4>)\n",
      "(<Cell 'Sheet'.B5>, <Cell 'Sheet'.C5>)\n",
      "(<Cell 'Sheet'.B6>, <Cell 'Sheet'.C6>)\n",
      "(<Cell 'Sheet'.B7>, <Cell 'Sheet'.C7>)\n",
      "(<Cell 'Sheet'.B8>, <Cell 'Sheet'.C8>)\n",
      "(<Cell 'Sheet'.B9>, <Cell 'Sheet'.C9>)\n",
      "(<Cell 'Sheet'.B10>, <Cell 'Sheet'.C10>)\n",
      "(<Cell 'Sheet'.B11>, <Cell 'Sheet'.C11>)\n"
     ]
    }
   ],
   "source": [
    "for row in ws.iter_rows(min_row = 2, max_row = 11, min_col = 2, max_col = 3) :\n",
    "    print(row)"
   ]
  },
  {
   "cell_type": "code",
   "execution_count": 22,
   "id": "f5b6c663-e95d-450b-9c54-ed9485144d39",
   "metadata": {},
   "outputs": [
    {
     "name": "stdout",
     "output_type": "stream",
     "text": [
      "(<Cell 'Sheet'.A1>, <Cell 'Sheet'.A2>, <Cell 'Sheet'.A3>, <Cell 'Sheet'.A4>, <Cell 'Sheet'.A5>)\n",
      "(<Cell 'Sheet'.B1>, <Cell 'Sheet'.B2>, <Cell 'Sheet'.B3>, <Cell 'Sheet'.B4>, <Cell 'Sheet'.B5>)\n",
      "(<Cell 'Sheet'.C1>, <Cell 'Sheet'.C2>, <Cell 'Sheet'.C3>, <Cell 'Sheet'.C4>, <Cell 'Sheet'.C5>)\n"
     ]
    }
   ],
   "source": [
    "for col in ws.iter_cols(min_row =1, max_row = 5, min_col = 1, max_col = 3) :\n",
    "    print(col)"
   ]
  },
  {
   "cell_type": "code",
   "execution_count": 23,
   "id": "53935383-96b1-447b-98e6-6b0f379e208d",
   "metadata": {},
   "outputs": [],
   "source": [
    "wb.save(\"sample.xlsx\")"
   ]
  }
 ],
 "metadata": {
  "kernelspec": {
   "display_name": "Python 3 (ipykernel)",
   "language": "python",
   "name": "python3"
  },
  "language_info": {
   "codemirror_mode": {
    "name": "ipython",
    "version": 3
   },
   "file_extension": ".py",
   "mimetype": "text/x-python",
   "name": "python",
   "nbconvert_exporter": "python",
   "pygments_lexer": "ipython3",
   "version": "3.9.12"
  }
 },
 "nbformat": 4,
 "nbformat_minor": 5
}
