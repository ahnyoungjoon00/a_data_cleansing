{
 "cells": [
  {
   "cell_type": "code",
   "execution_count": 1,
   "id": "a83872c2-fd0e-48ad-bd43-847a1b911b6f",
   "metadata": {},
   "outputs": [],
   "source": [
    "from openpyxl import Workbook"
   ]
  },
  {
   "cell_type": "code",
   "execution_count": 2,
   "id": "a5c80de0-5898-49f3-b9a1-454429f4fee5",
   "metadata": {},
   "outputs": [],
   "source": [
    "wb = Workbook()"
   ]
  },
  {
   "cell_type": "code",
   "execution_count": 3,
   "id": "6d60e9a6-dd5b-4945-9091-9ae0651de08c",
   "metadata": {},
   "outputs": [],
   "source": [
    "ws = wb.active"
   ]
  },
  {
   "cell_type": "code",
   "execution_count": 4,
   "id": "da07b7e8-0545-4022-9bc2-0e0a11e06c42",
   "metadata": {},
   "outputs": [],
   "source": [
    "ws.title = \"NadoSheet\""
   ]
  },
  {
   "cell_type": "code",
   "execution_count": 5,
   "id": "037425a1-d2d4-415b-8278-edfcbc7a0f16",
   "metadata": {},
   "outputs": [],
   "source": [
    "ws[\"A1\"] = 1\n",
    "ws[\"A2\"] = 2\n",
    "ws[\"A3\"] = 3\n",
    "\n",
    "ws[\"B1\"] = 4\n",
    "ws[\"B2\"] = 5\n",
    "ws[\"B3\"] = 6"
   ]
  },
  {
   "cell_type": "code",
   "execution_count": 6,
   "id": "31a981f4-4eca-4fb3-a14e-8581dca4e928",
   "metadata": {},
   "outputs": [
    {
     "name": "stdout",
     "output_type": "stream",
     "text": [
      "<Cell 'NadoSheet'.A1>\n"
     ]
    }
   ],
   "source": [
    "print(ws[\"A1\"])"
   ]
  },
  {
   "cell_type": "code",
   "execution_count": 8,
   "id": "1844c07f-fabf-4df5-a1d2-5913aed07170",
   "metadata": {},
   "outputs": [
    {
     "name": "stdout",
     "output_type": "stream",
     "text": [
      "1\n"
     ]
    }
   ],
   "source": [
    "print(ws[\"A1\"].value)"
   ]
  },
  {
   "cell_type": "code",
   "execution_count": 9,
   "id": "8eadcb5b-0c29-4cc1-93f6-6ced965892b3",
   "metadata": {},
   "outputs": [
    {
     "name": "stdout",
     "output_type": "stream",
     "text": [
      "None\n"
     ]
    }
   ],
   "source": [
    "print(ws[\"A10\"].value)"
   ]
  },
  {
   "cell_type": "code",
   "execution_count": 11,
   "id": "b5a4f646-de22-4f9e-97a1-23c79b1d0884",
   "metadata": {},
   "outputs": [
    {
     "name": "stdout",
     "output_type": "stream",
     "text": [
      "1\n"
     ]
    }
   ],
   "source": [
    "print(ws.cell(row =1, column = 1).value)"
   ]
  },
  {
   "cell_type": "code",
   "execution_count": 12,
   "id": "7181121c-e318-48f3-823c-71051db51395",
   "metadata": {},
   "outputs": [
    {
     "name": "stdout",
     "output_type": "stream",
     "text": [
      "4\n"
     ]
    }
   ],
   "source": [
    "print(ws.cell(row = 1, column = 2).value)"
   ]
  },
  {
   "cell_type": "code",
   "execution_count": 15,
   "id": "41ab6b30-42e2-487f-a41f-9e2d9dd4e223",
   "metadata": {},
   "outputs": [],
   "source": [
    "c = ws.cell(column = 3, row = 1, value = 10) # ws[\"C1\"].value = 10"
   ]
  },
  {
   "cell_type": "code",
   "execution_count": 17,
   "id": "3db0e72f-dcc5-49bf-9e9c-d70f3dd3c758",
   "metadata": {},
   "outputs": [
    {
     "name": "stdout",
     "output_type": "stream",
     "text": [
      "10\n"
     ]
    }
   ],
   "source": [
    "print(c.value) # ws[\"C1\"]과 같음"
   ]
  },
  {
   "cell_type": "code",
   "execution_count": 18,
   "id": "a8548187-f12e-4f33-8504-ea7da6fd61d9",
   "metadata": {},
   "outputs": [],
   "source": [
    "from random import *"
   ]
  },
  {
   "cell_type": "code",
   "execution_count": 22,
   "id": "a63fa266-e552-4492-a4cd-475326200463",
   "metadata": {},
   "outputs": [],
   "source": [
    "index = 1\n",
    "for x in range(1, 11) : # 10개 row\n",
    "    for y in range(1, 11) : # 10개 column\n",
    "        ws.cell(row = x, column = y, value = index)\n",
    "        index += 1"
   ]
  },
  {
   "cell_type": "code",
   "execution_count": 23,
   "id": "8ba84ddb-6a48-42b3-87e7-91914f463c00",
   "metadata": {},
   "outputs": [],
   "source": [
    "wb.save(\"sample.xlsx\")"
   ]
  }
 ],
 "metadata": {
  "kernelspec": {
   "display_name": "Python 3 (ipykernel)",
   "language": "python",
   "name": "python3"
  },
  "language_info": {
   "codemirror_mode": {
    "name": "ipython",
    "version": 3
   },
   "file_extension": ".py",
   "mimetype": "text/x-python",
   "name": "python",
   "nbconvert_exporter": "python",
   "pygments_lexer": "ipython3",
   "version": "3.9.12"
  }
 },
 "nbformat": 4,
 "nbformat_minor": 5
}
