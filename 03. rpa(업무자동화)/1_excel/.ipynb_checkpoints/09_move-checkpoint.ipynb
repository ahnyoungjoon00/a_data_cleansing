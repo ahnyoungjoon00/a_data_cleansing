{
 "cells": [
  {
   "cell_type": "code",
   "execution_count": 12,
   "id": "dbb5d4cf-f098-4abe-b0f5-a7a3b4c6d4aa",
   "metadata": {},
   "outputs": [],
   "source": [
    "from openpyxl import load_workbook\n",
    "wb = load_workbook(\"sample.xlsx\")\n",
    "ws = wb.active"
   ]
  },
  {
   "cell_type": "code",
   "execution_count": 7,
   "id": "cbaacccb-8799-4ef0-ad84-d5467fb22a47",
   "metadata": {},
   "outputs": [],
   "source": [
    "ws.move_range(\"B1:C11\", rows = 0, cols = 1)"
   ]
  },
  {
   "cell_type": "code",
   "execution_count": 9,
   "id": "20f8dd8b-f5bf-4ce5-95f5-4035020560b3",
   "metadata": {},
   "outputs": [],
   "source": [
    "ws[\"B1\"].value = \"국어\""
   ]
  },
  {
   "cell_type": "code",
   "execution_count": 13,
   "id": "8db6baef-8327-42a8-954c-d7decdf4b782",
   "metadata": {},
   "outputs": [],
   "source": [
    "ws.move_range(\"C1:C11\", rows = 5, cols = -1)"
   ]
  },
  {
   "cell_type": "code",
   "execution_count": 14,
   "id": "4872b833-af93-481a-8107-5e08efd94ad3",
   "metadata": {},
   "outputs": [],
   "source": [
    "wb.save(\"sample_korean.xlsx\")"
   ]
  }
 ],
 "metadata": {
  "kernelspec": {
   "display_name": "Python 3 (ipykernel)",
   "language": "python",
   "name": "python3"
  },
  "language_info": {
   "codemirror_mode": {
    "name": "ipython",
    "version": 3
   },
   "file_extension": ".py",
   "mimetype": "text/x-python",
   "name": "python",
   "nbconvert_exporter": "python",
   "pygments_lexer": "ipython3",
   "version": "3.9.12"
  }
 },
 "nbformat": 4,
 "nbformat_minor": 5
}
