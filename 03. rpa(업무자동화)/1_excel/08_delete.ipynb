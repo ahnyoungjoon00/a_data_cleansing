{
 "cells": [
  {
   "cell_type": "code",
   "execution_count": 15,
   "id": "e14aed0e-da38-4f54-9635-dc6a45044577",
   "metadata": {},
   "outputs": [],
   "source": [
    "from openpyxl import load_workbook\n",
    "wb = load_workbook(\"sample.xlsx\")\n",
    "ws = wb.active"
   ]
  },
  {
   "cell_type": "code",
   "execution_count": 2,
   "id": "1af1c09b-f33e-4e50-986a-51f353e7e739",
   "metadata": {},
   "outputs": [],
   "source": [
    "ws.delete_rows(8) # 8번째 줄에 있는 7번 학생 데이터 삭제"
   ]
  },
  {
   "cell_type": "code",
   "execution_count": 6,
   "id": "26ed9655-57c8-42fb-a77f-9a9b3058e41f",
   "metadata": {},
   "outputs": [],
   "source": [
    "ws.delete_rows(8, 3) # 8번째 줄부터 3줄 삭제"
   ]
  },
  {
   "cell_type": "code",
   "execution_count": 13,
   "id": "337605b0-6fac-4c7f-9523-525941c22390",
   "metadata": {},
   "outputs": [],
   "source": [
    "ws.delete_cols(2)"
   ]
  },
  {
   "cell_type": "code",
   "execution_count": 16,
   "id": "660af2f9-c995-4939-84f9-df884b71b6d5",
   "metadata": {},
   "outputs": [],
   "source": [
    "ws.delete_cols(2, 2)"
   ]
  },
  {
   "cell_type": "code",
   "execution_count": 18,
   "id": "17a18639-36b4-4210-8c61-310c2d25d327",
   "metadata": {},
   "outputs": [],
   "source": [
    "wb.save(\"sample_delete_row.xlsx\")"
   ]
  }
 ],
 "metadata": {
  "kernelspec": {
   "display_name": "Python 3 (ipykernel)",
   "language": "python",
   "name": "python3"
  },
  "language_info": {
   "codemirror_mode": {
    "name": "ipython",
    "version": 3
   },
   "file_extension": ".py",
   "mimetype": "text/x-python",
   "name": "python",
   "nbconvert_exporter": "python",
   "pygments_lexer": "ipython3",
   "version": "3.9.12"
  }
 },
 "nbformat": 4,
 "nbformat_minor": 5
}
