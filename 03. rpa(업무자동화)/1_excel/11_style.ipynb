{
 "cells": [
  {
   "cell_type": "code",
   "execution_count": 1,
   "id": "f0a0930b-cda0-43dc-8a37-95b62715bb77",
   "metadata": {},
   "outputs": [],
   "source": [
    "from openpyxl.styles import Font, Border, Side\n",
    "from openpyxl import load_workbook\n",
    "wb = load_workbook(\"sample.xlsx\")\n",
    "ws = wb.active"
   ]
  },
  {
   "cell_type": "code",
   "execution_count": 2,
   "id": "bfd1a3f2-4c48-4a22-a682-8cd1f8354f99",
   "metadata": {},
   "outputs": [],
   "source": [
    "a1 = ws[\"A1\"]\n",
    "b1 = ws[\"B1\"]\n",
    "c1 = ws[\"C1\"]"
   ]
  },
  {
   "cell_type": "code",
   "execution_count": 3,
   "id": "be0f1ab8-ddfb-42f2-9f5f-9c2d2c8ed668",
   "metadata": {},
   "outputs": [],
   "source": [
    "ws.column_dimensions[\"A\"].width = 5 # A열 너비 설정"
   ]
  },
  {
   "cell_type": "code",
   "execution_count": 4,
   "id": "ee8611f7-9cd4-44f8-a0d2-c7f4ff93cb1b",
   "metadata": {},
   "outputs": [],
   "source": [
    "ws.row_dimensions[1].height = 50 # 1행 높이 설정"
   ]
  },
  {
   "cell_type": "code",
   "execution_count": 5,
   "id": "5527181d-d72a-4fd1-a3d5-d9883ae366fe",
   "metadata": {},
   "outputs": [],
   "source": [
    "a1.font = Font(color = \"FF0000\", italic = True, bold = True)\n",
    "b1.font = Font(color = \"CC33FF\", name = \"Arial\", strike = True)\n",
    "c1.font = Font(color = \"0000FF\", size = 20, underline = \"single\")\n",
    "# 스타일적용(글자 크기, 글씨체, 굵기 등)"
   ]
  },
  {
   "cell_type": "code",
   "execution_count": 6,
   "id": "b48a2ad6-d586-4290-bd0d-b5bf5a93e257",
   "metadata": {},
   "outputs": [],
   "source": [
    "# 테두리 적용\n",
    "thin_border = Border(left = Side(style = \"thin\"), right = Side(style = \"thin\"), top = Side(style = \"thin\"))\n",
    "a1.border = thin_border\n",
    "b1.border = thin_border\n",
    "c1.border = thin_border"
   ]
  },
  {
   "cell_type": "code",
   "execution_count": 7,
   "id": "fd3ceaf6-7f80-4939-9391-eb1c903917b5",
   "metadata": {},
   "outputs": [],
   "source": [
    "wb.save(\"sample_style.xlsx\")"
   ]
  },
  {
   "cell_type": "code",
   "execution_count": null,
   "id": "8935794d-9f07-4b3d-b7ee-858e6f12082c",
   "metadata": {},
   "outputs": [],
   "source": []
  }
 ],
 "metadata": {
  "kernelspec": {
   "display_name": "Python 3 (ipykernel)",
   "language": "python",
   "name": "python3"
  },
  "language_info": {
   "codemirror_mode": {
    "name": "ipython",
    "version": 3
   },
   "file_extension": ".py",
   "mimetype": "text/x-python",
   "name": "python",
   "nbconvert_exporter": "python",
   "pygments_lexer": "ipython3",
   "version": "3.9.12"
  }
 },
 "nbformat": 4,
 "nbformat_minor": 5
}
