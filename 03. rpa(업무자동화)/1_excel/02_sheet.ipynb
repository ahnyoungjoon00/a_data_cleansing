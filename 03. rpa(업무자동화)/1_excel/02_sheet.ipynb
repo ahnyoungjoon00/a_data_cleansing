{
 "cells": [
  {
   "cell_type": "code",
   "execution_count": 1,
   "id": "2d29d383-3397-4475-9732-7ff672402d78",
   "metadata": {},
   "outputs": [],
   "source": [
    "from openpyxl import Workbook"
   ]
  },
  {
   "cell_type": "code",
   "execution_count": 2,
   "id": "e4e7e6ef-4112-4278-a1da-789979ac6761",
   "metadata": {},
   "outputs": [],
   "source": [
    "wb = Workbook()\n",
    "ws = wb.create_sheet() # 새로운 sheet 기본 이름으로 생성"
   ]
  },
  {
   "cell_type": "code",
   "execution_count": 3,
   "id": "e6a0a94b-1c38-46ad-9fdd-6cc7fe71d455",
   "metadata": {},
   "outputs": [],
   "source": [
    "ws.title = \"Mysheet\""
   ]
  },
  {
   "cell_type": "code",
   "execution_count": 4,
   "id": "9947556e-008f-4f2a-b2e7-ae39eb2b26b4",
   "metadata": {},
   "outputs": [],
   "source": [
    "ws.sheet_properties.tabColor = \"ff66ff\" # RGB형태로 값 넣어주면 탭 색상 변경"
   ]
  },
  {
   "cell_type": "code",
   "execution_count": 5,
   "id": "3036ef45-de7d-4d8c-8bdb-c6cc9c6fe73e",
   "metadata": {},
   "outputs": [],
   "source": [
    "ws1 = wb.create_sheet(\"YourSheet\") # 주어진 이름으로 Sheet 생성\n",
    "#Sheet, MySheet, YourSheet "
   ]
  },
  {
   "cell_type": "code",
   "execution_count": 6,
   "id": "7bfc617d-0aa8-423c-88e1-bb114652839f",
   "metadata": {},
   "outputs": [],
   "source": [
    "ws2 = wb.create_sheet(\"NewSheet\", 2) # 2번째 인덱스에 sheet 생성"
   ]
  },
  {
   "cell_type": "code",
   "execution_count": 7,
   "id": "2725d25b-3e59-4fd3-b71b-05aa6302f63a",
   "metadata": {},
   "outputs": [],
   "source": [
    "new_ws = wb[\"NewSheet\"] # Dict 형태로 sheet에 접근"
   ]
  },
  {
   "cell_type": "code",
   "execution_count": 8,
   "id": "95d9b18a-7887-4afb-8822-3e4d84737055",
   "metadata": {},
   "outputs": [
    {
     "name": "stdout",
     "output_type": "stream",
     "text": [
      "['Sheet', 'Mysheet', 'NewSheet', 'YourSheet']\n"
     ]
    }
   ],
   "source": [
    "print(wb.sheetnames) # 모든 sheet 이름 확인"
   ]
  },
  {
   "cell_type": "code",
   "execution_count": 9,
   "id": "b949ba6a-c316-479b-9576-63a7deb95d71",
   "metadata": {},
   "outputs": [],
   "source": [
    "new_ws[\"A1\"] = \"Test\""
   ]
  },
  {
   "cell_type": "code",
   "execution_count": 10,
   "id": "491efbfc-4b1c-4098-b3b6-33c71d7efb1d",
   "metadata": {},
   "outputs": [],
   "source": [
    "target = wb.copy_worksheet(new_ws)"
   ]
  },
  {
   "cell_type": "code",
   "execution_count": 11,
   "id": "740dbb9f-d856-4052-ae80-ae6737a59301",
   "metadata": {},
   "outputs": [],
   "source": [
    "target.title = \"Copied Sheet\""
   ]
  },
  {
   "cell_type": "code",
   "execution_count": 12,
   "id": "2e87339b-4ba8-4737-ba72-7ba29630ba93",
   "metadata": {},
   "outputs": [],
   "source": [
    "wb.save(\"sample.xlsx\")"
   ]
  },
  {
   "cell_type": "code",
   "execution_count": null,
   "id": "b59ad79d-4f9c-48ba-af64-689e7427b086",
   "metadata": {},
   "outputs": [],
   "source": []
  }
 ],
 "metadata": {
  "kernelspec": {
   "display_name": "Python 3 (ipykernel)",
   "language": "python",
   "name": "python3"
  },
  "language_info": {
   "codemirror_mode": {
    "name": "ipython",
    "version": 3
   },
   "file_extension": ".py",
   "mimetype": "text/x-python",
   "name": "python",
   "nbconvert_exporter": "python",
   "pygments_lexer": "ipython3",
   "version": "3.9.12"
  }
 },
 "nbformat": 4,
 "nbformat_minor": 5
}
