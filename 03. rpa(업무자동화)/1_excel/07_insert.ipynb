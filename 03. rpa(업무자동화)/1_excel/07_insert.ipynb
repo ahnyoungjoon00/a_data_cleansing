{
 "cells": [
  {
   "cell_type": "code",
   "execution_count": 1,
   "id": "5c82caab-7f05-4d33-ad4f-760ed5ba44a1",
   "metadata": {},
   "outputs": [],
   "source": [
    "from openpyxl import load_workbook\n",
    "wb = load_workbook(\"sample.xlsx\")\n",
    "ws = wb.active"
   ]
  },
  {
   "cell_type": "code",
   "execution_count": 2,
   "id": "5fd6d929-8f85-409b-a8e6-dba22cbed123",
   "metadata": {},
   "outputs": [],
   "source": [
    "ws.insert_rows(8) # 8번째 row 비우기"
   ]
  },
  {
   "cell_type": "code",
   "execution_count": 3,
   "id": "8c297a6e-007a-4ff0-b08b-3d60489aeebd",
   "metadata": {},
   "outputs": [],
   "source": [
    "ws.insert_rows(8, 5) # 8번째 주줄 위치에 5줄 추가"
   ]
  },
  {
   "cell_type": "code",
   "execution_count": 4,
   "id": "34e01ced-c416-48f1-b6c9-731e5eca50da",
   "metadata": {},
   "outputs": [],
   "source": [
    "ws.insert_cols(2) # B번째 열이 비워짐(새로운 빈 열이 추가)"
   ]
  },
  {
   "cell_type": "code",
   "execution_count": 5,
   "id": "878e8d73-38d1-48dd-ae76-193e2463d8a2",
   "metadata": {},
   "outputs": [],
   "source": [
    "ws.insert_cols(2, 3) # B번째 열부터 3열 추가"
   ]
  },
  {
   "cell_type": "code",
   "execution_count": 6,
   "id": "170d85a7-4d93-4de6-8372-4b631ee381c7",
   "metadata": {},
   "outputs": [],
   "source": [
    "wb.save(\"sample_insert_rows.xlsx\")"
   ]
  },
  {
   "cell_type": "code",
   "execution_count": null,
   "id": "75e0a693-38d4-431d-b04b-717f55a4e6a5",
   "metadata": {},
   "outputs": [],
   "source": []
  }
 ],
 "metadata": {
  "kernelspec": {
   "display_name": "Python 3 (ipykernel)",
   "language": "python",
   "name": "python3"
  },
  "language_info": {
   "codemirror_mode": {
    "name": "ipython",
    "version": 3
   },
   "file_extension": ".py",
   "mimetype": "text/x-python",
   "name": "python",
   "nbconvert_exporter": "python",
   "pygments_lexer": "ipython3",
   "version": "3.9.12"
  }
 },
 "nbformat": 4,
 "nbformat_minor": 5
}
