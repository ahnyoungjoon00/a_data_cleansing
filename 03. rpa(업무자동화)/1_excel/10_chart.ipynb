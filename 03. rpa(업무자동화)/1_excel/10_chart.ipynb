{
 "cells": [
  {
   "cell_type": "code",
   "execution_count": 4,
   "id": "fb90ecf5-49ff-4ec3-96de-31bca6280ca4",
   "metadata": {},
   "outputs": [],
   "source": [
    "from openpyxl import load_workbook\n",
    "wb = load_workbook(\"sample.xlsx\")\n",
    "ws = wb.active"
   ]
  },
  {
   "cell_type": "code",
   "execution_count": 2,
   "id": "66ccc649-4df5-40af-929e-6f11555990f9",
   "metadata": {},
   "outputs": [],
   "source": [
    "from openpyxl.chart import BarChart, Reference\n",
    "bar_value = Reference(ws, min_row = 2, max_row = 11, min_col = 2, max_col = 3)\n",
    "bar_chart = BarChart()\n",
    "bar_chart.add_data(bar_value)\n",
    "\n",
    "ws.add_chart(bar_chart, \"E1\")"
   ]
  },
  {
   "cell_type": "code",
   "execution_count": 13,
   "id": "9c7612e8-c265-4ad4-8abd-d4e7be93f74f",
   "metadata": {},
   "outputs": [],
   "source": [
    "from openpyxl.chart import BarChart, Reference, LineChart\n",
    "line_value = Reference(ws, min_row = 1, max_row = 11, min_col = 2, max_col = 3)\n",
    "line_chart = LineChart()\n",
    "line_chart.add_data(line_value, titles_from_data = True)\n",
    "line_chart.title = \"성적표\"\n",
    "line_chart.style = 10\n",
    "line_chart.y_axis.title = \"정수\"\n",
    "line_chart.x_axis.title = \"번호\"\n",
    "ws.add_chart(line_chart, \"E1\")\n",
    "\n",
    "# openpyxl 검색해서 들어가면 다양한 예시 볼 수 있음"
   ]
  },
  {
   "cell_type": "code",
   "execution_count": 12,
   "id": "36130a6d-ee17-4909-b288-3281b2cfd152",
   "metadata": {},
   "outputs": [],
   "source": [
    "wb.save(\"sample_chart.xlsx\")"
   ]
  }
 ],
 "metadata": {
  "kernelspec": {
   "display_name": "Python 3 (ipykernel)",
   "language": "python",
   "name": "python3"
  },
  "language_info": {
   "codemirror_mode": {
    "name": "ipython",
    "version": 3
   },
   "file_extension": ".py",
   "mimetype": "text/x-python",
   "name": "python",
   "nbconvert_exporter": "python",
   "pygments_lexer": "ipython3",
   "version": "3.9.12"
  }
 },
 "nbformat": 4,
 "nbformat_minor": 5
}
