{
 "cells": [
  {
   "cell_type": "code",
   "execution_count": 1,
   "id": "eeba767a-3b0f-4ba2-89ea-550db4a7e3f6",
   "metadata": {},
   "outputs": [],
   "source": [
    "# pip install openpyxl --trusted-host pypi.org --trusted-host files.pythonhosted.org"
   ]
  },
  {
   "cell_type": "code",
   "execution_count": 2,
   "id": "8a822110-1ba8-41b9-b96a-a6bb02559059",
   "metadata": {},
   "outputs": [],
   "source": [
    "from openpyxl import Workbook"
   ]
  },
  {
   "cell_type": "code",
   "execution_count": 3,
   "id": "9ccbf273-881c-4556-af24-798dab52a706",
   "metadata": {},
   "outputs": [],
   "source": [
    "wb = Workbook() #새 워크북 생성"
   ]
  },
  {
   "cell_type": "code",
   "execution_count": 4,
   "id": "3a94cbdf-6c48-4022-ac43-b95b9347006c",
   "metadata": {},
   "outputs": [],
   "source": [
    "ws = wb.active # 현재 활성화된 sheet 가져옴"
   ]
  },
  {
   "cell_type": "code",
   "execution_count": 5,
   "id": "02e51d02-8763-4611-9db9-62b9a08b7e50",
   "metadata": {},
   "outputs": [],
   "source": [
    "ws.title = \"NadoSheet\" # sheet 이름 변경"
   ]
  },
  {
   "cell_type": "code",
   "execution_count": 6,
   "id": "cb6cc03e-396a-48e4-8ee7-7b1055fc742e",
   "metadata": {},
   "outputs": [],
   "source": [
    "wb.save(\"sample.xlsx\")"
   ]
  },
  {
   "cell_type": "code",
   "execution_count": 7,
   "id": "287b8f33-ae39-4f7a-8058-1aa2bfcacf44",
   "metadata": {},
   "outputs": [],
   "source": [
    "wb.close()"
   ]
  },
  {
   "cell_type": "code",
   "execution_count": null,
   "id": "8c6edb78-1318-431e-bb37-16796a4e31e7",
   "metadata": {},
   "outputs": [],
   "source": []
  }
 ],
 "metadata": {
  "kernelspec": {
   "display_name": "Python 3 (ipykernel)",
   "language": "python",
   "name": "python3"
  },
  "language_info": {
   "codemirror_mode": {
    "name": "ipython",
    "version": 3
   },
   "file_extension": ".py",
   "mimetype": "text/x-python",
   "name": "python",
   "nbconvert_exporter": "python",
   "pygments_lexer": "ipython3",
   "version": "3.9.12"
  }
 },
 "nbformat": 4,
 "nbformat_minor": 5
}
