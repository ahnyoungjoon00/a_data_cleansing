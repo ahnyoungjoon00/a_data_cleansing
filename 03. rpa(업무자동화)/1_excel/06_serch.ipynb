{
 "cells": [
  {
   "cell_type": "code",
   "execution_count": 1,
   "id": "3f2b647f-0d2e-490d-953b-a227b692d198",
   "metadata": {},
   "outputs": [],
   "source": [
    "from openpyxl import load_workbook\n",
    "wb = load_workbook(\"sample.xlsx\")\n",
    "ws =wb.active"
   ]
  },
  {
   "cell_type": "code",
   "execution_count": 4,
   "id": "68bf77c0-efe5-4327-9392-b71db332ae65",
   "metadata": {},
   "outputs": [
    {
     "name": "stdout",
     "output_type": "stream",
     "text": [
      "4 번 학생은 영어 천재\n"
     ]
    }
   ],
   "source": [
    "for row in ws.iter_rows(min_row =2) :\n",
    "    if int(row[1].value) > 80 :\n",
    "        print(row[0].value, \"번 학생은 영어 천재\")"
   ]
  },
  {
   "cell_type": "code",
   "execution_count": 6,
   "id": "f22e1fbf-a845-49e2-9953-72f55dd58da8",
   "metadata": {},
   "outputs": [],
   "source": [
    "for row in ws.iter_rows(max_row = 1) :\n",
    "    for cell in row :\n",
    "        if cell.value == \"영어\" :\n",
    "            cell.value = \"컴퓨터\""
   ]
  },
  {
   "cell_type": "code",
   "execution_count": 7,
   "id": "88737b48-20f4-4483-be81-8339c22033b0",
   "metadata": {},
   "outputs": [],
   "source": [
    "wb.save(\"sample_modified.xlsx\")"
   ]
  }
 ],
 "metadata": {
  "kernelspec": {
   "display_name": "Python 3 (ipykernel)",
   "language": "python",
   "name": "python3"
  },
  "language_info": {
   "codemirror_mode": {
    "name": "ipython",
    "version": 3
   },
   "file_extension": ".py",
   "mimetype": "text/x-python",
   "name": "python",
   "nbconvert_exporter": "python",
   "pygments_lexer": "ipython3",
   "version": "3.9.12"
  }
 },
 "nbformat": 4,
 "nbformat_minor": 5
}
